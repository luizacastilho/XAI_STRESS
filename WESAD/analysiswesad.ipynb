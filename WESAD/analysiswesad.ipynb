{
 "cells": [
  {
   "cell_type": "code",
   "execution_count": 2,
   "metadata": {},
   "outputs": [],
   "source": [
    "import os\n",
    "import pickle\n",
    "import numpy as np\n",
    "import matplotlib.pyplot as plt\n",
    "import neurokit as nk\n",
    "import seaborn as sns\n",
    "import pandas as pd\n",
    "from scipy.interpolate import interp1d\n",
    "from sklearn import preprocessing, datasets, ensemble, model_selection\n",
    "from sklearn.ensemble import RandomForestClassifier"
   ]
  },
  {
   "cell_type": "code",
   "execution_count": 3,
   "metadata": {},
   "outputs": [],
   "source": [
    "data_set_path = r\"C:\\Users\\luiza\\Documents\\UFSC\\TCC_Datasets\\WESAD\\WESAD\"\n"
   ]
  },
  {
   "cell_type": "raw",
   "metadata": {
    "vscode": {
     "languageId": "raw"
    }
   },
   "source": [
    "#for pasta_numero in range(2, 18):\n",
    "folder_name = f\"S2\"\n",
    "folder_path = os.path.join(data_set_path, folder_name)\n",
    "\n",
    "if os.path.exists(folder_path):\n",
    "    for folder in os.listdir(folder_path):\n",
    "        if folder.endswith(\".pkl\"):\n",
    "            caminho_arquivo_pkl = os.path.join(folder_path, folder)\n",
    "                \n",
    "            # Abrir o arquivo .pkl\n",
    "            with open(caminho_arquivo_pkl, 'rb') as infile:\n",
    "                obj = pickle.load(infile, encoding='latin1')\n",
    "                bvp=obj['signal']['wrist']['BVP'][:,0]#[stress_to_plot]\n",
    "                eda=obj['signal']['wrist']['EDA'][:,0]#[stress_to_plot]\n",
    "                temp=obj['signal']['wrist']['TEMP'][:,0]#[stress_to_plot]\n",
    "                label=obj['label']\n",
    "\n",
    "print(len(bvp), len(eda), len(temp), len(label))\n",
    "\n",
    "# Interpolar os dados bvp para o mesmo comprimento que eda e temp\n",
    "interpolação_bvp = interp1d(np.linspace(0, 1, len(bvp)), bvp)\n",
    "bvp_interp = interpolação_bvp(np.linspace(0, 1, len(eda)))\n",
    "\n",
    "interpolacao_label = interp1d(np.linspace(0,1, len(label)), label)\n",
    "label_interp = interpolacao_label(np.linspace(0,1,len(eda)))\n",
    "# Criar o array numpy combinando os sinais e os rótulos\n",
    "numpy_data = np.column_stack((bvp_interp, eda, temp, label_interp))\n",
    "\n",
    "df = pd.DataFrame(data=numpy_data, columns=[\"bvp\", \"eda\", \"temp\",\"label\"]) "
   ]
  },
  {
   "cell_type": "code",
   "execution_count": 44,
   "metadata": {},
   "outputs": [],
   "source": [
    "# Lista para armazenar os dados combinados de todos os diretórios\n",
    "all_data = []\n",
    "\n",
    "# Lista de diretórios de S2 a S17\n",
    "folders = [f\"S{i}\" for i in range(2, 18)]\n",
    "\n",
    "for folder_name in folders:\n",
    "    folder_path = os.path.join(data_set_path, folder_name)\n",
    "\n",
    "    if os.path.exists(folder_path):\n",
    "        for folder in os.listdir(folder_path):\n",
    "            if folder.endswith(\".pkl\"):\n",
    "                caminho_arquivo_pkl = os.path.join(folder_path, folder)\n",
    "                \n",
    "                # Abrir o arquivo .pkl\n",
    "                with open(caminho_arquivo_pkl, 'rb') as infile:\n",
    "                    obj = pickle.load(infile, encoding='latin1')\n",
    "                    bvp=obj['signal']['wrist']['BVP'][:,0]\n",
    "                    eda=obj['signal']['wrist']['EDA'][:,0]\n",
    "                    temp=obj['signal']['wrist']['TEMP'][:,0]\n",
    "                    label=obj['label']\n",
    "\n"
   ]
  },
  {
   "cell_type": "code",
   "execution_count": 45,
   "metadata": {},
   "outputs": [
    {
     "data": {
      "text/plain": [
       "378880"
      ]
     },
     "execution_count": 45,
     "metadata": {},
     "output_type": "execute_result"
    }
   ],
   "source": [
    "len(bvp)"
   ]
  },
  {
   "cell_type": "code",
   "execution_count": 46,
   "metadata": {},
   "outputs": [
    {
     "data": {
      "text/plain": [
       "23680"
      ]
     },
     "execution_count": 46,
     "metadata": {},
     "output_type": "execute_result"
    }
   ],
   "source": [
    "len(eda)"
   ]
  },
  {
   "cell_type": "code",
   "execution_count": 47,
   "metadata": {},
   "outputs": [
    {
     "data": {
      "text/plain": [
       "4144000"
      ]
     },
     "execution_count": 47,
     "metadata": {},
     "output_type": "execute_result"
    }
   ],
   "source": [
    "len(label)"
   ]
  },
  {
   "cell_type": "code",
   "execution_count": 50,
   "metadata": {},
   "outputs": [],
   "source": [
    "fs_label = 700  # Hz\n",
    "fs_temp_eda = 4  # Hz\n",
    "fs_bvp = 64  # Hz\n",
    "\n",
    "len_label = len(label)\n",
    "len_temp_eda = len(temp)\n",
    "len_bvp = len(bvp)\n",
    "\n",
    "total_time = len_label / fs_label\n",
    "\n",
    "time_label = np.linspace(0, total_time, len_label, endpoint=False)\n",
    "time_temp_eda = np.linspace(0, total_time, len_temp_eda, endpoint=False)\n",
    "time_bvp = np.linspace(0, total_time, len_bvp, endpoint=False)\n",
    "\n",
    "\n",
    "interp_temp = interp1d(time_temp_eda, temp, kind='nearest', fill_value='extrapolate')\n",
    "interp_eda = interp1d(time_temp_eda, eda, kind='nearest', fill_value='extrapolate')\n",
    "interp_bvp = interp1d(time_bvp, bvp, kind='nearest', fill_value='extrapolate')\n",
    "\n",
    "aligned_temp = interp_temp(time_label)\n",
    "aligned_eda = interp_eda(time_label)\n",
    "aligned_bvp = interp_bvp(time_label)"
   ]
  },
  {
   "cell_type": "code",
   "execution_count": 51,
   "metadata": {},
   "outputs": [],
   "source": [
    "hr_data = []\n",
    "folders = [f\"S{i}\" for i in range(2, 18)]\n",
    "\n",
    "\n",
    "for folder_name in folders:\n",
    "    subfolder_name = f\"{folder_name}_E4_Data\"\n",
    "    folder_path = os.path.join(data_set_path, folder_name, subfolder_name)\n",
    "\n",
    "    if os.path.exists(folder_path):\n",
    "        csv_path = os.path.join(folder_path, 'HR.csv')\n",
    "        if os.path.exists(csv_path):\n",
    "            hr = pd.read_csv(csv_path, skiprows=2, usecols=[0], header=None)\n",
    "            hr_data.append(hr)\n",
    "\n",
    "if hr_data:\n",
    "    combined_hr_df = pd.concat(hr_data, ignore_index=True)\n",
    "    # Converte para numpy array\n",
    "    hr = combined_hr_df.iloc[:, 0].to_numpy()\n",
    "\n",
    "fs_hr = 1  # Hz\n",
    "len_hr = len(hr)\n",
    "time_hr = np.linspace(0, total_time, len_hr, endpoint=False)\n",
    "interp_hr = interp1d(time_hr, hr, kind='nearest', fill_value='extrapolate')\n",
    "aligned_hr = interp_hr(time_label)"
   ]
  },
  {
   "cell_type": "code",
   "execution_count": 52,
   "metadata": {},
   "outputs": [],
   "source": [
    "# Criar o array numpy combinando os sinais e os rótulos\n",
    "numpy_data = np.column_stack((aligned_bvp, aligned_hr, aligned_eda, aligned_temp, label))\n",
    "                \n",
    "# Adicionar os dados deste diretório à lista de todos os dados\n",
    "all_data.append(numpy_data)\n",
    "\n",
    "# Converter a lista de arrays numpy em um único array numpy\n",
    "combined_data = np.concatenate(all_data, axis=0)"
   ]
  },
  {
   "cell_type": "code",
   "execution_count": 53,
   "metadata": {},
   "outputs": [],
   "source": [
    "column_names = [\"bvp\", \"hr\", \"eda\", \"temp\", \"label\"]\n",
    "\n",
    "# Criar DataFrame\n",
    "df = pd.DataFrame(data=combined_data, columns=column_names)"
   ]
  },
  {
   "cell_type": "code",
   "execution_count": 54,
   "metadata": {},
   "outputs": [
    {
     "data": {
      "text/html": [
       "<div>\n",
       "<style scoped>\n",
       "    .dataframe tbody tr th:only-of-type {\n",
       "        vertical-align: middle;\n",
       "    }\n",
       "\n",
       "    .dataframe tbody tr th {\n",
       "        vertical-align: top;\n",
       "    }\n",
       "\n",
       "    .dataframe thead th {\n",
       "        text-align: right;\n",
       "    }\n",
       "</style>\n",
       "<table border=\"1\" class=\"dataframe\">\n",
       "  <thead>\n",
       "    <tr style=\"text-align: right;\">\n",
       "      <th></th>\n",
       "      <th>bvp</th>\n",
       "      <th>hr</th>\n",
       "      <th>eda</th>\n",
       "      <th>temp</th>\n",
       "      <th>label</th>\n",
       "    </tr>\n",
       "  </thead>\n",
       "  <tbody>\n",
       "    <tr>\n",
       "      <th>0</th>\n",
       "      <td>-0.49</td>\n",
       "      <td>101.00</td>\n",
       "      <td>2.015176</td>\n",
       "      <td>33.39</td>\n",
       "      <td>0.0</td>\n",
       "    </tr>\n",
       "    <tr>\n",
       "      <th>1</th>\n",
       "      <td>-0.49</td>\n",
       "      <td>101.00</td>\n",
       "      <td>2.015176</td>\n",
       "      <td>33.39</td>\n",
       "      <td>0.0</td>\n",
       "    </tr>\n",
       "    <tr>\n",
       "      <th>2</th>\n",
       "      <td>-0.49</td>\n",
       "      <td>101.00</td>\n",
       "      <td>2.015176</td>\n",
       "      <td>33.39</td>\n",
       "      <td>0.0</td>\n",
       "    </tr>\n",
       "    <tr>\n",
       "      <th>3</th>\n",
       "      <td>-0.49</td>\n",
       "      <td>101.00</td>\n",
       "      <td>2.015176</td>\n",
       "      <td>33.39</td>\n",
       "      <td>0.0</td>\n",
       "    </tr>\n",
       "    <tr>\n",
       "      <th>4</th>\n",
       "      <td>-0.49</td>\n",
       "      <td>101.00</td>\n",
       "      <td>2.015176</td>\n",
       "      <td>33.39</td>\n",
       "      <td>0.0</td>\n",
       "    </tr>\n",
       "    <tr>\n",
       "      <th>...</th>\n",
       "      <td>...</td>\n",
       "      <td>...</td>\n",
       "      <td>...</td>\n",
       "      <td>...</td>\n",
       "      <td>...</td>\n",
       "    </tr>\n",
       "    <tr>\n",
       "      <th>4143995</th>\n",
       "      <td>-6.21</td>\n",
       "      <td>73.65</td>\n",
       "      <td>0.783331</td>\n",
       "      <td>31.81</td>\n",
       "      <td>0.0</td>\n",
       "    </tr>\n",
       "    <tr>\n",
       "      <th>4143996</th>\n",
       "      <td>-6.21</td>\n",
       "      <td>73.65</td>\n",
       "      <td>0.783331</td>\n",
       "      <td>31.81</td>\n",
       "      <td>0.0</td>\n",
       "    </tr>\n",
       "    <tr>\n",
       "      <th>4143997</th>\n",
       "      <td>-6.21</td>\n",
       "      <td>73.65</td>\n",
       "      <td>0.783331</td>\n",
       "      <td>31.81</td>\n",
       "      <td>0.0</td>\n",
       "    </tr>\n",
       "    <tr>\n",
       "      <th>4143998</th>\n",
       "      <td>-6.21</td>\n",
       "      <td>73.65</td>\n",
       "      <td>0.783331</td>\n",
       "      <td>31.81</td>\n",
       "      <td>0.0</td>\n",
       "    </tr>\n",
       "    <tr>\n",
       "      <th>4143999</th>\n",
       "      <td>-6.21</td>\n",
       "      <td>73.65</td>\n",
       "      <td>0.783331</td>\n",
       "      <td>31.81</td>\n",
       "      <td>0.0</td>\n",
       "    </tr>\n",
       "  </tbody>\n",
       "</table>\n",
       "<p>4144000 rows × 5 columns</p>\n",
       "</div>"
      ],
      "text/plain": [
       "          bvp      hr       eda   temp  label\n",
       "0       -0.49  101.00  2.015176  33.39    0.0\n",
       "1       -0.49  101.00  2.015176  33.39    0.0\n",
       "2       -0.49  101.00  2.015176  33.39    0.0\n",
       "3       -0.49  101.00  2.015176  33.39    0.0\n",
       "4       -0.49  101.00  2.015176  33.39    0.0\n",
       "...       ...     ...       ...    ...    ...\n",
       "4143995 -6.21   73.65  0.783331  31.81    0.0\n",
       "4143996 -6.21   73.65  0.783331  31.81    0.0\n",
       "4143997 -6.21   73.65  0.783331  31.81    0.0\n",
       "4143998 -6.21   73.65  0.783331  31.81    0.0\n",
       "4143999 -6.21   73.65  0.783331  31.81    0.0\n",
       "\n",
       "[4144000 rows x 5 columns]"
      ]
     },
     "execution_count": 54,
     "metadata": {},
     "output_type": "execute_result"
    }
   ],
   "source": [
    "df"
   ]
  },
  {
   "cell_type": "code",
   "execution_count": 55,
   "metadata": {},
   "outputs": [],
   "source": [
    "# 0 = not defined / transient, 1 = baseline, 2 = stress, 3 = amusement, 4 = meditation, 5/6/7 = should be ignored in this dataset \n",
    "df = df[df['label'] != 7.0]\n",
    "df= df[df['label'] != 6.0]\n",
    "df= df[df['label'] != 5.0]\n",
    "df= df[df['label'] != 0.0]"
   ]
  },
  {
   "cell_type": "code",
   "execution_count": 56,
   "metadata": {},
   "outputs": [
    {
     "data": {
      "text/html": [
       "<div>\n",
       "<style scoped>\n",
       "    .dataframe tbody tr th:only-of-type {\n",
       "        vertical-align: middle;\n",
       "    }\n",
       "\n",
       "    .dataframe tbody tr th {\n",
       "        vertical-align: top;\n",
       "    }\n",
       "\n",
       "    .dataframe thead th {\n",
       "        text-align: right;\n",
       "    }\n",
       "</style>\n",
       "<table border=\"1\" class=\"dataframe\">\n",
       "  <thead>\n",
       "    <tr style=\"text-align: right;\">\n",
       "      <th></th>\n",
       "      <th>bvp</th>\n",
       "      <th>hr</th>\n",
       "      <th>eda</th>\n",
       "      <th>temp</th>\n",
       "      <th>label</th>\n",
       "    </tr>\n",
       "  </thead>\n",
       "  <tbody>\n",
       "    <tr>\n",
       "      <th>64564</th>\n",
       "      <td>3.93</td>\n",
       "      <td>76.35</td>\n",
       "      <td>2.082985</td>\n",
       "      <td>33.41</td>\n",
       "      <td>1.0</td>\n",
       "    </tr>\n",
       "    <tr>\n",
       "      <th>64565</th>\n",
       "      <td>3.93</td>\n",
       "      <td>76.35</td>\n",
       "      <td>2.082985</td>\n",
       "      <td>33.41</td>\n",
       "      <td>1.0</td>\n",
       "    </tr>\n",
       "    <tr>\n",
       "      <th>64566</th>\n",
       "      <td>3.93</td>\n",
       "      <td>76.35</td>\n",
       "      <td>2.082985</td>\n",
       "      <td>33.41</td>\n",
       "      <td>1.0</td>\n",
       "    </tr>\n",
       "    <tr>\n",
       "      <th>64567</th>\n",
       "      <td>3.93</td>\n",
       "      <td>76.35</td>\n",
       "      <td>2.082985</td>\n",
       "      <td>33.41</td>\n",
       "      <td>1.0</td>\n",
       "    </tr>\n",
       "    <tr>\n",
       "      <th>64568</th>\n",
       "      <td>3.93</td>\n",
       "      <td>76.35</td>\n",
       "      <td>2.082985</td>\n",
       "      <td>33.41</td>\n",
       "      <td>1.0</td>\n",
       "    </tr>\n",
       "    <tr>\n",
       "      <th>...</th>\n",
       "      <td>...</td>\n",
       "      <td>...</td>\n",
       "      <td>...</td>\n",
       "      <td>...</td>\n",
       "      <td>...</td>\n",
       "    </tr>\n",
       "    <tr>\n",
       "      <th>3957259</th>\n",
       "      <td>-17.04</td>\n",
       "      <td>70.73</td>\n",
       "      <td>0.858816</td>\n",
       "      <td>32.23</td>\n",
       "      <td>4.0</td>\n",
       "    </tr>\n",
       "    <tr>\n",
       "      <th>3957260</th>\n",
       "      <td>-17.04</td>\n",
       "      <td>70.73</td>\n",
       "      <td>0.858816</td>\n",
       "      <td>32.23</td>\n",
       "      <td>4.0</td>\n",
       "    </tr>\n",
       "    <tr>\n",
       "      <th>3957261</th>\n",
       "      <td>-17.04</td>\n",
       "      <td>70.73</td>\n",
       "      <td>0.858816</td>\n",
       "      <td>32.23</td>\n",
       "      <td>4.0</td>\n",
       "    </tr>\n",
       "    <tr>\n",
       "      <th>3957262</th>\n",
       "      <td>-17.04</td>\n",
       "      <td>70.73</td>\n",
       "      <td>0.858816</td>\n",
       "      <td>32.23</td>\n",
       "      <td>4.0</td>\n",
       "    </tr>\n",
       "    <tr>\n",
       "      <th>3957263</th>\n",
       "      <td>-17.04</td>\n",
       "      <td>70.73</td>\n",
       "      <td>0.858816</td>\n",
       "      <td>32.23</td>\n",
       "      <td>4.0</td>\n",
       "    </tr>\n",
       "  </tbody>\n",
       "</table>\n",
       "<p>2104900 rows × 5 columns</p>\n",
       "</div>"
      ],
      "text/plain": [
       "           bvp     hr       eda   temp  label\n",
       "64564     3.93  76.35  2.082985  33.41    1.0\n",
       "64565     3.93  76.35  2.082985  33.41    1.0\n",
       "64566     3.93  76.35  2.082985  33.41    1.0\n",
       "64567     3.93  76.35  2.082985  33.41    1.0\n",
       "64568     3.93  76.35  2.082985  33.41    1.0\n",
       "...        ...    ...       ...    ...    ...\n",
       "3957259 -17.04  70.73  0.858816  32.23    4.0\n",
       "3957260 -17.04  70.73  0.858816  32.23    4.0\n",
       "3957261 -17.04  70.73  0.858816  32.23    4.0\n",
       "3957262 -17.04  70.73  0.858816  32.23    4.0\n",
       "3957263 -17.04  70.73  0.858816  32.23    4.0\n",
       "\n",
       "[2104900 rows x 5 columns]"
      ]
     },
     "execution_count": 56,
     "metadata": {},
     "output_type": "execute_result"
    }
   ],
   "source": [
    "df"
   ]
  },
  {
   "cell_type": "code",
   "execution_count": 57,
   "metadata": {},
   "outputs": [],
   "source": [
    "X = df.drop(columns=[\"label\"])  # Remove a coluna \"label\" para obter os recursos\n",
    "y = df[\"label\"] # 0 = not defined / transient, 1 = baseline, 2 = stress, 3 = amusement, 4 = meditation, 5/6/7 = should be ignored in this dataset\n",
    "y = y.astype(int)\n",
    "from sklearn.model_selection import train_test_split\n",
    "X_train, X_test, y_train, y_test = train_test_split(X, y, test_size=0.2, random_state=0)"
   ]
  },
  {
   "cell_type": "code",
   "execution_count": 58,
   "metadata": {},
   "outputs": [
    {
     "data": {
      "text/plain": [
       "1.0"
      ]
     },
     "execution_count": 58,
     "metadata": {},
     "output_type": "execute_result"
    }
   ],
   "source": [
    "from sklearn.ensemble import RandomForestClassifier\n",
    "from sklearn import metrics\n",
    "clf = RandomForestClassifier()\n",
    "clf.fit(X_train, y_train)\n",
    "y_pred = clf.predict(X_test)\n",
    "metrics.accuracy_score(y_test, y_pred)"
   ]
  },
  {
   "cell_type": "markdown",
   "metadata": {},
   "source": [
    "\n",
    "Temperatura"
   ]
  },
  {
   "cell_type": "code",
   "execution_count": 60,
   "metadata": {},
   "outputs": [],
   "source": [
    "temp_min = []\n",
    "temp_max = []\n",
    "temp_mean = []\n",
    "\n",
    "for i in range(0, len(df), 3):\n",
    "    temps = df['temp'].iloc[i:i+3]\n",
    "    temp_min.append(temps.min())\n",
    "    temp_max.append(temps.max())\n",
    "    temp_mean.append(temps.mean())\n",
    "\n",
    "temp_stats = pd.DataFrame({'temp_min': temp_min, 'temp_max': temp_max, 'temp_mean': temp_mean})"
   ]
  },
  {
   "cell_type": "code",
   "execution_count": 61,
   "metadata": {},
   "outputs": [],
   "source": [
    "temp_min_array = np.array(temp_stats['temp_min'])\n",
    "normalized_temp_min = preprocessing.normalize([temp_min_array])\n",
    "temp_max_array = np.array(temp_stats['temp_max'])\n",
    "normalized_temp_max = preprocessing.normalize([temp_max_array])\n",
    "temp_mean_array = np.array(temp_stats['temp_mean'])\n",
    "normalized_temp_mean = preprocessing.normalize([temp_mean_array])\n"
   ]
  },
  {
   "cell_type": "code",
   "execution_count": 62,
   "metadata": {},
   "outputs": [
    {
     "data": {
      "text/html": [
       "<div>\n",
       "<style scoped>\n",
       "    .dataframe tbody tr th:only-of-type {\n",
       "        vertical-align: middle;\n",
       "    }\n",
       "\n",
       "    .dataframe tbody tr th {\n",
       "        vertical-align: top;\n",
       "    }\n",
       "\n",
       "    .dataframe thead th {\n",
       "        text-align: right;\n",
       "    }\n",
       "</style>\n",
       "<table border=\"1\" class=\"dataframe\">\n",
       "  <thead>\n",
       "    <tr style=\"text-align: right;\">\n",
       "      <th></th>\n",
       "      <th>normalized_temp_mean</th>\n",
       "      <th>normalized_temp_max</th>\n",
       "      <th>normalized_temp_min</th>\n",
       "    </tr>\n",
       "  </thead>\n",
       "  <tbody>\n",
       "    <tr>\n",
       "      <th>0</th>\n",
       "      <td>0.001215</td>\n",
       "      <td>0.001215</td>\n",
       "      <td>0.001215</td>\n",
       "    </tr>\n",
       "    <tr>\n",
       "      <th>1</th>\n",
       "      <td>0.001215</td>\n",
       "      <td>0.001215</td>\n",
       "      <td>0.001215</td>\n",
       "    </tr>\n",
       "    <tr>\n",
       "      <th>2</th>\n",
       "      <td>0.001215</td>\n",
       "      <td>0.001215</td>\n",
       "      <td>0.001215</td>\n",
       "    </tr>\n",
       "    <tr>\n",
       "      <th>3</th>\n",
       "      <td>0.001215</td>\n",
       "      <td>0.001215</td>\n",
       "      <td>0.001215</td>\n",
       "    </tr>\n",
       "    <tr>\n",
       "      <th>4</th>\n",
       "      <td>0.001215</td>\n",
       "      <td>0.001215</td>\n",
       "      <td>0.001215</td>\n",
       "    </tr>\n",
       "  </tbody>\n",
       "</table>\n",
       "</div>"
      ],
      "text/plain": [
       "   normalized_temp_mean  normalized_temp_max  normalized_temp_min\n",
       "0              0.001215             0.001215             0.001215\n",
       "1              0.001215             0.001215             0.001215\n",
       "2              0.001215             0.001215             0.001215\n",
       "3              0.001215             0.001215             0.001215\n",
       "4              0.001215             0.001215             0.001215"
      ]
     },
     "execution_count": 62,
     "metadata": {},
     "output_type": "execute_result"
    }
   ],
   "source": [
    "data_temp = {\n",
    "    'normalized_temp_mean': normalized_temp_mean.flatten(),\n",
    "    'normalized_temp_max': normalized_temp_max.flatten(),\n",
    "    'normalized_temp_min': normalized_temp_min.flatten()\n",
    "}\n",
    "\n",
    "df_temp = pd.DataFrame(data_temp)\n",
    "df_temp.head()"
   ]
  },
  {
   "cell_type": "markdown",
   "metadata": {},
   "source": [
    "\n",
    "EDA"
   ]
  },
  {
   "cell_type": "code",
   "execution_count": 63,
   "metadata": {},
   "outputs": [],
   "source": [
    "eda_min = []\n",
    "eda_max = []\n",
    "eda_mean = []\n",
    "for i in range(0, len(df), 3):\n",
    "    eda = df['eda'].iloc[i:i+3]\n",
    "    eda_min.append(eda.min())\n",
    "    eda_max.append(eda.max())\n",
    "    eda_mean.append(eda.mean())\n",
    "\n",
    "eda_stats = pd.DataFrame({'eda_min': eda_min, 'eda_max': eda_max, 'eda_mean': eda_mean})"
   ]
  },
  {
   "cell_type": "code",
   "execution_count": 64,
   "metadata": {},
   "outputs": [
    {
     "name": "stdout",
     "output_type": "stream",
     "text": [
      "    eda_min   eda_max  eda_mean\n",
      "0  2.082985  2.082985  2.082985\n",
      "1  2.082985  2.082985  2.082985\n",
      "2  2.082985  2.082985  2.082985\n",
      "3  2.082985  2.082985  2.082985\n",
      "4  2.082985  2.082985  2.082985\n"
     ]
    }
   ],
   "source": [
    "print(eda_stats.head())"
   ]
  },
  {
   "cell_type": "code",
   "execution_count": 65,
   "metadata": {},
   "outputs": [],
   "source": [
    "eda_min_array = np.array(eda_stats['eda_min'])\n",
    "normalized_eda_min = preprocessing.normalize([eda_min_array])\n",
    "eda_max_array = np.array(eda_stats['eda_max'])\n",
    "normalized_eda_max = preprocessing.normalize([eda_max_array])\n",
    "eda_mean_array = np.array(eda_stats['eda_mean'])\n",
    "normalized_eda_mean = preprocessing.normalize([eda_mean_array])\n"
   ]
  },
  {
   "cell_type": "code",
   "execution_count": 66,
   "metadata": {},
   "outputs": [
    {
     "data": {
      "text/html": [
       "<div>\n",
       "<style scoped>\n",
       "    .dataframe tbody tr th:only-of-type {\n",
       "        vertical-align: middle;\n",
       "    }\n",
       "\n",
       "    .dataframe tbody tr th {\n",
       "        vertical-align: top;\n",
       "    }\n",
       "\n",
       "    .dataframe thead th {\n",
       "        text-align: right;\n",
       "    }\n",
       "</style>\n",
       "<table border=\"1\" class=\"dataframe\">\n",
       "  <thead>\n",
       "    <tr style=\"text-align: right;\">\n",
       "      <th></th>\n",
       "      <th>normalized_eda_mean</th>\n",
       "      <th>normalized_eda_max</th>\n",
       "      <th>normalized_eda_min</th>\n",
       "    </tr>\n",
       "  </thead>\n",
       "  <tbody>\n",
       "    <tr>\n",
       "      <th>0</th>\n",
       "      <td>0.002132</td>\n",
       "      <td>0.002131</td>\n",
       "      <td>0.002132</td>\n",
       "    </tr>\n",
       "    <tr>\n",
       "      <th>1</th>\n",
       "      <td>0.002132</td>\n",
       "      <td>0.002131</td>\n",
       "      <td>0.002132</td>\n",
       "    </tr>\n",
       "    <tr>\n",
       "      <th>2</th>\n",
       "      <td>0.002132</td>\n",
       "      <td>0.002131</td>\n",
       "      <td>0.002132</td>\n",
       "    </tr>\n",
       "    <tr>\n",
       "      <th>3</th>\n",
       "      <td>0.002132</td>\n",
       "      <td>0.002131</td>\n",
       "      <td>0.002132</td>\n",
       "    </tr>\n",
       "    <tr>\n",
       "      <th>4</th>\n",
       "      <td>0.002132</td>\n",
       "      <td>0.002131</td>\n",
       "      <td>0.002132</td>\n",
       "    </tr>\n",
       "  </tbody>\n",
       "</table>\n",
       "</div>"
      ],
      "text/plain": [
       "   normalized_eda_mean  normalized_eda_max  normalized_eda_min\n",
       "0             0.002132            0.002131            0.002132\n",
       "1             0.002132            0.002131            0.002132\n",
       "2             0.002132            0.002131            0.002132\n",
       "3             0.002132            0.002131            0.002132\n",
       "4             0.002132            0.002131            0.002132"
      ]
     },
     "execution_count": 66,
     "metadata": {},
     "output_type": "execute_result"
    }
   ],
   "source": [
    "data_eda = {\n",
    "    'normalized_eda_mean': normalized_eda_mean.flatten(),\n",
    "    'normalized_eda_max': normalized_eda_max.flatten(),\n",
    "    'normalized_eda_min': normalized_eda_min.flatten()\n",
    "}\n",
    "\n",
    "df_eda = pd.DataFrame(data_eda)\n",
    "df_eda.head()"
   ]
  },
  {
   "cell_type": "markdown",
   "metadata": {},
   "source": [
    "HR\n"
   ]
  },
  {
   "cell_type": "code",
   "execution_count": 67,
   "metadata": {},
   "outputs": [],
   "source": [
    "hr_min = []\n",
    "hr_max = []\n",
    "hr_mean = []\n",
    "for i in range(0, len(df), 3):\n",
    "    hr = df['hr'].iloc[i:i+3]\n",
    "    hr_min.append(hr.min())\n",
    "    hr_max.append(hr.max())\n",
    "    hr_mean.append(hr.mean())\n",
    "\n",
    "hr_stats = pd.DataFrame({'hr_min': hr_min, 'hr_max': hr_max, 'hr_mean': hr_mean})\n",
    "\n",
    "hr_min_array = np.array(hr_stats['hr_min'])\n",
    "normalized_hr_min = preprocessing.normalize([hr_min_array])\n",
    "hr_max_array = np.array(hr_stats['hr_max'])\n",
    "normalized_hr_max = preprocessing.normalize([hr_max_array])\n",
    "hr_mean_array = np.array(hr_stats['hr_mean'])\n",
    "normalized_hr_mean = preprocessing.normalize([hr_mean_array])"
   ]
  },
  {
   "cell_type": "code",
   "execution_count": 68,
   "metadata": {},
   "outputs": [
    {
     "data": {
      "text/html": [
       "<div>\n",
       "<style scoped>\n",
       "    .dataframe tbody tr th:only-of-type {\n",
       "        vertical-align: middle;\n",
       "    }\n",
       "\n",
       "    .dataframe tbody tr th {\n",
       "        vertical-align: top;\n",
       "    }\n",
       "\n",
       "    .dataframe thead th {\n",
       "        text-align: right;\n",
       "    }\n",
       "</style>\n",
       "<table border=\"1\" class=\"dataframe\">\n",
       "  <thead>\n",
       "    <tr style=\"text-align: right;\">\n",
       "      <th></th>\n",
       "      <th>normalized_hr_mean</th>\n",
       "      <th>normalized_hr_max</th>\n",
       "      <th>normalized_hr_min</th>\n",
       "    </tr>\n",
       "  </thead>\n",
       "  <tbody>\n",
       "    <tr>\n",
       "      <th>0</th>\n",
       "      <td>0.001189</td>\n",
       "      <td>0.001189</td>\n",
       "      <td>0.001189</td>\n",
       "    </tr>\n",
       "    <tr>\n",
       "      <th>1</th>\n",
       "      <td>0.001189</td>\n",
       "      <td>0.001189</td>\n",
       "      <td>0.001189</td>\n",
       "    </tr>\n",
       "    <tr>\n",
       "      <th>2</th>\n",
       "      <td>0.001189</td>\n",
       "      <td>0.001189</td>\n",
       "      <td>0.001189</td>\n",
       "    </tr>\n",
       "    <tr>\n",
       "      <th>3</th>\n",
       "      <td>0.001189</td>\n",
       "      <td>0.001189</td>\n",
       "      <td>0.001189</td>\n",
       "    </tr>\n",
       "    <tr>\n",
       "      <th>4</th>\n",
       "      <td>0.001189</td>\n",
       "      <td>0.001189</td>\n",
       "      <td>0.001189</td>\n",
       "    </tr>\n",
       "  </tbody>\n",
       "</table>\n",
       "</div>"
      ],
      "text/plain": [
       "   normalized_hr_mean  normalized_hr_max  normalized_hr_min\n",
       "0            0.001189           0.001189           0.001189\n",
       "1            0.001189           0.001189           0.001189\n",
       "2            0.001189           0.001189           0.001189\n",
       "3            0.001189           0.001189           0.001189\n",
       "4            0.001189           0.001189           0.001189"
      ]
     },
     "execution_count": 68,
     "metadata": {},
     "output_type": "execute_result"
    }
   ],
   "source": [
    "data_hr = {\n",
    "    'normalized_hr_mean': normalized_hr_mean.flatten(),\n",
    "    'normalized_hr_max': normalized_hr_max.flatten(),\n",
    "    'normalized_hr_min': normalized_hr_min.flatten()\n",
    "}\n",
    "\n",
    "df_hr = pd.DataFrame(data_hr)\n",
    "df_hr.head()"
   ]
  },
  {
   "cell_type": "code",
   "execution_count": 72,
   "metadata": {},
   "outputs": [
    {
     "data": {
      "text/html": [
       "<div>\n",
       "<style scoped>\n",
       "    .dataframe tbody tr th:only-of-type {\n",
       "        vertical-align: middle;\n",
       "    }\n",
       "\n",
       "    .dataframe tbody tr th {\n",
       "        vertical-align: top;\n",
       "    }\n",
       "\n",
       "    .dataframe thead th {\n",
       "        text-align: right;\n",
       "    }\n",
       "</style>\n",
       "<table border=\"1\" class=\"dataframe\">\n",
       "  <thead>\n",
       "    <tr style=\"text-align: right;\">\n",
       "      <th></th>\n",
       "      <th>normalized_temp_mean</th>\n",
       "      <th>normalized_temp_max</th>\n",
       "      <th>normalized_temp_min</th>\n",
       "      <th>normalized_eda_mean</th>\n",
       "      <th>normalized_eda_max</th>\n",
       "      <th>normalized_eda_min</th>\n",
       "      <th>normalized_hr_mean</th>\n",
       "      <th>normalized_hr_max</th>\n",
       "      <th>normalized_hr_min</th>\n",
       "    </tr>\n",
       "  </thead>\n",
       "  <tbody>\n",
       "    <tr>\n",
       "      <th>0</th>\n",
       "      <td>0.001215</td>\n",
       "      <td>0.001215</td>\n",
       "      <td>0.001215</td>\n",
       "      <td>0.002132</td>\n",
       "      <td>0.002131</td>\n",
       "      <td>0.002132</td>\n",
       "      <td>0.001189</td>\n",
       "      <td>0.001189</td>\n",
       "      <td>0.001189</td>\n",
       "    </tr>\n",
       "    <tr>\n",
       "      <th>1</th>\n",
       "      <td>0.001215</td>\n",
       "      <td>0.001215</td>\n",
       "      <td>0.001215</td>\n",
       "      <td>0.002132</td>\n",
       "      <td>0.002131</td>\n",
       "      <td>0.002132</td>\n",
       "      <td>0.001189</td>\n",
       "      <td>0.001189</td>\n",
       "      <td>0.001189</td>\n",
       "    </tr>\n",
       "    <tr>\n",
       "      <th>2</th>\n",
       "      <td>0.001215</td>\n",
       "      <td>0.001215</td>\n",
       "      <td>0.001215</td>\n",
       "      <td>0.002132</td>\n",
       "      <td>0.002131</td>\n",
       "      <td>0.002132</td>\n",
       "      <td>0.001189</td>\n",
       "      <td>0.001189</td>\n",
       "      <td>0.001189</td>\n",
       "    </tr>\n",
       "    <tr>\n",
       "      <th>3</th>\n",
       "      <td>0.001215</td>\n",
       "      <td>0.001215</td>\n",
       "      <td>0.001215</td>\n",
       "      <td>0.002132</td>\n",
       "      <td>0.002131</td>\n",
       "      <td>0.002132</td>\n",
       "      <td>0.001189</td>\n",
       "      <td>0.001189</td>\n",
       "      <td>0.001189</td>\n",
       "    </tr>\n",
       "    <tr>\n",
       "      <th>4</th>\n",
       "      <td>0.001215</td>\n",
       "      <td>0.001215</td>\n",
       "      <td>0.001215</td>\n",
       "      <td>0.002132</td>\n",
       "      <td>0.002131</td>\n",
       "      <td>0.002132</td>\n",
       "      <td>0.001189</td>\n",
       "      <td>0.001189</td>\n",
       "      <td>0.001189</td>\n",
       "    </tr>\n",
       "  </tbody>\n",
       "</table>\n",
       "</div>"
      ],
      "text/plain": [
       "   normalized_temp_mean  normalized_temp_max  normalized_temp_min  \\\n",
       "0              0.001215             0.001215             0.001215   \n",
       "1              0.001215             0.001215             0.001215   \n",
       "2              0.001215             0.001215             0.001215   \n",
       "3              0.001215             0.001215             0.001215   \n",
       "4              0.001215             0.001215             0.001215   \n",
       "\n",
       "   normalized_eda_mean  normalized_eda_max  normalized_eda_min  \\\n",
       "0             0.002132            0.002131            0.002132   \n",
       "1             0.002132            0.002131            0.002132   \n",
       "2             0.002132            0.002131            0.002132   \n",
       "3             0.002132            0.002131            0.002132   \n",
       "4             0.002132            0.002131            0.002132   \n",
       "\n",
       "   normalized_hr_mean  normalized_hr_max  normalized_hr_min  \n",
       "0            0.001189           0.001189           0.001189  \n",
       "1            0.001189           0.001189           0.001189  \n",
       "2            0.001189           0.001189           0.001189  \n",
       "3            0.001189           0.001189           0.001189  \n",
       "4            0.001189           0.001189           0.001189  "
      ]
     },
     "execution_count": 72,
     "metadata": {},
     "output_type": "execute_result"
    }
   ],
   "source": [
    "df_normalizado = pd.concat([df_temp, df_eda, df_hr], axis=1)\n",
    "df_normalizado.head()"
   ]
  },
  {
   "cell_type": "code",
   "execution_count": 73,
   "metadata": {},
   "outputs": [
    {
     "data": {
      "text/html": [
       "<div>\n",
       "<style scoped>\n",
       "    .dataframe tbody tr th:only-of-type {\n",
       "        vertical-align: middle;\n",
       "    }\n",
       "\n",
       "    .dataframe tbody tr th {\n",
       "        vertical-align: top;\n",
       "    }\n",
       "\n",
       "    .dataframe thead th {\n",
       "        text-align: right;\n",
       "    }\n",
       "</style>\n",
       "<table border=\"1\" class=\"dataframe\">\n",
       "  <thead>\n",
       "    <tr style=\"text-align: right;\">\n",
       "      <th></th>\n",
       "      <th>normalized_temp_mean</th>\n",
       "      <th>normalized_temp_max</th>\n",
       "      <th>normalized_temp_min</th>\n",
       "      <th>normalized_eda_mean</th>\n",
       "      <th>normalized_eda_max</th>\n",
       "      <th>normalized_eda_min</th>\n",
       "      <th>normalized_hr_mean</th>\n",
       "      <th>normalized_hr_max</th>\n",
       "      <th>normalized_hr_min</th>\n",
       "    </tr>\n",
       "  </thead>\n",
       "  <tbody>\n",
       "    <tr>\n",
       "      <th>701629</th>\n",
       "      <td>0.001172</td>\n",
       "      <td>0.001172</td>\n",
       "      <td>0.001172</td>\n",
       "      <td>0.000879</td>\n",
       "      <td>0.000879</td>\n",
       "      <td>0.000879</td>\n",
       "      <td>0.001102</td>\n",
       "      <td>0.001102</td>\n",
       "      <td>0.001102</td>\n",
       "    </tr>\n",
       "    <tr>\n",
       "      <th>701630</th>\n",
       "      <td>0.001172</td>\n",
       "      <td>0.001172</td>\n",
       "      <td>0.001172</td>\n",
       "      <td>0.000879</td>\n",
       "      <td>0.000879</td>\n",
       "      <td>0.000879</td>\n",
       "      <td>0.001102</td>\n",
       "      <td>0.001102</td>\n",
       "      <td>0.001102</td>\n",
       "    </tr>\n",
       "    <tr>\n",
       "      <th>701631</th>\n",
       "      <td>0.001172</td>\n",
       "      <td>0.001172</td>\n",
       "      <td>0.001172</td>\n",
       "      <td>0.000879</td>\n",
       "      <td>0.000879</td>\n",
       "      <td>0.000879</td>\n",
       "      <td>0.001102</td>\n",
       "      <td>0.001102</td>\n",
       "      <td>0.001102</td>\n",
       "    </tr>\n",
       "    <tr>\n",
       "      <th>701632</th>\n",
       "      <td>0.001172</td>\n",
       "      <td>0.001172</td>\n",
       "      <td>0.001172</td>\n",
       "      <td>0.000879</td>\n",
       "      <td>0.000879</td>\n",
       "      <td>0.000879</td>\n",
       "      <td>0.001102</td>\n",
       "      <td>0.001102</td>\n",
       "      <td>0.001102</td>\n",
       "    </tr>\n",
       "    <tr>\n",
       "      <th>701633</th>\n",
       "      <td>0.001172</td>\n",
       "      <td>0.001172</td>\n",
       "      <td>0.001172</td>\n",
       "      <td>0.000879</td>\n",
       "      <td>0.000879</td>\n",
       "      <td>0.000879</td>\n",
       "      <td>0.001102</td>\n",
       "      <td>0.001102</td>\n",
       "      <td>0.001102</td>\n",
       "    </tr>\n",
       "  </tbody>\n",
       "</table>\n",
       "</div>"
      ],
      "text/plain": [
       "        normalized_temp_mean  normalized_temp_max  normalized_temp_min  \\\n",
       "701629              0.001172             0.001172             0.001172   \n",
       "701630              0.001172             0.001172             0.001172   \n",
       "701631              0.001172             0.001172             0.001172   \n",
       "701632              0.001172             0.001172             0.001172   \n",
       "701633              0.001172             0.001172             0.001172   \n",
       "\n",
       "        normalized_eda_mean  normalized_eda_max  normalized_eda_min  \\\n",
       "701629             0.000879            0.000879            0.000879   \n",
       "701630             0.000879            0.000879            0.000879   \n",
       "701631             0.000879            0.000879            0.000879   \n",
       "701632             0.000879            0.000879            0.000879   \n",
       "701633             0.000879            0.000879            0.000879   \n",
       "\n",
       "        normalized_hr_mean  normalized_hr_max  normalized_hr_min  \n",
       "701629            0.001102           0.001102           0.001102  \n",
       "701630            0.001102           0.001102           0.001102  \n",
       "701631            0.001102           0.001102           0.001102  \n",
       "701632            0.001102           0.001102           0.001102  \n",
       "701633            0.001102           0.001102           0.001102  "
      ]
     },
     "execution_count": 73,
     "metadata": {},
     "output_type": "execute_result"
    }
   ],
   "source": [
    "df_normalizado.tail()"
   ]
  },
  {
   "cell_type": "markdown",
   "metadata": {},
   "source": [
    "Random Forest"
   ]
  },
  {
   "cell_type": "code",
   "execution_count": 74,
   "metadata": {},
   "outputs": [
    {
     "data": {
      "text/html": [
       "<div>\n",
       "<style scoped>\n",
       "    .dataframe tbody tr th:only-of-type {\n",
       "        vertical-align: middle;\n",
       "    }\n",
       "\n",
       "    .dataframe tbody tr th {\n",
       "        vertical-align: top;\n",
       "    }\n",
       "\n",
       "    .dataframe thead th {\n",
       "        text-align: right;\n",
       "    }\n",
       "</style>\n",
       "<table border=\"1\" class=\"dataframe\">\n",
       "  <thead>\n",
       "    <tr style=\"text-align: right;\">\n",
       "      <th></th>\n",
       "      <th>label_mean</th>\n",
       "    </tr>\n",
       "  </thead>\n",
       "  <tbody>\n",
       "    <tr>\n",
       "      <th>0</th>\n",
       "      <td>1.0</td>\n",
       "    </tr>\n",
       "    <tr>\n",
       "      <th>1</th>\n",
       "      <td>1.0</td>\n",
       "    </tr>\n",
       "    <tr>\n",
       "      <th>2</th>\n",
       "      <td>1.0</td>\n",
       "    </tr>\n",
       "    <tr>\n",
       "      <th>3</th>\n",
       "      <td>1.0</td>\n",
       "    </tr>\n",
       "    <tr>\n",
       "      <th>4</th>\n",
       "      <td>1.0</td>\n",
       "    </tr>\n",
       "  </tbody>\n",
       "</table>\n",
       "</div>"
      ],
      "text/plain": [
       "   label_mean\n",
       "0         1.0\n",
       "1         1.0\n",
       "2         1.0\n",
       "3         1.0\n",
       "4         1.0"
      ]
     },
     "execution_count": 74,
     "metadata": {},
     "output_type": "execute_result"
    }
   ],
   "source": [
    "label_mean = []\n",
    "for i in range(0, len(df), 3):\n",
    "    label = df['label'].iloc[i:i+3] \n",
    "    label_mean.append(label.mean())\n",
    "\n",
    "label_stats = pd.DataFrame({'label_mean': label_mean})\n",
    "label_stats.head()"
   ]
  },
  {
   "cell_type": "code",
   "execution_count": 75,
   "metadata": {},
   "outputs": [
    {
     "data": {
      "text/html": [
       "<div>\n",
       "<style scoped>\n",
       "    .dataframe tbody tr th:only-of-type {\n",
       "        vertical-align: middle;\n",
       "    }\n",
       "\n",
       "    .dataframe tbody tr th {\n",
       "        vertical-align: top;\n",
       "    }\n",
       "\n",
       "    .dataframe thead th {\n",
       "        text-align: right;\n",
       "    }\n",
       "</style>\n",
       "<table border=\"1\" class=\"dataframe\">\n",
       "  <thead>\n",
       "    <tr style=\"text-align: right;\">\n",
       "      <th></th>\n",
       "      <th>label_mean</th>\n",
       "    </tr>\n",
       "  </thead>\n",
       "  <tbody>\n",
       "    <tr>\n",
       "      <th>701629</th>\n",
       "      <td>4.0</td>\n",
       "    </tr>\n",
       "    <tr>\n",
       "      <th>701630</th>\n",
       "      <td>4.0</td>\n",
       "    </tr>\n",
       "    <tr>\n",
       "      <th>701631</th>\n",
       "      <td>4.0</td>\n",
       "    </tr>\n",
       "    <tr>\n",
       "      <th>701632</th>\n",
       "      <td>4.0</td>\n",
       "    </tr>\n",
       "    <tr>\n",
       "      <th>701633</th>\n",
       "      <td>4.0</td>\n",
       "    </tr>\n",
       "  </tbody>\n",
       "</table>\n",
       "</div>"
      ],
      "text/plain": [
       "        label_mean\n",
       "701629         4.0\n",
       "701630         4.0\n",
       "701631         4.0\n",
       "701632         4.0\n",
       "701633         4.0"
      ]
     },
     "execution_count": 75,
     "metadata": {},
     "output_type": "execute_result"
    }
   ],
   "source": [
    "label_stats.tail()"
   ]
  },
  {
   "cell_type": "code",
   "execution_count": 76,
   "metadata": {},
   "outputs": [],
   "source": [
    "train_set = df_normalizado\n",
    "labels = np.array(label_stats, dtype=int)\n",
    "X_train, X_test, y_train, y_test = model_selection.train_test_split(train_set, labels, random_state=0)"
   ]
  },
  {
   "cell_type": "code",
   "execution_count": 77,
   "metadata": {},
   "outputs": [
    {
     "data": {
      "text/plain": [
       "0.9999942990382478"
      ]
     },
     "execution_count": 77,
     "metadata": {},
     "output_type": "execute_result"
    }
   ],
   "source": [
    "# acurácia do rf\n",
    "clf = RandomForestClassifier(random_state=42, n_estimators=50, n_jobs=-1)\n",
    "clf.fit(X_train, y_train.ravel())\n",
    "y_pred = clf.predict(X_test)\n",
    "metrics.accuracy_score(y_test, y_pred)"
   ]
  },
  {
   "cell_type": "code",
   "execution_count": 78,
   "metadata": {},
   "outputs": [
    {
     "data": {
      "image/png": "[encoded data removed]",
      "text/plain": [
       "<Figure size 640x480 with 1 Axes>"
      ]
     },
     "metadata": {},
     "output_type": "display_data"
    }
   ],
   "source": [
    "# -- feature importance graph\n",
    "importances = clf.feature_importances_\n",
    "indices = np.argsort(importances)\n",
    "features = train_set.columns\n",
    "plt.title('Feature Importances')\n",
    "j = 9   # top j importance\n",
    "plt.barh(range(j), importances[indices][len(indices)-j:], color='g', align='center')\n",
    "plt.yticks(range(j), [features[i] for i in indices[len(indices)-j:]])\n",
    "plt.xlabel('Relative Importance')\n",
    "plt.show()"
   ]
  },
  {
   "cell_type": "code",
   "execution_count": 79,
   "metadata": {},
   "outputs": [
    {
     "data": {
      "image/png": "[encoded data removed]",
      "text/plain": [
       "<Figure size 640x480 with 1 Axes>"
      ]
     },
     "metadata": {},
     "output_type": "display_data"
    }
   ],
   "source": [
    "num_execucoes = 100\n",
    "importancias_medias = np.zeros(X_train.shape[1])  # Lista para armazenar as importâncias médias das características\n",
    "\n",
    "for _ in range(num_execucoes):\n",
    "    clf = RandomForestClassifier(n_estimators=50, n_jobs=-1, random_state=None) \n",
    "    clf.fit(X_train, y_train.ravel()) \n",
    "    \n",
    "    importancias = clf.feature_importances_\n",
    "    importancias_medias += importancias\n",
    "\n",
    "importancias_medias /= num_execucoes # Calcular a média das importâncias das características\n",
    "\n",
    "indices = np.argsort(importancias_medias)\n",
    "plt.title('Média das Importâncias das Características')\n",
    "j = 9   # top j importância\n",
    "plt.barh(range(j), importancias_medias[indices][len(indices)-j:], color='g', align='center')\n",
    "plt.yticks(range(j), [features[i] for i in indices[len(indices)-j:]])\n",
    "plt.xlabel('Importância Relativa Média')\n",
    "plt.show()"
   ]
  }
 ],
 "metadata": {
  "kernelspec": {
   "display_name": "Python 3",
   "language": "python",
   "name": "python3"
  },
  "language_info": {
   "codemirror_mode": {
    "name": "ipython",
    "version": 3
   },
   "file_extension": ".py",
   "mimetype": "text/x-python",
   "name": "python",
   "nbconvert_exporter": "python",
   "pygments_lexer": "ipython3",
   "version": "3.10.6"
  }
 },
 "nbformat": 4,
 "nbformat_minor": 2
}

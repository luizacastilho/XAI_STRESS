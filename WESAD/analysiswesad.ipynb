{
 "cells": [
  {
   "cell_type": "code",
   "execution_count": 83,
   "metadata": {},
   "outputs": [],
   "source": [
    "import os\n",
    "import pickle\n",
    "import numpy as np\n",
    "import matplotlib.pyplot as plt\n",
    "import neurokit as nk\n",
    "import seaborn as sns\n",
    "import pandas as pd\n",
    "from scipy.interpolate import interp1d\n",
    "from sklearn import preprocessing, datasets, ensemble, model_selection\n",
    "from sklearn.ensemble import RandomForestClassifier"
   ]
  },
  {
   "cell_type": "code",
   "execution_count": 84,
   "metadata": {},
   "outputs": [],
   "source": [
    "data_set_path = r\"C:\\Users\\luiza\\Documents\\UFSC\\TCC_Datasets\\WESAD\\WESAD\"\n"
   ]
  },
  {
   "cell_type": "raw",
   "metadata": {
    "vscode": {
     "languageId": "raw"
    }
   },
   "source": [
    "#for pasta_numero in range(2, 18):\n",
    "folder_name = f\"S2\"\n",
    "folder_path = os.path.join(data_set_path, folder_name)\n",
    "\n",
    "if os.path.exists(folder_path):\n",
    "    for folder in os.listdir(folder_path):\n",
    "        if folder.endswith(\".pkl\"):\n",
    "            caminho_arquivo_pkl = os.path.join(folder_path, folder)\n",
    "                \n",
    "            # Abrir o arquivo .pkl\n",
    "            with open(caminho_arquivo_pkl, 'rb') as infile:\n",
    "                obj = pickle.load(infile, encoding='latin1')\n",
    "                bvp=obj['signal']['wrist']['BVP'][:,0]#[stress_to_plot]\n",
    "                eda=obj['signal']['wrist']['EDA'][:,0]#[stress_to_plot]\n",
    "                temp=obj['signal']['wrist']['TEMP'][:,0]#[stress_to_plot]\n",
    "                label=obj['label']\n",
    "\n",
    "print(len(bvp), len(eda), len(temp), len(label))\n",
    "\n",
    "# Interpolar os dados bvp para o mesmo comprimento que eda e temp\n",
    "interpolação_bvp = interp1d(np.linspace(0, 1, len(bvp)), bvp)\n",
    "bvp_interp = interpolação_bvp(np.linspace(0, 1, len(eda)))\n",
    "\n",
    "interpolacao_label = interp1d(np.linspace(0,1, len(label)), label)\n",
    "label_interp = interpolacao_label(np.linspace(0,1,len(eda)))\n",
    "# Criar o array numpy combinando os sinais e os rótulos\n",
    "numpy_data = np.column_stack((bvp_interp, eda, temp, label_interp))\n",
    "\n",
    "df = pd.DataFrame(data=numpy_data, columns=[\"bvp\", \"eda\", \"temp\",\"label\"]) "
   ]
  },
  {
   "cell_type": "code",
   "execution_count": 85,
   "metadata": {},
   "outputs": [],
   "source": [
    "# Lista para armazenar os dados combinados de todos os diretórios\n",
    "all_data = []\n",
    "\n",
    "# Lista de diretórios de S2 a S17\n",
    "folders = [f\"S{i}\" for i in range(2, 18)]\n",
    "\n",
    "for folder_name in folders:\n",
    "    folder_path = os.path.join(data_set_path, folder_name)\n",
    "\n",
    "    if os.path.exists(folder_path):\n",
    "        for folder in os.listdir(folder_path):\n",
    "            if folder.endswith(\".pkl\"):\n",
    "                caminho_arquivo_pkl = os.path.join(folder_path, folder)\n",
    "                \n",
    "                # Abrir o arquivo .pkl\n",
    "                with open(caminho_arquivo_pkl, 'rb') as infile:\n",
    "                    obj = pickle.load(infile, encoding='latin1')\n",
    "                    bvp=obj['signal']['wrist']['BVP'][:,0]\n",
    "                    eda=obj['signal']['wrist']['EDA'][:,0]\n",
    "                    temp=obj['signal']['wrist']['TEMP'][:,0]\n",
    "                    label=obj['label']\n",
    "\n"
   ]
  },
  {
   "cell_type": "code",
   "execution_count": 86,
   "metadata": {},
   "outputs": [],
   "source": [
    "fs_label = 700  # Hz\n",
    "fs_temp_eda = 4  # Hz\n",
    "fs_bvp = 64  # Hz\n",
    "\n",
    "len_label = len(label)\n",
    "len_temp_eda = len(temp)\n",
    "len_bvp = len(bvp)\n",
    "\n",
    "total_time = len_label / fs_label\n",
    "\n",
    "time_label = np.linspace(0, total_time, len_label, endpoint=False)\n",
    "time_temp_eda = np.linspace(0, total_time, len_temp_eda, endpoint=False)\n",
    "time_bvp = np.linspace(0, total_time, len_bvp, endpoint=False)\n",
    "\n",
    "\n",
    "interp_temp = interp1d(time_temp_eda, temp, kind='nearest', fill_value='extrapolate')\n",
    "interp_eda = interp1d(time_temp_eda, eda, kind='nearest', fill_value='extrapolate')\n",
    "interp_bvp = interp1d(time_bvp, bvp, kind='nearest', fill_value='extrapolate')\n",
    "\n",
    "aligned_temp = interp_temp(time_label)\n",
    "aligned_eda = interp_eda(time_label)\n",
    "aligned_bvp = interp_bvp(time_label)"
   ]
  },
  {
   "cell_type": "code",
   "execution_count": 87,
   "metadata": {},
   "outputs": [],
   "source": [
    "hr_data = []\n",
    "folders = [f\"S{i}\" for i in range(2, 18)]\n",
    "\n",
    "\n",
    "for folder_name in folders:\n",
    "    subfolder_name = f\"{folder_name}_E4_Data\"\n",
    "    folder_path = os.path.join(data_set_path, folder_name, subfolder_name)\n",
    "\n",
    "    if os.path.exists(folder_path):\n",
    "        csv_path = os.path.join(folder_path, 'HR.csv')\n",
    "        if os.path.exists(csv_path):\n",
    "            hr = pd.read_csv(csv_path, skiprows=2, usecols=[0], header=None)\n",
    "            hr_data.append(hr)\n",
    "\n",
    "if hr_data:\n",
    "    combined_hr_df = pd.concat(hr_data, ignore_index=True)\n",
    "    # Converte para numpy array\n",
    "    hr = combined_hr_df.iloc[:, 0].to_numpy()\n",
    "\n",
    "fs_hr = 1  # Hz\n",
    "len_hr = len(hr)\n",
    "time_hr = np.linspace(0, total_time, len_hr, endpoint=False)\n",
    "interp_hr = interp1d(time_hr, hr, kind='nearest', fill_value='extrapolate')\n",
    "aligned_hr = interp_hr(time_label)"
   ]
  },
  {
   "cell_type": "code",
   "execution_count": 88,
   "metadata": {},
   "outputs": [],
   "source": [
    "numpy_data = np.column_stack((aligned_bvp, aligned_hr, aligned_eda, aligned_temp, label))\n",
    "all_data.append(numpy_data)\n",
    "combined_data = np.concatenate(all_data, axis=0)\n",
    "column_names = [\"bvp\", \"hr\", \"eda\", \"temp\", \"label\"]\n",
    "df = pd.DataFrame(data=combined_data, columns=column_names)"
   ]
  },
  {
   "cell_type": "code",
   "execution_count": 89,
   "metadata": {},
   "outputs": [
    {
     "data": {
      "text/html": [
       "<div>\n",
       "<style scoped>\n",
       "    .dataframe tbody tr th:only-of-type {\n",
       "        vertical-align: middle;\n",
       "    }\n",
       "\n",
       "    .dataframe tbody tr th {\n",
       "        vertical-align: top;\n",
       "    }\n",
       "\n",
       "    .dataframe thead th {\n",
       "        text-align: right;\n",
       "    }\n",
       "</style>\n",
       "<table border=\"1\" class=\"dataframe\">\n",
       "  <thead>\n",
       "    <tr style=\"text-align: right;\">\n",
       "      <th></th>\n",
       "      <th>bvp</th>\n",
       "      <th>hr</th>\n",
       "      <th>eda</th>\n",
       "      <th>temp</th>\n",
       "      <th>label</th>\n",
       "    </tr>\n",
       "  </thead>\n",
       "  <tbody>\n",
       "    <tr>\n",
       "      <th>0</th>\n",
       "      <td>-0.49</td>\n",
       "      <td>101.00</td>\n",
       "      <td>2.015176</td>\n",
       "      <td>33.39</td>\n",
       "      <td>0.0</td>\n",
       "    </tr>\n",
       "    <tr>\n",
       "      <th>1</th>\n",
       "      <td>-0.49</td>\n",
       "      <td>101.00</td>\n",
       "      <td>2.015176</td>\n",
       "      <td>33.39</td>\n",
       "      <td>0.0</td>\n",
       "    </tr>\n",
       "    <tr>\n",
       "      <th>2</th>\n",
       "      <td>-0.49</td>\n",
       "      <td>101.00</td>\n",
       "      <td>2.015176</td>\n",
       "      <td>33.39</td>\n",
       "      <td>0.0</td>\n",
       "    </tr>\n",
       "    <tr>\n",
       "      <th>3</th>\n",
       "      <td>-0.49</td>\n",
       "      <td>101.00</td>\n",
       "      <td>2.015176</td>\n",
       "      <td>33.39</td>\n",
       "      <td>0.0</td>\n",
       "    </tr>\n",
       "    <tr>\n",
       "      <th>4</th>\n",
       "      <td>-0.49</td>\n",
       "      <td>101.00</td>\n",
       "      <td>2.015176</td>\n",
       "      <td>33.39</td>\n",
       "      <td>0.0</td>\n",
       "    </tr>\n",
       "    <tr>\n",
       "      <th>...</th>\n",
       "      <td>...</td>\n",
       "      <td>...</td>\n",
       "      <td>...</td>\n",
       "      <td>...</td>\n",
       "      <td>...</td>\n",
       "    </tr>\n",
       "    <tr>\n",
       "      <th>4143995</th>\n",
       "      <td>-6.21</td>\n",
       "      <td>73.65</td>\n",
       "      <td>0.783331</td>\n",
       "      <td>31.81</td>\n",
       "      <td>0.0</td>\n",
       "    </tr>\n",
       "    <tr>\n",
       "      <th>4143996</th>\n",
       "      <td>-6.21</td>\n",
       "      <td>73.65</td>\n",
       "      <td>0.783331</td>\n",
       "      <td>31.81</td>\n",
       "      <td>0.0</td>\n",
       "    </tr>\n",
       "    <tr>\n",
       "      <th>4143997</th>\n",
       "      <td>-6.21</td>\n",
       "      <td>73.65</td>\n",
       "      <td>0.783331</td>\n",
       "      <td>31.81</td>\n",
       "      <td>0.0</td>\n",
       "    </tr>\n",
       "    <tr>\n",
       "      <th>4143998</th>\n",
       "      <td>-6.21</td>\n",
       "      <td>73.65</td>\n",
       "      <td>0.783331</td>\n",
       "      <td>31.81</td>\n",
       "      <td>0.0</td>\n",
       "    </tr>\n",
       "    <tr>\n",
       "      <th>4143999</th>\n",
       "      <td>-6.21</td>\n",
       "      <td>73.65</td>\n",
       "      <td>0.783331</td>\n",
       "      <td>31.81</td>\n",
       "      <td>0.0</td>\n",
       "    </tr>\n",
       "  </tbody>\n",
       "</table>\n",
       "<p>4144000 rows × 5 columns</p>\n",
       "</div>"
      ],
      "text/plain": [
       "          bvp      hr       eda   temp  label\n",
       "0       -0.49  101.00  2.015176  33.39    0.0\n",
       "1       -0.49  101.00  2.015176  33.39    0.0\n",
       "2       -0.49  101.00  2.015176  33.39    0.0\n",
       "3       -0.49  101.00  2.015176  33.39    0.0\n",
       "4       -0.49  101.00  2.015176  33.39    0.0\n",
       "...       ...     ...       ...    ...    ...\n",
       "4143995 -6.21   73.65  0.783331  31.81    0.0\n",
       "4143996 -6.21   73.65  0.783331  31.81    0.0\n",
       "4143997 -6.21   73.65  0.783331  31.81    0.0\n",
       "4143998 -6.21   73.65  0.783331  31.81    0.0\n",
       "4143999 -6.21   73.65  0.783331  31.81    0.0\n",
       "\n",
       "[4144000 rows x 5 columns]"
      ]
     },
     "execution_count": 89,
     "metadata": {},
     "output_type": "execute_result"
    }
   ],
   "source": [
    "df"
   ]
  },
  {
   "cell_type": "code",
   "execution_count": 90,
   "metadata": {},
   "outputs": [],
   "source": [
    "# 0 = not defined / transient, 1 = baseline, 2 = stress, 3 = amusement, 4 = meditation, 5/6/7 = should be ignored in this dataset \n",
    "df = df[df['label'] != 7.0]\n",
    "df= df[df['label'] != 6.0]\n",
    "df= df[df['label'] != 5.0]\n",
    "df = df.drop_duplicates()"
   ]
  },
  {
   "cell_type": "code",
   "execution_count": 91,
   "metadata": {},
   "outputs": [
    {
     "data": {
      "text/html": [
       "<div>\n",
       "<style scoped>\n",
       "    .dataframe tbody tr th:only-of-type {\n",
       "        vertical-align: middle;\n",
       "    }\n",
       "\n",
       "    .dataframe tbody tr th {\n",
       "        vertical-align: top;\n",
       "    }\n",
       "\n",
       "    .dataframe thead th {\n",
       "        text-align: right;\n",
       "    }\n",
       "</style>\n",
       "<table border=\"1\" class=\"dataframe\">\n",
       "  <thead>\n",
       "    <tr style=\"text-align: right;\">\n",
       "      <th></th>\n",
       "      <th>bvp</th>\n",
       "      <th>hr</th>\n",
       "      <th>eda</th>\n",
       "      <th>temp</th>\n",
       "      <th>label</th>\n",
       "    </tr>\n",
       "  </thead>\n",
       "  <tbody>\n",
       "    <tr>\n",
       "      <th>0</th>\n",
       "      <td>-0.49</td>\n",
       "      <td>101.00</td>\n",
       "      <td>2.015176</td>\n",
       "      <td>33.39</td>\n",
       "      <td>0.0</td>\n",
       "    </tr>\n",
       "    <tr>\n",
       "      <th>6</th>\n",
       "      <td>-0.38</td>\n",
       "      <td>101.00</td>\n",
       "      <td>2.015176</td>\n",
       "      <td>33.39</td>\n",
       "      <td>0.0</td>\n",
       "    </tr>\n",
       "    <tr>\n",
       "      <th>17</th>\n",
       "      <td>-0.36</td>\n",
       "      <td>101.00</td>\n",
       "      <td>2.015176</td>\n",
       "      <td>33.39</td>\n",
       "      <td>0.0</td>\n",
       "    </tr>\n",
       "    <tr>\n",
       "      <th>20</th>\n",
       "      <td>-0.36</td>\n",
       "      <td>106.50</td>\n",
       "      <td>2.015176</td>\n",
       "      <td>33.39</td>\n",
       "      <td>0.0</td>\n",
       "    </tr>\n",
       "    <tr>\n",
       "      <th>28</th>\n",
       "      <td>-0.75</td>\n",
       "      <td>106.50</td>\n",
       "      <td>2.015176</td>\n",
       "      <td>33.39</td>\n",
       "      <td>0.0</td>\n",
       "    </tr>\n",
       "    <tr>\n",
       "      <th>...</th>\n",
       "      <td>...</td>\n",
       "      <td>...</td>\n",
       "      <td>...</td>\n",
       "      <td>...</td>\n",
       "      <td>...</td>\n",
       "    </tr>\n",
       "    <tr>\n",
       "      <th>4143942</th>\n",
       "      <td>-2.09</td>\n",
       "      <td>73.65</td>\n",
       "      <td>0.783331</td>\n",
       "      <td>31.81</td>\n",
       "      <td>0.0</td>\n",
       "    </tr>\n",
       "    <tr>\n",
       "      <th>4143951</th>\n",
       "      <td>-3.28</td>\n",
       "      <td>73.65</td>\n",
       "      <td>0.783331</td>\n",
       "      <td>31.81</td>\n",
       "      <td>0.0</td>\n",
       "    </tr>\n",
       "    <tr>\n",
       "      <th>4143962</th>\n",
       "      <td>-4.43</td>\n",
       "      <td>73.65</td>\n",
       "      <td>0.783331</td>\n",
       "      <td>31.81</td>\n",
       "      <td>0.0</td>\n",
       "    </tr>\n",
       "    <tr>\n",
       "      <th>4143973</th>\n",
       "      <td>-5.44</td>\n",
       "      <td>73.65</td>\n",
       "      <td>0.783331</td>\n",
       "      <td>31.81</td>\n",
       "      <td>0.0</td>\n",
       "    </tr>\n",
       "    <tr>\n",
       "      <th>4143984</th>\n",
       "      <td>-6.21</td>\n",
       "      <td>73.65</td>\n",
       "      <td>0.783331</td>\n",
       "      <td>31.81</td>\n",
       "      <td>0.0</td>\n",
       "    </tr>\n",
       "  </tbody>\n",
       "</table>\n",
       "<p>476726 rows × 5 columns</p>\n",
       "</div>"
      ],
      "text/plain": [
       "          bvp      hr       eda   temp  label\n",
       "0       -0.49  101.00  2.015176  33.39    0.0\n",
       "6       -0.38  101.00  2.015176  33.39    0.0\n",
       "17      -0.36  101.00  2.015176  33.39    0.0\n",
       "20      -0.36  106.50  2.015176  33.39    0.0\n",
       "28      -0.75  106.50  2.015176  33.39    0.0\n",
       "...       ...     ...       ...    ...    ...\n",
       "4143942 -2.09   73.65  0.783331  31.81    0.0\n",
       "4143951 -3.28   73.65  0.783331  31.81    0.0\n",
       "4143962 -4.43   73.65  0.783331  31.81    0.0\n",
       "4143973 -5.44   73.65  0.783331  31.81    0.0\n",
       "4143984 -6.21   73.65  0.783331  31.81    0.0\n",
       "\n",
       "[476726 rows x 5 columns]"
      ]
     },
     "execution_count": 91,
     "metadata": {},
     "output_type": "execute_result"
    }
   ],
   "source": [
    "df"
   ]
  },
  {
   "cell_type": "code",
   "execution_count": 92,
   "metadata": {},
   "outputs": [],
   "source": [
    "X = df.drop(columns=[\"label\"])  # Remove a coluna \"label\" para obter os recursos\n",
    "y = df[\"label\"] # 0 = not defined / transient, 1 = baseline, 2 = stress, 3 = amusement, 4 = meditation, 5/6/7 = should be ignored in this dataset\n",
    "y = y.astype(int)\n",
    "from sklearn.model_selection import train_test_split\n",
    "X_train, X_test, y_train, y_test = train_test_split(X, y, test_size=0.2, random_state=0)"
   ]
  },
  {
   "cell_type": "markdown",
   "metadata": {},
   "source": [
    "## NORMALIZAR E CRIAR MIN, MEAN, MAX"
   ]
  },
  {
   "cell_type": "markdown",
   "metadata": {},
   "source": [
    "\n",
    "Temperatura"
   ]
  },
  {
   "cell_type": "code",
   "execution_count": 93,
   "metadata": {},
   "outputs": [],
   "source": [
    "temp_min = []\n",
    "temp_max = []\n",
    "temp_mean = []\n",
    "\n",
    "for i in range(0, len(df), 3):\n",
    "    temps = df['temp'].iloc[i:i+3]\n",
    "    temp_min.append(temps.min())\n",
    "    temp_max.append(temps.max())\n",
    "    temp_mean.append(temps.mean())\n",
    "\n",
    "temp_stats = pd.DataFrame({'temp_min': temp_min, 'temp_max': temp_max, 'temp_mean': temp_mean})"
   ]
  },
  {
   "cell_type": "code",
   "execution_count": 94,
   "metadata": {},
   "outputs": [],
   "source": [
    "temp_min_array = np.array(temp_stats['temp_min'])\n",
    "normalized_temp_min = preprocessing.normalize([temp_min_array])\n",
    "temp_max_array = np.array(temp_stats['temp_max'])\n",
    "normalized_temp_max = preprocessing.normalize([temp_max_array])\n",
    "temp_mean_array = np.array(temp_stats['temp_mean'])\n",
    "normalized_temp_mean = preprocessing.normalize([temp_mean_array])\n"
   ]
  },
  {
   "cell_type": "code",
   "execution_count": 95,
   "metadata": {},
   "outputs": [
    {
     "data": {
      "text/html": [
       "<div>\n",
       "<style scoped>\n",
       "    .dataframe tbody tr th:only-of-type {\n",
       "        vertical-align: middle;\n",
       "    }\n",
       "\n",
       "    .dataframe tbody tr th {\n",
       "        vertical-align: top;\n",
       "    }\n",
       "\n",
       "    .dataframe thead th {\n",
       "        text-align: right;\n",
       "    }\n",
       "</style>\n",
       "<table border=\"1\" class=\"dataframe\">\n",
       "  <thead>\n",
       "    <tr style=\"text-align: right;\">\n",
       "      <th></th>\n",
       "      <th>normalized_temp_mean</th>\n",
       "      <th>normalized_temp_max</th>\n",
       "      <th>normalized_temp_min</th>\n",
       "    </tr>\n",
       "  </thead>\n",
       "  <tbody>\n",
       "    <tr>\n",
       "      <th>0</th>\n",
       "      <td>0.002561</td>\n",
       "      <td>0.002561</td>\n",
       "      <td>0.002561</td>\n",
       "    </tr>\n",
       "    <tr>\n",
       "      <th>1</th>\n",
       "      <td>0.002561</td>\n",
       "      <td>0.002561</td>\n",
       "      <td>0.002561</td>\n",
       "    </tr>\n",
       "    <tr>\n",
       "      <th>2</th>\n",
       "      <td>0.002561</td>\n",
       "      <td>0.002561</td>\n",
       "      <td>0.002561</td>\n",
       "    </tr>\n",
       "    <tr>\n",
       "      <th>3</th>\n",
       "      <td>0.002561</td>\n",
       "      <td>0.002561</td>\n",
       "      <td>0.002559</td>\n",
       "    </tr>\n",
       "    <tr>\n",
       "      <th>4</th>\n",
       "      <td>0.002559</td>\n",
       "      <td>0.002559</td>\n",
       "      <td>0.002559</td>\n",
       "    </tr>\n",
       "  </tbody>\n",
       "</table>\n",
       "</div>"
      ],
      "text/plain": [
       "   normalized_temp_mean  normalized_temp_max  normalized_temp_min\n",
       "0              0.002561             0.002561             0.002561\n",
       "1              0.002561             0.002561             0.002561\n",
       "2              0.002561             0.002561             0.002561\n",
       "3              0.002561             0.002561             0.002559\n",
       "4              0.002559             0.002559             0.002559"
      ]
     },
     "execution_count": 95,
     "metadata": {},
     "output_type": "execute_result"
    }
   ],
   "source": [
    "data_temp = {\n",
    "    'normalized_temp_mean': normalized_temp_mean.flatten(),\n",
    "    'normalized_temp_max': normalized_temp_max.flatten(),\n",
    "    'normalized_temp_min': normalized_temp_min.flatten()\n",
    "}\n",
    "\n",
    "df_temp = pd.DataFrame(data_temp)\n",
    "df_temp.head()"
   ]
  },
  {
   "cell_type": "markdown",
   "metadata": {},
   "source": [
    "\n",
    "EDA"
   ]
  },
  {
   "cell_type": "code",
   "execution_count": 96,
   "metadata": {},
   "outputs": [],
   "source": [
    "eda_min = []\n",
    "eda_max = []\n",
    "eda_mean = []\n",
    "for i in range(0, len(df), 3):\n",
    "    eda = df['eda'].iloc[i:i+3]\n",
    "    eda_min.append(eda.min())\n",
    "    eda_max.append(eda.max())\n",
    "    eda_mean.append(eda.mean())\n",
    "\n",
    "eda_stats = pd.DataFrame({'eda_min': eda_min, 'eda_max': eda_max, 'eda_mean': eda_mean})"
   ]
  },
  {
   "cell_type": "code",
   "execution_count": 97,
   "metadata": {},
   "outputs": [
    {
     "name": "stdout",
     "output_type": "stream",
     "text": [
      "    eda_min   eda_max  eda_mean\n",
      "0  2.015176  2.015176  2.015176\n",
      "1  2.015176  2.015176  2.015176\n",
      "2  2.015176  2.015176  2.015176\n",
      "3  2.012617  2.015176  2.014323\n",
      "4  2.012617  2.012617  2.012617\n"
     ]
    }
   ],
   "source": [
    "print(eda_stats.head())"
   ]
  },
  {
   "cell_type": "code",
   "execution_count": 98,
   "metadata": {},
   "outputs": [],
   "source": [
    "eda_min_array = np.array(eda_stats['eda_min'])\n",
    "normalized_eda_min = preprocessing.normalize([eda_min_array])\n",
    "eda_max_array = np.array(eda_stats['eda_max'])\n",
    "normalized_eda_max = preprocessing.normalize([eda_max_array])\n",
    "eda_mean_array = np.array(eda_stats['eda_mean'])\n",
    "normalized_eda_mean = preprocessing.normalize([eda_mean_array])\n"
   ]
  },
  {
   "cell_type": "code",
   "execution_count": 99,
   "metadata": {},
   "outputs": [
    {
     "data": {
      "text/html": [
       "<div>\n",
       "<style scoped>\n",
       "    .dataframe tbody tr th:only-of-type {\n",
       "        vertical-align: middle;\n",
       "    }\n",
       "\n",
       "    .dataframe tbody tr th {\n",
       "        vertical-align: top;\n",
       "    }\n",
       "\n",
       "    .dataframe thead th {\n",
       "        text-align: right;\n",
       "    }\n",
       "</style>\n",
       "<table border=\"1\" class=\"dataframe\">\n",
       "  <thead>\n",
       "    <tr style=\"text-align: right;\">\n",
       "      <th></th>\n",
       "      <th>normalized_eda_mean</th>\n",
       "      <th>normalized_eda_max</th>\n",
       "      <th>normalized_eda_min</th>\n",
       "    </tr>\n",
       "  </thead>\n",
       "  <tbody>\n",
       "    <tr>\n",
       "      <th>0</th>\n",
       "      <td>0.004543</td>\n",
       "      <td>0.004542</td>\n",
       "      <td>0.004544</td>\n",
       "    </tr>\n",
       "    <tr>\n",
       "      <th>1</th>\n",
       "      <td>0.004543</td>\n",
       "      <td>0.004542</td>\n",
       "      <td>0.004544</td>\n",
       "    </tr>\n",
       "    <tr>\n",
       "      <th>2</th>\n",
       "      <td>0.004543</td>\n",
       "      <td>0.004542</td>\n",
       "      <td>0.004544</td>\n",
       "    </tr>\n",
       "    <tr>\n",
       "      <th>3</th>\n",
       "      <td>0.004541</td>\n",
       "      <td>0.004542</td>\n",
       "      <td>0.004539</td>\n",
       "    </tr>\n",
       "    <tr>\n",
       "      <th>4</th>\n",
       "      <td>0.004537</td>\n",
       "      <td>0.004536</td>\n",
       "      <td>0.004539</td>\n",
       "    </tr>\n",
       "  </tbody>\n",
       "</table>\n",
       "</div>"
      ],
      "text/plain": [
       "   normalized_eda_mean  normalized_eda_max  normalized_eda_min\n",
       "0             0.004543            0.004542            0.004544\n",
       "1             0.004543            0.004542            0.004544\n",
       "2             0.004543            0.004542            0.004544\n",
       "3             0.004541            0.004542            0.004539\n",
       "4             0.004537            0.004536            0.004539"
      ]
     },
     "execution_count": 99,
     "metadata": {},
     "output_type": "execute_result"
    }
   ],
   "source": [
    "data_eda = {\n",
    "    'normalized_eda_mean': normalized_eda_mean.flatten(),\n",
    "    'normalized_eda_max': normalized_eda_max.flatten(),\n",
    "    'normalized_eda_min': normalized_eda_min.flatten()\n",
    "}\n",
    "\n",
    "df_eda = pd.DataFrame(data_eda)\n",
    "df_eda.head()"
   ]
  },
  {
   "cell_type": "markdown",
   "metadata": {},
   "source": [
    "HR\n"
   ]
  },
  {
   "cell_type": "code",
   "execution_count": 100,
   "metadata": {},
   "outputs": [],
   "source": [
    "hr_min = []\n",
    "hr_max = []\n",
    "hr_mean = []\n",
    "for i in range(0, len(df), 3):\n",
    "    hr = df['hr'].iloc[i:i+3]\n",
    "    hr_min.append(hr.min())\n",
    "    hr_max.append(hr.max())\n",
    "    hr_mean.append(hr.mean())\n",
    "\n",
    "hr_stats = pd.DataFrame({'hr_min': hr_min, 'hr_max': hr_max, 'hr_mean': hr_mean})\n",
    "\n",
    "hr_min_array = np.array(hr_stats['hr_min'])\n",
    "normalized_hr_min = preprocessing.normalize([hr_min_array])\n",
    "hr_max_array = np.array(hr_stats['hr_max'])\n",
    "normalized_hr_max = preprocessing.normalize([hr_max_array])\n",
    "hr_mean_array = np.array(hr_stats['hr_mean'])\n",
    "normalized_hr_mean = preprocessing.normalize([hr_mean_array])"
   ]
  },
  {
   "cell_type": "code",
   "execution_count": 101,
   "metadata": {},
   "outputs": [
    {
     "data": {
      "text/html": [
       "<div>\n",
       "<style scoped>\n",
       "    .dataframe tbody tr th:only-of-type {\n",
       "        vertical-align: middle;\n",
       "    }\n",
       "\n",
       "    .dataframe tbody tr th {\n",
       "        vertical-align: top;\n",
       "    }\n",
       "\n",
       "    .dataframe thead th {\n",
       "        text-align: right;\n",
       "    }\n",
       "</style>\n",
       "<table border=\"1\" class=\"dataframe\">\n",
       "  <thead>\n",
       "    <tr style=\"text-align: right;\">\n",
       "      <th></th>\n",
       "      <th>normalized_hr_mean</th>\n",
       "      <th>normalized_hr_max</th>\n",
       "      <th>normalized_hr_min</th>\n",
       "    </tr>\n",
       "  </thead>\n",
       "  <tbody>\n",
       "    <tr>\n",
       "      <th>0</th>\n",
       "      <td>0.003260</td>\n",
       "      <td>0.003259</td>\n",
       "      <td>0.003262</td>\n",
       "    </tr>\n",
       "    <tr>\n",
       "      <th>1</th>\n",
       "      <td>0.003438</td>\n",
       "      <td>0.003436</td>\n",
       "      <td>0.003440</td>\n",
       "    </tr>\n",
       "    <tr>\n",
       "      <th>2</th>\n",
       "      <td>0.003198</td>\n",
       "      <td>0.003436</td>\n",
       "      <td>0.003079</td>\n",
       "    </tr>\n",
       "    <tr>\n",
       "      <th>3</th>\n",
       "      <td>0.003077</td>\n",
       "      <td>0.003076</td>\n",
       "      <td>0.003079</td>\n",
       "    </tr>\n",
       "    <tr>\n",
       "      <th>4</th>\n",
       "      <td>0.002968</td>\n",
       "      <td>0.003076</td>\n",
       "      <td>0.002915</td>\n",
       "    </tr>\n",
       "  </tbody>\n",
       "</table>\n",
       "</div>"
      ],
      "text/plain": [
       "   normalized_hr_mean  normalized_hr_max  normalized_hr_min\n",
       "0            0.003260           0.003259           0.003262\n",
       "1            0.003438           0.003436           0.003440\n",
       "2            0.003198           0.003436           0.003079\n",
       "3            0.003077           0.003076           0.003079\n",
       "4            0.002968           0.003076           0.002915"
      ]
     },
     "execution_count": 101,
     "metadata": {},
     "output_type": "execute_result"
    }
   ],
   "source": [
    "data_hr = {\n",
    "    'normalized_hr_mean': normalized_hr_mean.flatten(),\n",
    "    'normalized_hr_max': normalized_hr_max.flatten(),\n",
    "    'normalized_hr_min': normalized_hr_min.flatten()\n",
    "}\n",
    "\n",
    "df_hr = pd.DataFrame(data_hr)\n",
    "df_hr.head()"
   ]
  },
  {
   "cell_type": "code",
   "execution_count": 102,
   "metadata": {},
   "outputs": [
    {
     "data": {
      "text/html": [
       "<div>\n",
       "<style scoped>\n",
       "    .dataframe tbody tr th:only-of-type {\n",
       "        vertical-align: middle;\n",
       "    }\n",
       "\n",
       "    .dataframe tbody tr th {\n",
       "        vertical-align: top;\n",
       "    }\n",
       "\n",
       "    .dataframe thead th {\n",
       "        text-align: right;\n",
       "    }\n",
       "</style>\n",
       "<table border=\"1\" class=\"dataframe\">\n",
       "  <thead>\n",
       "    <tr style=\"text-align: right;\">\n",
       "      <th></th>\n",
       "      <th>normalized_temp_mean</th>\n",
       "      <th>normalized_temp_max</th>\n",
       "      <th>normalized_temp_min</th>\n",
       "      <th>normalized_eda_mean</th>\n",
       "      <th>normalized_eda_max</th>\n",
       "      <th>normalized_eda_min</th>\n",
       "      <th>normalized_hr_mean</th>\n",
       "      <th>normalized_hr_max</th>\n",
       "      <th>normalized_hr_min</th>\n",
       "    </tr>\n",
       "  </thead>\n",
       "  <tbody>\n",
       "    <tr>\n",
       "      <th>158904</th>\n",
       "      <td>0.00244</td>\n",
       "      <td>0.00244</td>\n",
       "      <td>0.00244</td>\n",
       "      <td>0.001766</td>\n",
       "      <td>0.001765</td>\n",
       "      <td>0.001766</td>\n",
       "      <td>0.002401</td>\n",
       "      <td>0.002400</td>\n",
       "      <td>0.002402</td>\n",
       "    </tr>\n",
       "    <tr>\n",
       "      <th>158905</th>\n",
       "      <td>0.00244</td>\n",
       "      <td>0.00244</td>\n",
       "      <td>0.00244</td>\n",
       "      <td>0.001766</td>\n",
       "      <td>0.001765</td>\n",
       "      <td>0.001766</td>\n",
       "      <td>0.002394</td>\n",
       "      <td>0.002400</td>\n",
       "      <td>0.002391</td>\n",
       "    </tr>\n",
       "    <tr>\n",
       "      <th>158906</th>\n",
       "      <td>0.00244</td>\n",
       "      <td>0.00244</td>\n",
       "      <td>0.00244</td>\n",
       "      <td>0.001766</td>\n",
       "      <td>0.001765</td>\n",
       "      <td>0.001766</td>\n",
       "      <td>0.002390</td>\n",
       "      <td>0.002389</td>\n",
       "      <td>0.002391</td>\n",
       "    </tr>\n",
       "    <tr>\n",
       "      <th>158907</th>\n",
       "      <td>0.00244</td>\n",
       "      <td>0.00244</td>\n",
       "      <td>0.00244</td>\n",
       "      <td>0.001766</td>\n",
       "      <td>0.001765</td>\n",
       "      <td>0.001766</td>\n",
       "      <td>0.002378</td>\n",
       "      <td>0.002376</td>\n",
       "      <td>0.002379</td>\n",
       "    </tr>\n",
       "    <tr>\n",
       "      <th>158908</th>\n",
       "      <td>0.00244</td>\n",
       "      <td>0.00244</td>\n",
       "      <td>0.00244</td>\n",
       "      <td>0.001766</td>\n",
       "      <td>0.001765</td>\n",
       "      <td>0.001766</td>\n",
       "      <td>0.002378</td>\n",
       "      <td>0.002376</td>\n",
       "      <td>0.002379</td>\n",
       "    </tr>\n",
       "  </tbody>\n",
       "</table>\n",
       "</div>"
      ],
      "text/plain": [
       "        normalized_temp_mean  normalized_temp_max  normalized_temp_min  \\\n",
       "158904               0.00244              0.00244              0.00244   \n",
       "158905               0.00244              0.00244              0.00244   \n",
       "158906               0.00244              0.00244              0.00244   \n",
       "158907               0.00244              0.00244              0.00244   \n",
       "158908               0.00244              0.00244              0.00244   \n",
       "\n",
       "        normalized_eda_mean  normalized_eda_max  normalized_eda_min  \\\n",
       "158904             0.001766            0.001765            0.001766   \n",
       "158905             0.001766            0.001765            0.001766   \n",
       "158906             0.001766            0.001765            0.001766   \n",
       "158907             0.001766            0.001765            0.001766   \n",
       "158908             0.001766            0.001765            0.001766   \n",
       "\n",
       "        normalized_hr_mean  normalized_hr_max  normalized_hr_min  \n",
       "158904            0.002401           0.002400           0.002402  \n",
       "158905            0.002394           0.002400           0.002391  \n",
       "158906            0.002390           0.002389           0.002391  \n",
       "158907            0.002378           0.002376           0.002379  \n",
       "158908            0.002378           0.002376           0.002379  "
      ]
     },
     "execution_count": 102,
     "metadata": {},
     "output_type": "execute_result"
    }
   ],
   "source": [
    "df_normalizado = pd.concat([df_temp, df_eda, df_hr], axis=1)\n",
    "df_normalizado.tail()"
   ]
  },
  {
   "cell_type": "code",
   "execution_count": 103,
   "metadata": {},
   "outputs": [],
   "source": [
    "label_mean = []\n",
    "for i in range(0, len(df), 3):\n",
    "    label = df['label'].iloc[i:i+3] \n",
    "    label_mean.append(label.mean())\n",
    "\n",
    "label_stats = pd.DataFrame({'label_mean': label_mean})"
   ]
  },
  {
   "cell_type": "markdown",
   "metadata": {},
   "source": [
    "Random Forest"
   ]
  },
  {
   "cell_type": "code",
   "execution_count": 104,
   "metadata": {},
   "outputs": [],
   "source": [
    "from scipy.stats import kurtosis, skew\n",
    "from scipy.signal import find_peaks\n",
    "\n",
    "from sklearn.ensemble import RandomForestClassifier\n",
    "from sklearn.neighbors import KNeighborsClassifier\n",
    "from sklearn.linear_model import LogisticRegression\n",
    "from sklearn.neural_network import MLPClassifier\n",
    "from sklearn.svm import SVC\n",
    "\n",
    "from sklearn.preprocessing import MinMaxScaler, OneHotEncoder\n",
    "from sklearn.model_selection import train_test_split, cross_val_score\n",
    "from sklearn.feature_selection import SelectFromModel\n",
    "from sklearn.naive_bayes import GaussianNB\n",
    "from sklearn.metrics import accuracy_score, f1_score, precision_score, recall_score, classification_report, roc_auc_score, roc_curve, auc\n",
    "from sklearn.inspection import (partial_dependence, PartialDependenceDisplay, permutation_importance)\n"
   ]
  },
  {
   "cell_type": "markdown",
   "metadata": {},
   "source": [
    "#### knn"
   ]
  },
  {
   "cell_type": "code",
   "execution_count": 105,
   "metadata": {},
   "outputs": [],
   "source": [
    "train_set = df_normalizado\n",
    "labels = np.array(label_stats, dtype=int)\n",
    "X_train, X_test, y_train, y_test = train_test_split(train_set, labels, test_size=0.3, random_state=30)"
   ]
  },
  {
   "cell_type": "code",
   "execution_count": 106,
   "metadata": {},
   "outputs": [
    {
     "name": "stdout",
     "output_type": "stream",
     "text": [
      "auc = 0.991591047189687\n",
      "acc = 0.9490067753235584\n",
      "f1 = 0.9442958738494482\n",
      "recall = 0.9461815087771754\n"
     ]
    }
   ],
   "source": [
    "k_nearest_neighbors = KNeighborsClassifier(n_neighbors=5, metric=\"minkowski\", weights=\"uniform\")\n",
    "\n",
    "k_nearest_neighbors.fit(X_train, y_train.ravel())\n",
    "\n",
    "y_pred_knn = k_nearest_neighbors.predict(X_test)\n",
    "f1score   = f1_score        (y_test, y_pred_knn, average = 'macro')\n",
    "recall    = recall_score    (y_test, y_pred_knn, average = 'macro')\n",
    "accuracy  = accuracy_score  (y_test, y_pred_knn)\n",
    "AUC       = roc_auc_score   (y_test.ravel(), k_nearest_neighbors.predict_proba(X_test), multi_class='ovr')\n",
    "\n",
    "print('auc =', AUC)\n",
    "print('acc =', accuracy)\n",
    "print('f1 =', f1score)\n",
    "print('recall =', recall)"
   ]
  },
  {
   "cell_type": "markdown",
   "metadata": {},
   "source": [
    "#### Logistic Regression"
   ]
  },
  {
   "cell_type": "code",
   "execution_count": 107,
   "metadata": {},
   "outputs": [
    {
     "name": "stdout",
     "output_type": "stream",
     "text": [
      "auc = 0.7752635523657919\n",
      "acc = 0.47582489039917775\n",
      "f1 = 0.12896513495458875\n",
      "recall = 0.2\n"
     ]
    }
   ],
   "source": [
    "logistic_regression = LogisticRegression(penalty=\"l2\", C=1.0, max_iter=999)\n",
    "\n",
    "logistic_regression.fit(X_train, y_train.ravel())\n",
    "\n",
    "y_pred_lr = logistic_regression.predict(X_test)\n",
    "f1score   = f1_score        (y_test, y_pred_lr, average = 'macro')\n",
    "recall    = recall_score    (y_test, y_pred_lr, average = 'macro')\n",
    "accuracy  = accuracy_score  (y_test, y_pred_lr)\n",
    "AUC       = roc_auc_score   (y_test.ravel(), logistic_regression.predict_proba(X_test), multi_class='ovr')\n",
    "\n",
    "print('auc =', AUC)\n",
    "print('acc =', accuracy)\n",
    "print('f1 =', f1score)\n",
    "print('recall =', recall)"
   ]
  },
  {
   "cell_type": "markdown",
   "metadata": {},
   "source": [
    "#### RF"
   ]
  },
  {
   "cell_type": "code",
   "execution_count": 108,
   "metadata": {},
   "outputs": [
    {
     "name": "stdout",
     "output_type": "stream",
     "text": [
      "auc = 0.9995656119693294\n",
      "acc = 0.9834497514316279\n",
      "f1 = 0.9821722274532121\n",
      "recall = 0.9833897127553867\n"
     ]
    }
   ],
   "source": [
    "\n",
    "#clf = RandomForestClassifier(random_state=42, n_estimators=50, n_jobs=-1)\n",
    "clf = RandomForestClassifier(n_estimators=100,max_depth=15)\n",
    "clf.fit(X_train, y_train.ravel())\n",
    "y_pred_rf = clf.predict(X_test)\n",
    "\n",
    "f1score   = f1_score        (y_test, y_pred_rf, average = 'macro')\n",
    "recall    = recall_score    (y_test, y_pred_rf, average = 'macro')\n",
    "accuracy  = accuracy_score  (y_test, y_pred_rf)\n",
    "AUC       = roc_auc_score   (y_test.ravel(), clf.predict_proba(X_test), multi_class='ovr')\n",
    "\n",
    "print('auc =', AUC)\n",
    "print('acc =', accuracy)\n",
    "print('f1 =', f1score)\n",
    "print('recall =', recall)"
   ]
  },
  {
   "cell_type": "markdown",
   "metadata": {},
   "source": [
    "#### neural network"
   ]
  },
  {
   "cell_type": "raw",
   "metadata": {
    "vscode": {
     "languageId": "raw"
    }
   },
   "source": [
    "neural_network = MLPClassifier(hidden_layer_sizes=(100,), activation=\"relu\", solver=\"adam\", max_iter=999)\n",
    "\n",
    "neural_network.fit(X_train, y_train.ravel())\n",
    "\n",
    "y_pred_nn = neural_network.predict(X_test)\n",
    "f1score   = f1_score        (y_test, y_pred_nn, average = 'macro')\n",
    "recall    = recall_score    (y_test, y_pred_nn, average = 'macro')\n",
    "accuracy  = accuracy_score  (y_test, y_pred_nn)\n",
    "AUC       = roc_auc_score   (y_test.ravel(), neural_network.predict_proba(X_test), multi_class='ovr')\n",
    "\n",
    "print('auc =', AUC)\n",
    "print('acc =', accuracy)\n",
    "print('f1 =', f1score)\n",
    "print('recall =', recall) "
   ]
  },
  {
   "cell_type": "markdown",
   "metadata": {},
   "source": [
    "#### SVM"
   ]
  },
  {
   "cell_type": "raw",
   "metadata": {
    "vscode": {
     "languageId": "raw"
    }
   },
   "source": [
    "support_vector_machine = SVC(C=1.0, gamma=0.1, kernel=\"linear\", tol=0.001, max_iter=9999, probability=True)\n",
    "support_vector_machine.fit(X_train, y_train.ravel())\n",
    "y_pred_svm = support_vector_machine.predict(X_test)\n",
    "\n",
    "f1score   = f1_score        (y_test, y_pred_svm, average = 'macro')\n",
    "recall    = recall_score    (y_test, y_pred_svm, average = 'macro')\n",
    "accuracy  = accuracy_score  (y_test, y_pred_svm)\n",
    "AUC       = roc_auc_score   (y_test.ravel(), support_vector_machine.predict_proba(X_test), multi_class='ovr')\n",
    "\n",
    "print('auc =', AUC)\n",
    "print('acc =', accuracy)\n",
    "print('f1 =', f1score)\n",
    "print('recall =', recall) "
   ]
  },
  {
   "cell_type": "code",
   "execution_count": 109,
   "metadata": {},
   "outputs": [
    {
     "data": {
      "image/png": "[encoded data removed]",
      "text/plain": [
       "<Figure size 640x480 with 1 Axes>"
      ]
     },
     "metadata": {},
     "output_type": "display_data"
    }
   ],
   "source": [
    "# -- feature importance graph\n",
    "importances = clf.feature_importances_\n",
    "indices = np.argsort(importances)\n",
    "features = train_set.columns\n",
    "plt.title('Feature Importances')\n",
    "j = 9   # top j importance\n",
    "plt.barh(range(j), importances[indices][len(indices)-j:], color='g', align='center')\n",
    "plt.yticks(range(j), [features[i] for i in indices[len(indices)-j:]])\n",
    "plt.xlabel('Relative Importance')\n",
    "plt.show()"
   ]
  },
  {
   "cell_type": "code",
   "execution_count": 110,
   "metadata": {},
   "outputs": [
    {
     "data": {
      "image/png": "[encoded data removed]",
      "text/plain": [
       "<Figure size 640x480 with 1 Axes>"
      ]
     },
     "metadata": {},
     "output_type": "display_data"
    }
   ],
   "source": [
    "num_execucoes = 100\n",
    "importancias_medias = np.zeros(X_train.shape[1])  # Lista para armazenar as importâncias médias das características\n",
    "\n",
    "for _ in range(num_execucoes):\n",
    "    clf = RandomForestClassifier(n_estimators=50, n_jobs=-1, random_state=None) \n",
    "    clf.fit(X_train, y_train.ravel()) \n",
    "    \n",
    "    importancias = clf.feature_importances_\n",
    "    importancias_medias += importancias\n",
    "\n",
    "importancias_medias /= num_execucoes # Calcular a média das importâncias das características\n",
    "\n",
    "indices = np.argsort(importancias_medias)\n",
    "plt.title('Média das Importâncias das Características')\n",
    "j = 9   # top j importância\n",
    "plt.barh(range(j), importancias_medias[indices][len(indices)-j:], color='g', align='center')\n",
    "plt.yticks(range(j), [features[i] for i in indices[len(indices)-j:]])\n",
    "plt.xlabel('Importância Relativa Média')\n",
    "plt.show()"
   ]
  },
  {
   "cell_type": "markdown",
   "metadata": {},
   "source": [
    "# Criação de datasets individuais"
   ]
  },
  {
   "cell_type": "code",
   "execution_count": 111,
   "metadata": {},
   "outputs": [],
   "source": [
    "dfs = {}\n",
    "folders = [f\"S{i}\" for i in range(2, 18)]\n",
    "\n",
    "for folder_name in folders:\n",
    "    folder_path = os.path.join(data_set_path, folder_name)\n",
    "    \n",
    "    user_data = []\n",
    "\n",
    "    if os.path.exists(folder_path):\n",
    "        for folder in os.listdir(folder_path):\n",
    "            if folder.endswith(\".pkl\"):\n",
    "                caminho_arquivo_pkl = os.path.join(folder_path, folder)\n",
    "                \n",
    "                # Abrir o arquivo .pkl\n",
    "                with open(caminho_arquivo_pkl, 'rb') as infile:\n",
    "                    obj = pickle.load(infile, encoding='latin1')\n",
    "                    eda = obj['signal']['wrist']['EDA'][:, 0]\n",
    "                    temp = obj['signal']['wrist']['TEMP'][:, 0]\n",
    "                    label = obj['label']\n",
    "\n",
    "                    len_label = len(label)\n",
    "                    len_temp_eda = len(temp)\n",
    "\n",
    "                    total_time = len_label / fs_label\n",
    "\n",
    "                    time_label = np.linspace(0, total_time, len_label, endpoint=False)\n",
    "                    time_temp_eda = np.linspace(0, total_time, len_temp_eda, endpoint=False)\n",
    "\n",
    "                    interp_temp = interp1d(time_temp_eda, temp, kind='nearest', fill_value='extrapolate')\n",
    "                    interp_eda = interp1d(time_temp_eda, eda, kind='nearest', fill_value='extrapolate')\n",
    "\n",
    "                    aligned_temp = interp_temp(time_label)\n",
    "                    aligned_eda = interp_eda(time_label)\n",
    "\n",
    "                    user_data.append((aligned_eda, aligned_temp, label))\n",
    "\n",
    "    # Processar os dados de frequência cardíaca (HR)\n",
    "    hr_data = []\n",
    "    subfolder_name = f\"{folder_name}_E4_Data\"\n",
    "    folder_path = os.path.join(data_set_path, folder_name, subfolder_name)\n",
    "\n",
    "    if os.path.exists(folder_path):\n",
    "        csv_path = os.path.join(folder_path, 'HR.csv')\n",
    "        if os.path.exists(csv_path):\n",
    "            hr = pd.read_csv(csv_path, skiprows=2, usecols=[0], header=None)\n",
    "            hr_data.append(hr)\n",
    "\n",
    "    if hr_data:\n",
    "        combined_hr_df = pd.concat(hr_data, ignore_index=True)\n",
    "        hr = combined_hr_df.iloc[:, 0].to_numpy()\n",
    "\n",
    "        len_hr = len(hr)\n",
    "        time_hr = np.linspace(0, total_time, len_hr, endpoint=False)\n",
    "        interp_hr = interp1d(time_hr, hr, kind='nearest', fill_value='extrapolate')\n",
    "        aligned_hr = interp_hr(time_label)\n",
    "\n",
    "        for eda, temp, label in user_data:\n",
    "            numpy_data = np.column_stack((aligned_hr, eda, temp, label))\n",
    "            # Adicionar os dados ao dataframe específico do usuário\n",
    "            if folder_name not in dfs:\n",
    "                dfs[folder_name] = []\n",
    "            dfs[folder_name].append(numpy_data)\n",
    "\n",
    "# Processar cada dataframe de usuário para calcular e normalizar as estatísticas\n",
    "for key in dfs:\n",
    "    combined_data = np.concatenate(dfs[key], axis=0)\n",
    "    column_names = [\"hr\", \"eda\", \"temp\", \"label\"]\n",
    "    df = pd.DataFrame(data=combined_data, columns=column_names)\n",
    "    \n",
    "    # Filtrar os dados com base nos rótulos desejados\n",
    "    df = df[df['label'] != 7.0]\n",
    "    df = df[df['label'] != 6.0]\n",
    "    df = df[df['label'] != 5.0]\n",
    "    df = df.drop_duplicates()\n",
    "    \n",
    "    # Função para calcular estatísticas e normalizar\n",
    "    def calculate_and_normalize_stats(df, column):\n",
    "        min_vals, max_vals, mean_vals = [], [], []\n",
    "        for i in range(0, len(df), 3):\n",
    "            vals = df[column].iloc[i:i+3]\n",
    "            min_vals.append(vals.min())\n",
    "            max_vals.append(vals.max())\n",
    "            mean_vals.append(vals.mean())\n",
    "        stats_df = pd.DataFrame({f'{column}_min': min_vals, f'{column}_max': max_vals, f'{column}_mean': mean_vals})\n",
    "        normalized_mean = preprocessing.normalize([stats_df[f'{column}_mean'].to_numpy()]).flatten()\n",
    "        normalized_max = preprocessing.normalize([stats_df[f'{column}_max'].to_numpy()]).flatten()\n",
    "        normalized_min = preprocessing.normalize([stats_df[f'{column}_min'].to_numpy()]).flatten()\n",
    "        return pd.DataFrame({f'normalized_{column}_mean': normalized_mean,\n",
    "                            f'normalized_{column}_max': normalized_max,\n",
    "                            f'normalized_{column}_min': normalized_min})\n",
    "\n",
    "    # Calcular e normalizar estatísticas para temperatura, EDA e HR\n",
    "    df_temp = calculate_and_normalize_stats(df, 'temp')\n",
    "    df_eda = calculate_and_normalize_stats(df, 'eda')\n",
    "    df_hr = calculate_and_normalize_stats(df, 'hr')\n",
    "\n",
    "    # Combinar os dataframes normalizados\n",
    "    df_normalizado = pd.concat([df_temp, df_eda, df_hr], axis=1)\n",
    "    \n",
    "    # Calcular a média dos labels para cada janela de 3 amostras\n",
    "    label_mean = []\n",
    "    for i in range(0, len(df), 3):\n",
    "        label = df['label'].iloc[i:i+3] \n",
    "        label_mean.append(label.mean())\n",
    "    label_stats = pd.DataFrame({'label_mean': label_mean})\n",
    "    \n",
    "    # Armazenar o dataframe normalizado no dicionário\n",
    "    dfs[key] = pd.concat([df_normalizado, label_stats], axis=1)\n",
    "    dfs[key] = dfs[key].drop_duplicates()\n",
    "\n",
    "# Criar variáveis individuais dfs2 a dfs17\n",
    "for i in range(2, 11):\n",
    "    globals()[f'dfs{i}'] = dfs[f'S{i}']\n",
    "for i in range(13, 18):\n",
    "    globals()[f'dfs{i}'] = dfs[f'S{i}']"
   ]
  },
  {
   "cell_type": "markdown",
   "metadata": {},
   "source": [
    "### aplicando series temporais"
   ]
  },
  {
   "cell_type": "code",
   "execution_count": 143,
   "metadata": {},
   "outputs": [],
   "source": [
    "from sktime.forecasting.model_selection import temporal_train_test_split\n",
    "from sktime.classification.interval_based import TimeSeriesForestClassifier\n",
    "from sklearn import metrics"
   ]
  },
  {
   "cell_type": "code",
   "execution_count": 144,
   "metadata": {},
   "outputs": [
    {
     "name": "stdout",
     "output_type": "stream",
     "text": [
      "X_train_array shape: (5559, 9)\n",
      "X_test_array shape: (2383, 9)\n"
     ]
    }
   ],
   "source": [
    "X = dfs2.drop(columns=[\"label_mean\"]) \n",
    "y = dfs2[\"label_mean\"].astype(int)\n",
    "X_train_skt, X_test_skt, y_train_skt, y_test_skt = temporal_train_test_split(X, y, test_size=0.3)\n",
    "X_train_array = X_train_skt.values\n",
    "X_test_array = X_test_skt.values\n",
    "print(\"X_train_array shape:\", X_train_array.shape)\n",
    "print(\"X_test_array shape:\", X_test_array.shape)"
   ]
  },
  {
   "cell_type": "code",
   "execution_count": 145,
   "metadata": {},
   "outputs": [
    {
     "name": "stdout",
     "output_type": "stream",
     "text": [
      "TSF Accuracy: 0.44020142677297525\n"
     ]
    }
   ],
   "source": [
    "\n",
    "tsf = TimeSeriesForestClassifier(n_estimators=50, random_state=47)\n",
    "tsf.fit(X_train_array, y_train_skt)\n",
    "\n",
    "tsf_preds = tsf.predict(X_test_array)\n",
    "print(\"TSF Accuracy: \" + str(metrics.accuracy_score(y_test_skt, tsf_preds)))"
   ]
  },
  {
   "cell_type": "markdown",
   "metadata": {},
   "source": [
    "### usar rf nos datasets individuais"
   ]
  },
  {
   "cell_type": "code",
   "execution_count": 118,
   "metadata": {},
   "outputs": [
    {
     "name": "stdout",
     "output_type": "stream",
     "text": [
      "\n",
      " Dataset: dfs2\n",
      "auc = 0.5192952038868429\n",
      "acc = 0.19302442709644926\n",
      "f1 = 0.07115387085675415\n",
      "recall = 0.202940787466329\n",
      "\n",
      " Dataset: dfs3\n",
      "auc = 0.4455703412455555\n",
      "acc = 0.18957816377171216\n",
      "f1 = 0.06490276911067047\n",
      "recall = 0.1971965065555032\n",
      "\n",
      " Dataset: dfs4\n",
      "auc = 0.48606031405261757\n",
      "acc = 0.16305189775367931\n",
      "f1 = 0.05845468874926187\n",
      "recall = 0.20181731229076996\n",
      "\n",
      " Dataset: dfs5\n",
      "auc = 0.5849043857257143\n",
      "acc = 0.18567137612637669\n",
      "f1 = 0.06687239679614397\n",
      "recall = 0.19810087061839962\n",
      "\n",
      " Dataset: dfs6\n",
      "auc = 0.5589331236759991\n",
      "acc = 0.14937955858671972\n",
      "f1 = 0.05569066794373484\n",
      "recall = 0.20120458896724341\n",
      "\n",
      " Dataset: dfs7\n",
      "auc = 0.5\n",
      "acc = 0.22881146528292562\n",
      "f1 = 0.07448220390106576\n",
      "recall = 0.2\n",
      "\n",
      " Dataset: dfs8\n",
      "auc = 0.5\n",
      "acc = 0.20211515863689777\n",
      "f1 = 0.06725317693059628\n",
      "recall = 0.2\n",
      "\n",
      " Dataset: dfs9\n",
      "auc = 0.5675915952702193\n",
      "acc = 0.2063867534003548\n",
      "f1 = 0.06853339067679855\n",
      "recall = 0.19354951210244312\n",
      "\n",
      " Dataset: dfs10\n",
      "auc = 0.5933442905569406\n",
      "acc = 0.21028165162701667\n",
      "f1 = 0.07026998356758143\n",
      "recall = 0.2003747359786563\n"
     ]
    }
   ],
   "source": [
    "for i in range(2, 11):\n",
    "    dataset_name = f'dfs{i}'\n",
    "    dataset = globals().get(dataset_name)\n",
    "    \n",
    "    X = dataset.drop(columns=[\"label_mean\"])\n",
    "    y = dataset[\"label_mean\"].astype(int)\n",
    "    \n",
    "    y_pred_rf = clf.predict(X)\n",
    "    f1score = f1_score(y, y_pred_rf, average='macro')\n",
    "    recall = recall_score(y, y_pred_rf, average='macro')\n",
    "    accuracy = accuracy_score(y, y_pred_rf)\n",
    "    AUC = roc_auc_score(y.ravel(), clf.predict_proba(X), multi_class='ovr')\n",
    "\n",
    "    # Imprimir as métricas\n",
    "    print(f\"\\n Dataset: {dataset_name}\")\n",
    "    print('auc =', AUC)\n",
    "    print('acc =', accuracy)\n",
    "    print('f1 =', f1score)\n",
    "    print('recall =', recall)\n",
    "    "
   ]
  },
  {
   "cell_type": "code",
   "execution_count": 119,
   "metadata": {},
   "outputs": [
    {
     "name": "stdout",
     "output_type": "stream",
     "text": [
      "\n",
      " Dataset: dfs13\n",
      "auc = 0.5117733521170604\n",
      "acc = 0.21030434287016983\n",
      "f1 = 0.07784221611420769\n",
      "recall = 0.18907967983972515\n",
      "\n",
      " Dataset: dfs14\n",
      "auc = 0.5\n",
      "acc = 0.21663019693654267\n",
      "f1 = 0.07122302158273382\n",
      "recall = 0.2\n",
      "\n",
      " Dataset: dfs15\n",
      "auc = 0.5530733164458725\n",
      "acc = 0.19655172413793104\n",
      "f1 = 0.0662003397727228\n",
      "recall = 0.18292845169969865\n",
      "\n",
      " Dataset: dfs16\n",
      "auc = 0.6250181058013604\n",
      "acc = 0.21334954735846506\n",
      "f1 = 0.07953735649979554\n",
      "recall = 0.20644412191582004\n",
      "\n",
      " Dataset: dfs17\n",
      "auc = 0.5\n",
      "acc = 0.202686495562485\n",
      "f1 = 0.06741124850418827\n",
      "recall = 0.2\n"
     ]
    }
   ],
   "source": [
    "for i in range(13, 18):\n",
    "    dataset_name = f'dfs{i}'\n",
    "    dataset = globals().get(dataset_name)\n",
    "    \n",
    "    X = dataset.drop(columns=[\"label_mean\"])\n",
    "    y = dataset[\"label_mean\"].astype(int)\n",
    "    \n",
    "    y_pred_rf = clf.predict(X)\n",
    "    f1score = f1_score(y, y_pred_rf, average='macro')\n",
    "    recall = recall_score(y, y_pred_rf, average='macro')\n",
    "    accuracy = accuracy_score(y, y_pred_rf)\n",
    "    AUC = roc_auc_score(y.ravel(), clf.predict_proba(X), multi_class='ovr')\n",
    "\n",
    "    # Imprimir as métricas\n",
    "    print(f\"\\n Dataset: {dataset_name}\")\n",
    "    print('auc =', AUC)\n",
    "    print('acc =', accuracy)\n",
    "    print('f1 =', f1score)\n",
    "    print('recall =', recall)"
   ]
  },
  {
   "cell_type": "markdown",
   "metadata": {},
   "source": [
    "### testando o knn para ver ser as metricas diminuem tanto"
   ]
  },
  {
   "cell_type": "code",
   "execution_count": 120,
   "metadata": {},
   "outputs": [
    {
     "name": "stdout",
     "output_type": "stream",
     "text": [
      "\n",
      " Dataset: dfs2\n",
      "auc = 0.5192952038868429\n",
      "acc = 0.2280282044824981\n",
      "f1 = 0.1449718932271763\n",
      "recall = 0.2070540163914119\n",
      "\n",
      " Dataset: dfs3\n",
      "auc = 0.4455703412455555\n",
      "acc = 0.2294044665012407\n",
      "f1 = 0.16367826874512809\n",
      "recall = 0.29219239480545883\n",
      "\n",
      " Dataset: dfs4\n",
      "auc = 0.48606031405261757\n",
      "acc = 0.14304156984249936\n",
      "f1 = 0.07143776494404405\n",
      "recall = 0.21166905786704926\n",
      "\n",
      " Dataset: dfs5\n",
      "auc = 0.5849043857257143\n",
      "acc = 0.3143842474135054\n",
      "f1 = 0.1529238440169418\n",
      "recall = 0.2290396817197426\n",
      "\n",
      " Dataset: dfs6\n",
      "auc = 0.5589331236759991\n",
      "acc = 0.18044899119067917\n",
      "f1 = 0.10468375280747391\n",
      "recall = 0.13200486606997303\n",
      "\n",
      " Dataset: dfs7\n",
      "auc = 0.5\n",
      "acc = 0.41018038052878675\n",
      "f1 = 0.20274804493900406\n",
      "recall = 0.28607564020281717\n",
      "\n",
      " Dataset: dfs8\n",
      "auc = 0.5\n",
      "acc = 0.27893654524089306\n",
      "f1 = 0.12926545120835703\n",
      "recall = 0.23048861308591398\n",
      "\n",
      " Dataset: dfs9\n",
      "auc = 0.5675915952702193\n",
      "acc = 0.2440863394441159\n",
      "f1 = 0.12930855789883142\n",
      "recall = 0.15859781918948576\n",
      "\n",
      " Dataset: dfs10\n",
      "auc = 0.5933442905569406\n",
      "acc = 0.09133169264424391\n",
      "f1 = 0.05828495851437898\n",
      "recall = 0.06155487348637735\n"
     ]
    }
   ],
   "source": [
    "for i in range(2, 11):\n",
    "    dataset_name = f'dfs{i}'\n",
    "    dataset = globals().get(dataset_name)\n",
    "    \n",
    "    X = dataset.drop(columns=[\"label_mean\"])\n",
    "    y = dataset[\"label_mean\"].astype(int)\n",
    "    \n",
    "    y_pred_knn = k_nearest_neighbors.predict(X)\n",
    "    f1score = f1_score(y, y_pred_knn, average='macro')\n",
    "    recall = recall_score(y, y_pred_knn, average='macro')\n",
    "    accuracy = accuracy_score(y, y_pred_knn)\n",
    "    AUC = roc_auc_score(y.ravel(), clf.predict_proba(X), multi_class='ovr')\n",
    "\n",
    "    # Imprimir as métricas\n",
    "    print(f\"\\n Dataset: {dataset_name}\")\n",
    "    print('auc =', AUC)\n",
    "    print('acc =', accuracy)\n",
    "    print('f1 =', f1score)\n",
    "    print('recall =', recall)"
   ]
  },
  {
   "cell_type": "code",
   "execution_count": 121,
   "metadata": {},
   "outputs": [
    {
     "name": "stdout",
     "output_type": "stream",
     "text": [
      "\n",
      " Dataset: dfs13\n",
      "auc = 0.5117733521170604\n",
      "acc = 0.3230365895360766\n",
      "f1 = 0.15246574027259122\n",
      "recall = 0.24473554540616088\n",
      "\n",
      " Dataset: dfs14\n",
      "auc = 0.5\n",
      "acc = 0.3927789934354486\n",
      "f1 = 0.1882707832977201\n",
      "recall = 0.27406394774815823\n",
      "\n",
      " Dataset: dfs15\n",
      "auc = 0.5530733164458725\n",
      "acc = 0.23505747126436782\n",
      "f1 = 0.12508262920238827\n",
      "recall = 0.16589757346749096\n",
      "\n",
      " Dataset: dfs16\n",
      "auc = 0.6250181058013604\n",
      "acc = 0.10728279962167275\n",
      "f1 = 0.05981843478875737\n",
      "recall = 0.04672126803842397\n",
      "\n",
      " Dataset: dfs17\n",
      "auc = 0.5\n",
      "acc = 0.13756296473974575\n",
      "f1 = 0.0652499742629383\n",
      "recall = 0.1048257725180802\n"
     ]
    }
   ],
   "source": [
    "for i in range(13, 18):\n",
    "    dataset_name = f'dfs{i}'\n",
    "    dataset = globals().get(dataset_name)\n",
    "    \n",
    "    X = dataset.drop(columns=[\"label_mean\"])\n",
    "    y = dataset[\"label_mean\"].astype(int)\n",
    "    \n",
    "    y_pred_knn = k_nearest_neighbors.predict(X)\n",
    "    f1score = f1_score(y, y_pred_knn, average='macro')\n",
    "    recall = recall_score(y, y_pred_knn, average='macro')\n",
    "    accuracy = accuracy_score(y, y_pred_knn)\n",
    "    AUC = roc_auc_score(y.ravel(), clf.predict_proba(X), multi_class='ovr')\n",
    "\n",
    "    # Imprimir as métricas\n",
    "    print(f\"\\n Dataset: {dataset_name}\")\n",
    "    print('auc =', AUC)\n",
    "    print('acc =', accuracy)\n",
    "    print('f1 =', f1score)\n",
    "    print('recall =', recall)"
   ]
  },
  {
   "cell_type": "markdown",
   "metadata": {},
   "source": [
    "#### Treinando e testando RF no s2 para comparacao com as metricas do s2 rodado com rf do dataset conjunto"
   ]
  },
  {
   "cell_type": "code",
   "execution_count": 122,
   "metadata": {},
   "outputs": [],
   "source": [
    "train_set = dfs2.drop(columns=[\"label_mean\"])\n",
    "labels = dfs2[\"label_mean\"].astype(int)\n",
    "X_train, X_test, y_train, y_test = train_test_split(train_set, labels, test_size=0.3, random_state=30)"
   ]
  },
  {
   "cell_type": "code",
   "execution_count": 123,
   "metadata": {},
   "outputs": [
    {
     "name": "stdout",
     "output_type": "stream",
     "text": [
      "auc = 0.9991632516965762\n",
      "acc = 0.9798573227024758\n",
      "f1 = 0.9731174594488049\n",
      "recall = 0.9748704039645009\n"
     ]
    }
   ],
   "source": [
    "clfind = RandomForestClassifier(n_estimators=100,max_depth=15)\n",
    "clfind.fit(X_train, y_train.ravel())\n",
    "y_pred_rf = clfind.predict(X_test)\n",
    "\n",
    "f1score   = f1_score        (y_test, y_pred_rf, average = 'macro')\n",
    "recall    = recall_score    (y_test, y_pred_rf, average = 'macro')\n",
    "accuracy  = accuracy_score  (y_test, y_pred_rf)\n",
    "AUC       = roc_auc_score   (y_test.ravel(), clfind.predict_proba(X_test), multi_class='ovr')\n",
    "\n",
    "print('auc =', AUC)\n",
    "print('acc =', accuracy)\n",
    "print('f1 =', f1score)\n",
    "print('recall =', recall)"
   ]
  }
 ],
 "metadata": {
  "kernelspec": {
   "display_name": "Python 3",
   "language": "python",
   "name": "python3"
  },
  "language_info": {
   "codemirror_mode": {
    "name": "ipython",
    "version": 3
   },
   "file_extension": ".py",
   "mimetype": "text/x-python",
   "name": "python",
   "nbconvert_exporter": "python",
   "pygments_lexer": "ipython3",
   "version": "3.10.6"
  }
 },
 "nbformat": 4,
 "nbformat_minor": 2
}

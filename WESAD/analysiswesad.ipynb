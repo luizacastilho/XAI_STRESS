{
 "cells": [
  {
   "cell_type": "code",
   "execution_count": 2,
   "metadata": {},
   "outputs": [],
   "source": [
    "import os\n",
    "import pickle\n",
    "import numpy as np\n",
    "import matplotlib.pyplot as plt\n",
    "import neurokit as nk\n",
    "import seaborn as sns\n",
    "import pandas as pd\n",
    "from scipy.interpolate import interp1d\n",
    "from sklearn import preprocessing, datasets, ensemble, model_selection\n",
    "from sklearn.ensemble import RandomForestClassifier"
   ]
  },
  {
   "cell_type": "code",
   "execution_count": 3,
   "metadata": {},
   "outputs": [],
   "source": [
    "data_set_path = r\"C:\\Users\\luiza\\Documents\\UFSC\\TCC_Datasets\\WESAD\\WESAD\"\n"
   ]
  },
  {
   "cell_type": "raw",
   "metadata": {
    "vscode": {
     "languageId": "raw"
    }
   },
   "source": [
    "#for pasta_numero in range(2, 18):\n",
    "folder_name = f\"S2\"\n",
    "folder_path = os.path.join(data_set_path, folder_name)\n",
    "\n",
    "if os.path.exists(folder_path):\n",
    "    for folder in os.listdir(folder_path):\n",
    "        if folder.endswith(\".pkl\"):\n",
    "            caminho_arquivo_pkl = os.path.join(folder_path, folder)\n",
    "                \n",
    "            # Abrir o arquivo .pkl\n",
    "            with open(caminho_arquivo_pkl, 'rb') as infile:\n",
    "                obj = pickle.load(infile, encoding='latin1')\n",
    "                bvp=obj['signal']['wrist']['BVP'][:,0]#[stress_to_plot]\n",
    "                eda=obj['signal']['wrist']['EDA'][:,0]#[stress_to_plot]\n",
    "                temp=obj['signal']['wrist']['TEMP'][:,0]#[stress_to_plot]\n",
    "                label=obj['label']\n",
    "\n",
    "print(len(bvp), len(eda), len(temp), len(label))\n",
    "\n",
    "# Interpolar os dados bvp para o mesmo comprimento que eda e temp\n",
    "interpolação_bvp = interp1d(np.linspace(0, 1, len(bvp)), bvp)\n",
    "bvp_interp = interpolação_bvp(np.linspace(0, 1, len(eda)))\n",
    "\n",
    "interpolacao_label = interp1d(np.linspace(0,1, len(label)), label)\n",
    "label_interp = interpolacao_label(np.linspace(0,1,len(eda)))\n",
    "# Criar o array numpy combinando os sinais e os rótulos\n",
    "numpy_data = np.column_stack((bvp_interp, eda, temp, label_interp))\n",
    "\n",
    "df = pd.DataFrame(data=numpy_data, columns=[\"bvp\", \"eda\", \"temp\",\"label\"]) "
   ]
  },
  {
   "cell_type": "code",
   "execution_count": 4,
   "metadata": {},
   "outputs": [],
   "source": [
    "# Lista para armazenar os dados combinados de todos os diretórios\n",
    "all_data = []\n",
    "\n",
    "# Lista de diretórios de S2 a S17\n",
    "folders = [f\"S{i}\" for i in range(2, 17)]\n",
    "\n",
    "for folder_name in folders:\n",
    "    folder_path = os.path.join(data_set_path, folder_name)\n",
    "\n",
    "    if os.path.exists(folder_path):\n",
    "        for folder in os.listdir(folder_path):\n",
    "            if folder.endswith(\".pkl\"):\n",
    "                caminho_arquivo_pkl = os.path.join(folder_path, folder)\n",
    "                \n",
    "                # Abrir o arquivo .pkl\n",
    "                with open(caminho_arquivo_pkl, 'rb') as infile:\n",
    "                    obj = pickle.load(infile, encoding='latin1')\n",
    "                    bvp=obj['signal']['wrist']['BVP'][:,0]\n",
    "                    eda=obj['signal']['wrist']['EDA'][:,0]\n",
    "                    temp=obj['signal']['wrist']['TEMP'][:,0]\n",
    "                    label=obj['label']\n",
    "\n"
   ]
  },
  {
   "cell_type": "code",
   "execution_count": 5,
   "metadata": {},
   "outputs": [
    {
     "data": {
      "text/plain": [
       "360384"
      ]
     },
     "execution_count": 5,
     "metadata": {},
     "output_type": "execute_result"
    }
   ],
   "source": [
    "len(bvp)"
   ]
  },
  {
   "cell_type": "code",
   "execution_count": 6,
   "metadata": {},
   "outputs": [
    {
     "data": {
      "text/plain": [
       "22524"
      ]
     },
     "execution_count": 6,
     "metadata": {},
     "output_type": "execute_result"
    }
   ],
   "source": [
    "len(eda)"
   ]
  },
  {
   "cell_type": "code",
   "execution_count": 7,
   "metadata": {},
   "outputs": [
    {
     "data": {
      "text/plain": [
       "22524"
      ]
     },
     "execution_count": 7,
     "metadata": {},
     "output_type": "execute_result"
    }
   ],
   "source": [
    "len(temp)"
   ]
  },
  {
   "cell_type": "code",
   "execution_count": 8,
   "metadata": {},
   "outputs": [
    {
     "data": {
      "text/plain": [
       "3941700"
      ]
     },
     "execution_count": 8,
     "metadata": {},
     "output_type": "execute_result"
    }
   ],
   "source": [
    "len(label)"
   ]
  },
  {
   "cell_type": "code",
   "execution_count": 9,
   "metadata": {},
   "outputs": [],
   "source": [
    "fs_label = 700  # Hz\n",
    "fs_temp_eda = 4  # Hz\n",
    "fs_bvp = 64  # Hz\n",
    "\n",
    "len_label = len(label)\n",
    "len_temp_eda = len(temp)\n",
    "len_bvp = len(bvp)\n",
    "\n",
    "total_time = len_label / fs_label\n",
    "\n",
    "time_label = np.linspace(0, total_time, len_label, endpoint=False)\n",
    "time_temp_eda = np.linspace(0, total_time, len_temp_eda, endpoint=False)\n",
    "time_bvp = np.linspace(0, total_time, len_bvp, endpoint=False)\n",
    "\n",
    "\n",
    "interp_temp = interp1d(time_temp_eda, temp, kind='nearest', fill_value='extrapolate')\n",
    "interp_eda = interp1d(time_temp_eda, eda, kind='nearest', fill_value='extrapolate')\n",
    "interp_bvp = interp1d(time_bvp, bvp, kind='nearest', fill_value='extrapolate')\n",
    "\n",
    "aligned_temp = interp_temp(time_label)\n",
    "aligned_eda = interp_eda(time_label)\n",
    "aligned_bvp = interp_bvp(time_label)"
   ]
  },
  {
   "cell_type": "code",
   "execution_count": 10,
   "metadata": {},
   "outputs": [],
   "source": [
    "# Criar o array numpy combinando os sinais e os rótulos\n",
    "numpy_data = np.column_stack((aligned_bvp, aligned_eda, aligned_temp, label))\n",
    "                \n",
    "# Adicionar os dados deste diretório à lista de todos os dados\n",
    "all_data.append(numpy_data)\n",
    "\n",
    "# Converter a lista de arrays numpy em um único array numpy\n",
    "combined_data = np.concatenate(all_data, axis=0)"
   ]
  },
  {
   "cell_type": "code",
   "execution_count": 11,
   "metadata": {},
   "outputs": [],
   "source": [
    "column_names = [\"bvp\", \"eda\", \"temp\", \"label\"]\n",
    "\n",
    "# Criar DataFrame\n",
    "df = pd.DataFrame(data=combined_data, columns=column_names)"
   ]
  },
  {
   "cell_type": "code",
   "execution_count": 12,
   "metadata": {},
   "outputs": [
    {
     "data": {
      "text/html": [
       "<div>\n",
       "<style scoped>\n",
       "    .dataframe tbody tr th:only-of-type {\n",
       "        vertical-align: middle;\n",
       "    }\n",
       "\n",
       "    .dataframe tbody tr th {\n",
       "        vertical-align: top;\n",
       "    }\n",
       "\n",
       "    .dataframe thead th {\n",
       "        text-align: right;\n",
       "    }\n",
       "</style>\n",
       "<table border=\"1\" class=\"dataframe\">\n",
       "  <thead>\n",
       "    <tr style=\"text-align: right;\">\n",
       "      <th></th>\n",
       "      <th>bvp</th>\n",
       "      <th>eda</th>\n",
       "      <th>temp</th>\n",
       "      <th>label</th>\n",
       "    </tr>\n",
       "  </thead>\n",
       "  <tbody>\n",
       "    <tr>\n",
       "      <th>0</th>\n",
       "      <td>-1.60</td>\n",
       "      <td>0.254602</td>\n",
       "      <td>29.43</td>\n",
       "      <td>0.0</td>\n",
       "    </tr>\n",
       "    <tr>\n",
       "      <th>1</th>\n",
       "      <td>-1.60</td>\n",
       "      <td>0.254602</td>\n",
       "      <td>29.43</td>\n",
       "      <td>0.0</td>\n",
       "    </tr>\n",
       "    <tr>\n",
       "      <th>2</th>\n",
       "      <td>-1.60</td>\n",
       "      <td>0.254602</td>\n",
       "      <td>29.43</td>\n",
       "      <td>0.0</td>\n",
       "    </tr>\n",
       "    <tr>\n",
       "      <th>3</th>\n",
       "      <td>-1.60</td>\n",
       "      <td>0.254602</td>\n",
       "      <td>29.43</td>\n",
       "      <td>0.0</td>\n",
       "    </tr>\n",
       "    <tr>\n",
       "      <th>4</th>\n",
       "      <td>-1.60</td>\n",
       "      <td>0.254602</td>\n",
       "      <td>29.43</td>\n",
       "      <td>0.0</td>\n",
       "    </tr>\n",
       "    <tr>\n",
       "      <th>...</th>\n",
       "      <td>...</td>\n",
       "      <td>...</td>\n",
       "      <td>...</td>\n",
       "      <td>...</td>\n",
       "    </tr>\n",
       "    <tr>\n",
       "      <th>3941695</th>\n",
       "      <td>84.97</td>\n",
       "      <td>0.412235</td>\n",
       "      <td>29.57</td>\n",
       "      <td>0.0</td>\n",
       "    </tr>\n",
       "    <tr>\n",
       "      <th>3941696</th>\n",
       "      <td>84.97</td>\n",
       "      <td>0.412235</td>\n",
       "      <td>29.57</td>\n",
       "      <td>0.0</td>\n",
       "    </tr>\n",
       "    <tr>\n",
       "      <th>3941697</th>\n",
       "      <td>84.97</td>\n",
       "      <td>0.412235</td>\n",
       "      <td>29.57</td>\n",
       "      <td>0.0</td>\n",
       "    </tr>\n",
       "    <tr>\n",
       "      <th>3941698</th>\n",
       "      <td>84.97</td>\n",
       "      <td>0.412235</td>\n",
       "      <td>29.57</td>\n",
       "      <td>0.0</td>\n",
       "    </tr>\n",
       "    <tr>\n",
       "      <th>3941699</th>\n",
       "      <td>84.97</td>\n",
       "      <td>0.412235</td>\n",
       "      <td>29.57</td>\n",
       "      <td>0.0</td>\n",
       "    </tr>\n",
       "  </tbody>\n",
       "</table>\n",
       "<p>3941700 rows × 4 columns</p>\n",
       "</div>"
      ],
      "text/plain": [
       "           bvp       eda   temp  label\n",
       "0        -1.60  0.254602  29.43    0.0\n",
       "1        -1.60  0.254602  29.43    0.0\n",
       "2        -1.60  0.254602  29.43    0.0\n",
       "3        -1.60  0.254602  29.43    0.0\n",
       "4        -1.60  0.254602  29.43    0.0\n",
       "...        ...       ...    ...    ...\n",
       "3941695  84.97  0.412235  29.57    0.0\n",
       "3941696  84.97  0.412235  29.57    0.0\n",
       "3941697  84.97  0.412235  29.57    0.0\n",
       "3941698  84.97  0.412235  29.57    0.0\n",
       "3941699  84.97  0.412235  29.57    0.0\n",
       "\n",
       "[3941700 rows x 4 columns]"
      ]
     },
     "execution_count": 12,
     "metadata": {},
     "output_type": "execute_result"
    }
   ],
   "source": [
    "df"
   ]
  },
  {
   "cell_type": "code",
   "execution_count": 13,
   "metadata": {},
   "outputs": [],
   "source": [
    "# 0 = not defined / transient, 1 = baseline, 2 = stress, 3 = amusement, 4 = meditation, 5/6/7 = should be ignored in this dataset \n",
    "df = df[df['label'] != 7.0]\n",
    "df= df[df['label'] != 6.0]\n",
    "df= df[df['label'] != 5.0]\n",
    "df= df[df['label'] != 0.0]"
   ]
  },
  {
   "cell_type": "code",
   "execution_count": 14,
   "metadata": {},
   "outputs": [
    {
     "data": {
      "text/html": [
       "<div>\n",
       "<style scoped>\n",
       "    .dataframe tbody tr th:only-of-type {\n",
       "        vertical-align: middle;\n",
       "    }\n",
       "\n",
       "    .dataframe tbody tr th {\n",
       "        vertical-align: top;\n",
       "    }\n",
       "\n",
       "    .dataframe thead th {\n",
       "        text-align: right;\n",
       "    }\n",
       "</style>\n",
       "<table border=\"1\" class=\"dataframe\">\n",
       "  <thead>\n",
       "    <tr style=\"text-align: right;\">\n",
       "      <th></th>\n",
       "      <th>bvp</th>\n",
       "      <th>eda</th>\n",
       "      <th>temp</th>\n",
       "      <th>label</th>\n",
       "    </tr>\n",
       "  </thead>\n",
       "  <tbody>\n",
       "    <tr>\n",
       "      <th>68859</th>\n",
       "      <td>-4.57</td>\n",
       "      <td>0.292984</td>\n",
       "      <td>29.41</td>\n",
       "      <td>1.0</td>\n",
       "    </tr>\n",
       "    <tr>\n",
       "      <th>68860</th>\n",
       "      <td>-4.57</td>\n",
       "      <td>0.292984</td>\n",
       "      <td>29.41</td>\n",
       "      <td>1.0</td>\n",
       "    </tr>\n",
       "    <tr>\n",
       "      <th>68861</th>\n",
       "      <td>-4.57</td>\n",
       "      <td>0.292984</td>\n",
       "      <td>29.41</td>\n",
       "      <td>1.0</td>\n",
       "    </tr>\n",
       "    <tr>\n",
       "      <th>68862</th>\n",
       "      <td>-4.57</td>\n",
       "      <td>0.292984</td>\n",
       "      <td>29.41</td>\n",
       "      <td>1.0</td>\n",
       "    </tr>\n",
       "    <tr>\n",
       "      <th>68863</th>\n",
       "      <td>-4.57</td>\n",
       "      <td>0.292984</td>\n",
       "      <td>29.41</td>\n",
       "      <td>1.0</td>\n",
       "    </tr>\n",
       "    <tr>\n",
       "      <th>...</th>\n",
       "      <td>...</td>\n",
       "      <td>...</td>\n",
       "      <td>...</td>\n",
       "      <td>...</td>\n",
       "    </tr>\n",
       "    <tr>\n",
       "      <th>3787954</th>\n",
       "      <td>8.76</td>\n",
       "      <td>0.417353</td>\n",
       "      <td>29.81</td>\n",
       "      <td>4.0</td>\n",
       "    </tr>\n",
       "    <tr>\n",
       "      <th>3787955</th>\n",
       "      <td>8.76</td>\n",
       "      <td>0.417353</td>\n",
       "      <td>29.81</td>\n",
       "      <td>4.0</td>\n",
       "    </tr>\n",
       "    <tr>\n",
       "      <th>3787956</th>\n",
       "      <td>8.76</td>\n",
       "      <td>0.417353</td>\n",
       "      <td>29.81</td>\n",
       "      <td>4.0</td>\n",
       "    </tr>\n",
       "    <tr>\n",
       "      <th>3787957</th>\n",
       "      <td>8.76</td>\n",
       "      <td>0.417353</td>\n",
       "      <td>29.81</td>\n",
       "      <td>4.0</td>\n",
       "    </tr>\n",
       "    <tr>\n",
       "      <th>3787958</th>\n",
       "      <td>8.44</td>\n",
       "      <td>0.417353</td>\n",
       "      <td>29.81</td>\n",
       "      <td>4.0</td>\n",
       "    </tr>\n",
       "  </tbody>\n",
       "</table>\n",
       "<p>2109100 rows × 4 columns</p>\n",
       "</div>"
      ],
      "text/plain": [
       "          bvp       eda   temp  label\n",
       "68859   -4.57  0.292984  29.41    1.0\n",
       "68860   -4.57  0.292984  29.41    1.0\n",
       "68861   -4.57  0.292984  29.41    1.0\n",
       "68862   -4.57  0.292984  29.41    1.0\n",
       "68863   -4.57  0.292984  29.41    1.0\n",
       "...       ...       ...    ...    ...\n",
       "3787954  8.76  0.417353  29.81    4.0\n",
       "3787955  8.76  0.417353  29.81    4.0\n",
       "3787956  8.76  0.417353  29.81    4.0\n",
       "3787957  8.76  0.417353  29.81    4.0\n",
       "3787958  8.44  0.417353  29.81    4.0\n",
       "\n",
       "[2109100 rows x 4 columns]"
      ]
     },
     "execution_count": 14,
     "metadata": {},
     "output_type": "execute_result"
    }
   ],
   "source": [
    "df"
   ]
  },
  {
   "cell_type": "code",
   "execution_count": 15,
   "metadata": {},
   "outputs": [],
   "source": [
    "X = df.drop(columns=[\"label\"])  # Remove a coluna \"label\" para obter os recursos\n",
    "y = df[\"label\"] # 0 = not defined / transient, 1 = baseline, 2 = stress, 3 = amusement, 4 = meditation, 5/6/7 = should be ignored in this dataset\n",
    "y = y.astype(int)\n",
    "from sklearn.model_selection import train_test_split\n",
    "X_train, X_test, y_train, y_test = train_test_split(X, y, test_size=0.2, random_state=0)"
   ]
  },
  {
   "cell_type": "code",
   "execution_count": 16,
   "metadata": {},
   "outputs": [
    {
     "data": {
      "text/plain": [
       "0.999947845052392"
      ]
     },
     "execution_count": 16,
     "metadata": {},
     "output_type": "execute_result"
    }
   ],
   "source": [
    "from sklearn.ensemble import RandomForestClassifier\n",
    "from sklearn import metrics\n",
    "clf = RandomForestClassifier()\n",
    "clf.fit(X_train, y_train)\n",
    "y_pred = clf.predict(X_test)\n",
    "metrics.accuracy_score(y_test, y_pred)"
   ]
  },
  {
   "cell_type": "markdown",
   "metadata": {},
   "source": [
    "\n",
    "Temperatura"
   ]
  },
  {
   "cell_type": "code",
   "execution_count": 17,
   "metadata": {},
   "outputs": [],
   "source": [
    "temp_min = []\n",
    "temp_max = []\n",
    "temp_mean = []\n",
    "\n",
    "for i in range(0, len(df), 3):\n",
    "    temps = df['temp'].iloc[i:i+3]\n",
    "    temp_min.append(temps.min())\n",
    "    temp_max.append(temps.max())\n",
    "    temp_mean.append(temps.mean())\n",
    "\n",
    "temp_stats = pd.DataFrame({'temp_min': temp_min, 'temp_max': temp_max, 'temp_mean': temp_mean})"
   ]
  },
  {
   "cell_type": "code",
   "execution_count": 18,
   "metadata": {},
   "outputs": [],
   "source": [
    "temp_min_array = np.array(temp_stats['temp_min'])\n",
    "normalized_temp_min = preprocessing.normalize([temp_min_array])\n",
    "temp_max_array = np.array(temp_stats['temp_max'])\n",
    "normalized_temp_max = preprocessing.normalize([temp_max_array])\n",
    "temp_mean_array = np.array(temp_stats['temp_mean'])\n",
    "normalized_temp_mean = preprocessing.normalize([temp_mean_array])\n"
   ]
  },
  {
   "cell_type": "code",
   "execution_count": 19,
   "metadata": {},
   "outputs": [
    {
     "data": {
      "text/html": [
       "<div>\n",
       "<style scoped>\n",
       "    .dataframe tbody tr th:only-of-type {\n",
       "        vertical-align: middle;\n",
       "    }\n",
       "\n",
       "    .dataframe tbody tr th {\n",
       "        vertical-align: top;\n",
       "    }\n",
       "\n",
       "    .dataframe thead th {\n",
       "        text-align: right;\n",
       "    }\n",
       "</style>\n",
       "<table border=\"1\" class=\"dataframe\">\n",
       "  <thead>\n",
       "    <tr style=\"text-align: right;\">\n",
       "      <th></th>\n",
       "      <th>normalized_temp_mean</th>\n",
       "      <th>normalized_temp_max</th>\n",
       "      <th>normalized_temp_min</th>\n",
       "    </tr>\n",
       "  </thead>\n",
       "  <tbody>\n",
       "    <tr>\n",
       "      <th>0</th>\n",
       "      <td>0.001157</td>\n",
       "      <td>0.001157</td>\n",
       "      <td>0.001157</td>\n",
       "    </tr>\n",
       "    <tr>\n",
       "      <th>1</th>\n",
       "      <td>0.001157</td>\n",
       "      <td>0.001157</td>\n",
       "      <td>0.001157</td>\n",
       "    </tr>\n",
       "    <tr>\n",
       "      <th>2</th>\n",
       "      <td>0.001157</td>\n",
       "      <td>0.001157</td>\n",
       "      <td>0.001157</td>\n",
       "    </tr>\n",
       "    <tr>\n",
       "      <th>3</th>\n",
       "      <td>0.001157</td>\n",
       "      <td>0.001157</td>\n",
       "      <td>0.001157</td>\n",
       "    </tr>\n",
       "    <tr>\n",
       "      <th>4</th>\n",
       "      <td>0.001157</td>\n",
       "      <td>0.001157</td>\n",
       "      <td>0.001157</td>\n",
       "    </tr>\n",
       "  </tbody>\n",
       "</table>\n",
       "</div>"
      ],
      "text/plain": [
       "   normalized_temp_mean  normalized_temp_max  normalized_temp_min\n",
       "0              0.001157             0.001157             0.001157\n",
       "1              0.001157             0.001157             0.001157\n",
       "2              0.001157             0.001157             0.001157\n",
       "3              0.001157             0.001157             0.001157\n",
       "4              0.001157             0.001157             0.001157"
      ]
     },
     "execution_count": 19,
     "metadata": {},
     "output_type": "execute_result"
    }
   ],
   "source": [
    "data_temp = {\n",
    "    'normalized_temp_mean': normalized_temp_mean.flatten(),\n",
    "    'normalized_temp_max': normalized_temp_max.flatten(),\n",
    "    'normalized_temp_min': normalized_temp_min.flatten()\n",
    "}\n",
    "\n",
    "df_temp = pd.DataFrame(data_temp)\n",
    "df_temp.head()"
   ]
  },
  {
   "cell_type": "markdown",
   "metadata": {},
   "source": [
    "\n",
    "EDA"
   ]
  },
  {
   "cell_type": "code",
   "execution_count": 20,
   "metadata": {},
   "outputs": [],
   "source": [
    "eda_min = []\n",
    "eda_max = []\n",
    "eda_mean = []\n",
    "for i in range(0, len(df), 3):\n",
    "    eda = df['eda'].iloc[i:i+3]\n",
    "    eda_min.append(eda.min())\n",
    "    eda_max.append(eda.max())\n",
    "    eda_mean.append(eda.mean())\n",
    "\n",
    "eda_stats = pd.DataFrame({'eda_min': eda_min, 'eda_max': eda_max, 'eda_mean': eda_mean})"
   ]
  },
  {
   "cell_type": "code",
   "execution_count": 21,
   "metadata": {},
   "outputs": [
    {
     "name": "stdout",
     "output_type": "stream",
     "text": [
      "    eda_min   eda_max  eda_mean\n",
      "0  0.292984  0.292984  0.292984\n",
      "1  0.292984  0.292984  0.292984\n",
      "2  0.292984  0.292984  0.292984\n",
      "3  0.292984  0.292984  0.292984\n",
      "4  0.292984  0.292984  0.292984\n"
     ]
    }
   ],
   "source": [
    "print(eda_stats.head())"
   ]
  },
  {
   "cell_type": "code",
   "execution_count": 22,
   "metadata": {},
   "outputs": [],
   "source": [
    "eda_min_array = np.array(eda_stats['eda_min'])\n",
    "normalized_eda_min = preprocessing.normalize([eda_min_array])\n",
    "eda_max_array = np.array(eda_stats['eda_max'])\n",
    "normalized_eda_max = preprocessing.normalize([eda_max_array])\n",
    "eda_mean_array = np.array(eda_stats['eda_mean'])\n",
    "normalized_eda_mean = preprocessing.normalize([eda_mean_array])\n"
   ]
  },
  {
   "cell_type": "code",
   "execution_count": 23,
   "metadata": {},
   "outputs": [
    {
     "data": {
      "text/html": [
       "<div>\n",
       "<style scoped>\n",
       "    .dataframe tbody tr th:only-of-type {\n",
       "        vertical-align: middle;\n",
       "    }\n",
       "\n",
       "    .dataframe tbody tr th {\n",
       "        vertical-align: top;\n",
       "    }\n",
       "\n",
       "    .dataframe thead th {\n",
       "        text-align: right;\n",
       "    }\n",
       "</style>\n",
       "<table border=\"1\" class=\"dataframe\">\n",
       "  <thead>\n",
       "    <tr style=\"text-align: right;\">\n",
       "      <th></th>\n",
       "      <th>normalized_eda_mean</th>\n",
       "      <th>normalized_eda_max</th>\n",
       "      <th>normalized_eda_min</th>\n",
       "    </tr>\n",
       "  </thead>\n",
       "  <tbody>\n",
       "    <tr>\n",
       "      <th>0</th>\n",
       "      <td>0.000344</td>\n",
       "      <td>0.000344</td>\n",
       "      <td>0.000344</td>\n",
       "    </tr>\n",
       "    <tr>\n",
       "      <th>1</th>\n",
       "      <td>0.000344</td>\n",
       "      <td>0.000344</td>\n",
       "      <td>0.000344</td>\n",
       "    </tr>\n",
       "    <tr>\n",
       "      <th>2</th>\n",
       "      <td>0.000344</td>\n",
       "      <td>0.000344</td>\n",
       "      <td>0.000344</td>\n",
       "    </tr>\n",
       "    <tr>\n",
       "      <th>3</th>\n",
       "      <td>0.000344</td>\n",
       "      <td>0.000344</td>\n",
       "      <td>0.000344</td>\n",
       "    </tr>\n",
       "    <tr>\n",
       "      <th>4</th>\n",
       "      <td>0.000344</td>\n",
       "      <td>0.000344</td>\n",
       "      <td>0.000344</td>\n",
       "    </tr>\n",
       "  </tbody>\n",
       "</table>\n",
       "</div>"
      ],
      "text/plain": [
       "   normalized_eda_mean  normalized_eda_max  normalized_eda_min\n",
       "0             0.000344            0.000344            0.000344\n",
       "1             0.000344            0.000344            0.000344\n",
       "2             0.000344            0.000344            0.000344\n",
       "3             0.000344            0.000344            0.000344\n",
       "4             0.000344            0.000344            0.000344"
      ]
     },
     "execution_count": 23,
     "metadata": {},
     "output_type": "execute_result"
    }
   ],
   "source": [
    "data_eda = {\n",
    "    'normalized_eda_mean': normalized_eda_mean.flatten(),\n",
    "    'normalized_eda_max': normalized_eda_max.flatten(),\n",
    "    'normalized_eda_min': normalized_eda_min.flatten()\n",
    "}\n",
    "\n",
    "df_eda = pd.DataFrame(data_eda)\n",
    "df_eda.head()"
   ]
  },
  {
   "cell_type": "markdown",
   "metadata": {},
   "source": [
    "BVP"
   ]
  },
  {
   "cell_type": "code",
   "execution_count": 24,
   "metadata": {},
   "outputs": [
    {
     "data": {
      "text/html": [
       "<div>\n",
       "<style scoped>\n",
       "    .dataframe tbody tr th:only-of-type {\n",
       "        vertical-align: middle;\n",
       "    }\n",
       "\n",
       "    .dataframe tbody tr th {\n",
       "        vertical-align: top;\n",
       "    }\n",
       "\n",
       "    .dataframe thead th {\n",
       "        text-align: right;\n",
       "    }\n",
       "</style>\n",
       "<table border=\"1\" class=\"dataframe\">\n",
       "  <thead>\n",
       "    <tr style=\"text-align: right;\">\n",
       "      <th></th>\n",
       "      <th>1495437335.000000</th>\n",
       "    </tr>\n",
       "  </thead>\n",
       "  <tbody>\n",
       "    <tr>\n",
       "      <th>7861</th>\n",
       "      <td>81.38</td>\n",
       "    </tr>\n",
       "    <tr>\n",
       "      <th>7862</th>\n",
       "      <td>82.03</td>\n",
       "    </tr>\n",
       "    <tr>\n",
       "      <th>7863</th>\n",
       "      <td>82.67</td>\n",
       "    </tr>\n",
       "    <tr>\n",
       "      <th>7864</th>\n",
       "      <td>83.35</td>\n",
       "    </tr>\n",
       "    <tr>\n",
       "      <th>7865</th>\n",
       "      <td>84.03</td>\n",
       "    </tr>\n",
       "  </tbody>\n",
       "</table>\n",
       "</div>"
      ],
      "text/plain": [
       "      1495437335.000000\n",
       "7861              81.38\n",
       "7862              82.03\n",
       "7863              82.67\n",
       "7864              83.35\n",
       "7865              84.03"
      ]
     },
     "execution_count": 24,
     "metadata": {},
     "output_type": "execute_result"
    }
   ],
   "source": [
    "folder_path = r\"C:\\Users\\luiza\\Documents\\UFSC\\TCC_Datasets\\WESAD\\WESAD\\S2\\S2_E4_Data\\HR.csv\"\n",
    "# Lendo o arquivo CSV\n",
    "hr_data = pd.read_csv(folder_path)\n",
    "\n",
    "# Imprimindo os dados\n",
    "#print(hr_data)\n",
    "\n",
    "#plt.figure(figsize=(12,6))\n",
    "\n",
    "#plt.plot(hr_data.values)\n",
    "#plt.show()\n",
    "hr_data.tail()"
   ]
  },
  {
   "cell_type": "code",
   "execution_count": 25,
   "metadata": {},
   "outputs": [
    {
     "data": {
      "text/html": [
       "<div>\n",
       "<style scoped>\n",
       "    .dataframe tbody tr th:only-of-type {\n",
       "        vertical-align: middle;\n",
       "    }\n",
       "\n",
       "    .dataframe tbody tr th {\n",
       "        vertical-align: top;\n",
       "    }\n",
       "\n",
       "    .dataframe thead th {\n",
       "        text-align: right;\n",
       "    }\n",
       "</style>\n",
       "<table border=\"1\" class=\"dataframe\">\n",
       "  <thead>\n",
       "    <tr style=\"text-align: right;\">\n",
       "      <th></th>\n",
       "      <th>1495437325.00</th>\n",
       "    </tr>\n",
       "  </thead>\n",
       "  <tbody>\n",
       "    <tr>\n",
       "      <th>503939</th>\n",
       "      <td>96.51</td>\n",
       "    </tr>\n",
       "    <tr>\n",
       "      <th>503940</th>\n",
       "      <td>92.92</td>\n",
       "    </tr>\n",
       "    <tr>\n",
       "      <th>503941</th>\n",
       "      <td>85.61</td>\n",
       "    </tr>\n",
       "    <tr>\n",
       "      <th>503942</th>\n",
       "      <td>75.98</td>\n",
       "    </tr>\n",
       "    <tr>\n",
       "      <th>503943</th>\n",
       "      <td>65.86</td>\n",
       "    </tr>\n",
       "  </tbody>\n",
       "</table>\n",
       "</div>"
      ],
      "text/plain": [
       "        1495437325.00\n",
       "503939          96.51\n",
       "503940          92.92\n",
       "503941          85.61\n",
       "503942          75.98\n",
       "503943          65.86"
      ]
     },
     "execution_count": 25,
     "metadata": {},
     "output_type": "execute_result"
    }
   ],
   "source": [
    "folder_path = r\"C:\\Users\\luiza\\Documents\\UFSC\\TCC_Datasets\\WESAD\\WESAD\\S2\\S2_E4_Data\\bvp.csv\"\n",
    "# Lendo o arquivo CSV\n",
    "bvp_data = pd.read_csv(folder_path)\n",
    "bvp_data.head()\n",
    "bvp_data.tail()\n"
   ]
  },
  {
   "cell_type": "code",
   "execution_count": 26,
   "metadata": {},
   "outputs": [],
   "source": [
    "bvp_min = []\n",
    "bvp_max = []\n",
    "bvp_mean = []\n",
    "for i in range(0, len(df), 3):\n",
    "    bvp = df['bvp'].iloc[i:i+3]\n",
    "    bvp_min.append(bvp.min())\n",
    "    bvp_max.append(bvp.max())\n",
    "    bvp_mean.append(bvp.mean())\n",
    "\n",
    "bvp_stats = pd.DataFrame({'bvp_min': bvp_min, 'bvp_max': bvp_max, 'bvp_mean': bvp_mean})\n",
    "\n",
    "bvp_min_array = np.array(bvp_stats['bvp_min'])\n",
    "normalized_bvp_min = preprocessing.normalize([bvp_min_array])\n",
    "bvp_max_array = np.array(bvp_stats['bvp_max'])\n",
    "normalized_bvp_max = preprocessing.normalize([bvp_max_array])\n",
    "bvp_mean_array = np.array(bvp_stats['bvp_mean'])\n",
    "normalized_bvp_mean = preprocessing.normalize([bvp_mean_array])"
   ]
  },
  {
   "cell_type": "code",
   "execution_count": 27,
   "metadata": {},
   "outputs": [
    {
     "data": {
      "text/html": [
       "<div>\n",
       "<style scoped>\n",
       "    .dataframe tbody tr th:only-of-type {\n",
       "        vertical-align: middle;\n",
       "    }\n",
       "\n",
       "    .dataframe tbody tr th {\n",
       "        vertical-align: top;\n",
       "    }\n",
       "\n",
       "    .dataframe thead th {\n",
       "        text-align: right;\n",
       "    }\n",
       "</style>\n",
       "<table border=\"1\" class=\"dataframe\">\n",
       "  <thead>\n",
       "    <tr style=\"text-align: right;\">\n",
       "      <th></th>\n",
       "      <th>normalized_bvp_mean</th>\n",
       "      <th>normalized_bvp_max</th>\n",
       "      <th>normalized_bvp_min</th>\n",
       "    </tr>\n",
       "  </thead>\n",
       "  <tbody>\n",
       "    <tr>\n",
       "      <th>0</th>\n",
       "      <td>-0.000218</td>\n",
       "      <td>-0.000218</td>\n",
       "      <td>-0.000218</td>\n",
       "    </tr>\n",
       "    <tr>\n",
       "      <th>1</th>\n",
       "      <td>-0.000218</td>\n",
       "      <td>-0.000218</td>\n",
       "      <td>-0.000218</td>\n",
       "    </tr>\n",
       "    <tr>\n",
       "      <th>2</th>\n",
       "      <td>-0.000218</td>\n",
       "      <td>-0.000218</td>\n",
       "      <td>-0.000218</td>\n",
       "    </tr>\n",
       "    <tr>\n",
       "      <th>3</th>\n",
       "      <td>-0.000168</td>\n",
       "      <td>-0.000168</td>\n",
       "      <td>-0.000168</td>\n",
       "    </tr>\n",
       "    <tr>\n",
       "      <th>4</th>\n",
       "      <td>-0.000168</td>\n",
       "      <td>-0.000168</td>\n",
       "      <td>-0.000168</td>\n",
       "    </tr>\n",
       "  </tbody>\n",
       "</table>\n",
       "</div>"
      ],
      "text/plain": [
       "   normalized_bvp_mean  normalized_bvp_max  normalized_bvp_min\n",
       "0            -0.000218           -0.000218           -0.000218\n",
       "1            -0.000218           -0.000218           -0.000218\n",
       "2            -0.000218           -0.000218           -0.000218\n",
       "3            -0.000168           -0.000168           -0.000168\n",
       "4            -0.000168           -0.000168           -0.000168"
      ]
     },
     "execution_count": 27,
     "metadata": {},
     "output_type": "execute_result"
    }
   ],
   "source": [
    "data_bvp = {\n",
    "    'normalized_bvp_mean': normalized_bvp_mean.flatten(),\n",
    "    'normalized_bvp_max': normalized_bvp_max.flatten(),\n",
    "    'normalized_bvp_min': normalized_bvp_min.flatten()\n",
    "}\n",
    "\n",
    "df_bvp = pd.DataFrame(data_bvp)\n",
    "df_bvp.head()\n",
    "\n",
    "##se eu trocar pelos outros arquivos csv, eu vou perder a referencia da label"
   ]
  },
  {
   "cell_type": "code",
   "execution_count": 28,
   "metadata": {},
   "outputs": [
    {
     "data": {
      "text/html": [
       "<div>\n",
       "<style scoped>\n",
       "    .dataframe tbody tr th:only-of-type {\n",
       "        vertical-align: middle;\n",
       "    }\n",
       "\n",
       "    .dataframe tbody tr th {\n",
       "        vertical-align: top;\n",
       "    }\n",
       "\n",
       "    .dataframe thead th {\n",
       "        text-align: right;\n",
       "    }\n",
       "</style>\n",
       "<table border=\"1\" class=\"dataframe\">\n",
       "  <thead>\n",
       "    <tr style=\"text-align: right;\">\n",
       "      <th></th>\n",
       "      <th>normalized_temp_mean</th>\n",
       "      <th>normalized_temp_max</th>\n",
       "      <th>normalized_temp_min</th>\n",
       "      <th>normalized_eda_mean</th>\n",
       "      <th>normalized_eda_max</th>\n",
       "      <th>normalized_eda_min</th>\n",
       "      <th>normalized_bvp_mean</th>\n",
       "      <th>normalized_bvp_max</th>\n",
       "      <th>normalized_bvp_min</th>\n",
       "    </tr>\n",
       "  </thead>\n",
       "  <tbody>\n",
       "    <tr>\n",
       "      <th>0</th>\n",
       "      <td>0.001157</td>\n",
       "      <td>0.001157</td>\n",
       "      <td>0.001157</td>\n",
       "      <td>0.000344</td>\n",
       "      <td>0.000344</td>\n",
       "      <td>0.000344</td>\n",
       "      <td>-0.000218</td>\n",
       "      <td>-0.000218</td>\n",
       "      <td>-0.000218</td>\n",
       "    </tr>\n",
       "    <tr>\n",
       "      <th>1</th>\n",
       "      <td>0.001157</td>\n",
       "      <td>0.001157</td>\n",
       "      <td>0.001157</td>\n",
       "      <td>0.000344</td>\n",
       "      <td>0.000344</td>\n",
       "      <td>0.000344</td>\n",
       "      <td>-0.000218</td>\n",
       "      <td>-0.000218</td>\n",
       "      <td>-0.000218</td>\n",
       "    </tr>\n",
       "    <tr>\n",
       "      <th>2</th>\n",
       "      <td>0.001157</td>\n",
       "      <td>0.001157</td>\n",
       "      <td>0.001157</td>\n",
       "      <td>0.000344</td>\n",
       "      <td>0.000344</td>\n",
       "      <td>0.000344</td>\n",
       "      <td>-0.000218</td>\n",
       "      <td>-0.000218</td>\n",
       "      <td>-0.000218</td>\n",
       "    </tr>\n",
       "    <tr>\n",
       "      <th>3</th>\n",
       "      <td>0.001157</td>\n",
       "      <td>0.001157</td>\n",
       "      <td>0.001157</td>\n",
       "      <td>0.000344</td>\n",
       "      <td>0.000344</td>\n",
       "      <td>0.000344</td>\n",
       "      <td>-0.000168</td>\n",
       "      <td>-0.000168</td>\n",
       "      <td>-0.000168</td>\n",
       "    </tr>\n",
       "    <tr>\n",
       "      <th>4</th>\n",
       "      <td>0.001157</td>\n",
       "      <td>0.001157</td>\n",
       "      <td>0.001157</td>\n",
       "      <td>0.000344</td>\n",
       "      <td>0.000344</td>\n",
       "      <td>0.000344</td>\n",
       "      <td>-0.000168</td>\n",
       "      <td>-0.000168</td>\n",
       "      <td>-0.000168</td>\n",
       "    </tr>\n",
       "  </tbody>\n",
       "</table>\n",
       "</div>"
      ],
      "text/plain": [
       "   normalized_temp_mean  normalized_temp_max  normalized_temp_min  \\\n",
       "0              0.001157             0.001157             0.001157   \n",
       "1              0.001157             0.001157             0.001157   \n",
       "2              0.001157             0.001157             0.001157   \n",
       "3              0.001157             0.001157             0.001157   \n",
       "4              0.001157             0.001157             0.001157   \n",
       "\n",
       "   normalized_eda_mean  normalized_eda_max  normalized_eda_min  \\\n",
       "0             0.000344            0.000344            0.000344   \n",
       "1             0.000344            0.000344            0.000344   \n",
       "2             0.000344            0.000344            0.000344   \n",
       "3             0.000344            0.000344            0.000344   \n",
       "4             0.000344            0.000344            0.000344   \n",
       "\n",
       "   normalized_bvp_mean  normalized_bvp_max  normalized_bvp_min  \n",
       "0            -0.000218           -0.000218           -0.000218  \n",
       "1            -0.000218           -0.000218           -0.000218  \n",
       "2            -0.000218           -0.000218           -0.000218  \n",
       "3            -0.000168           -0.000168           -0.000168  \n",
       "4            -0.000168           -0.000168           -0.000168  "
      ]
     },
     "execution_count": 28,
     "metadata": {},
     "output_type": "execute_result"
    }
   ],
   "source": [
    "df_normalizado = pd.concat([df_temp, df_eda, df_bvp], axis=1)\n",
    "df_normalizado.head()"
   ]
  },
  {
   "cell_type": "code",
   "execution_count": 29,
   "metadata": {},
   "outputs": [
    {
     "data": {
      "text/html": [
       "<div>\n",
       "<style scoped>\n",
       "    .dataframe tbody tr th:only-of-type {\n",
       "        vertical-align: middle;\n",
       "    }\n",
       "\n",
       "    .dataframe tbody tr th {\n",
       "        vertical-align: top;\n",
       "    }\n",
       "\n",
       "    .dataframe thead th {\n",
       "        text-align: right;\n",
       "    }\n",
       "</style>\n",
       "<table border=\"1\" class=\"dataframe\">\n",
       "  <thead>\n",
       "    <tr style=\"text-align: right;\">\n",
       "      <th></th>\n",
       "      <th>normalized_temp_mean</th>\n",
       "      <th>normalized_temp_max</th>\n",
       "      <th>normalized_temp_min</th>\n",
       "      <th>normalized_eda_mean</th>\n",
       "      <th>normalized_eda_max</th>\n",
       "      <th>normalized_eda_min</th>\n",
       "      <th>normalized_bvp_mean</th>\n",
       "      <th>normalized_bvp_max</th>\n",
       "      <th>normalized_bvp_min</th>\n",
       "    </tr>\n",
       "  </thead>\n",
       "  <tbody>\n",
       "    <tr>\n",
       "      <th>703029</th>\n",
       "      <td>0.001172</td>\n",
       "      <td>0.001172</td>\n",
       "      <td>0.001172</td>\n",
       "      <td>0.00049</td>\n",
       "      <td>0.00049</td>\n",
       "      <td>0.00049</td>\n",
       "      <td>0.000423</td>\n",
       "      <td>0.000435</td>\n",
       "      <td>0.000418</td>\n",
       "    </tr>\n",
       "    <tr>\n",
       "      <th>703030</th>\n",
       "      <td>0.001172</td>\n",
       "      <td>0.001172</td>\n",
       "      <td>0.001172</td>\n",
       "      <td>0.00049</td>\n",
       "      <td>0.00049</td>\n",
       "      <td>0.00049</td>\n",
       "      <td>0.000418</td>\n",
       "      <td>0.000418</td>\n",
       "      <td>0.000418</td>\n",
       "    </tr>\n",
       "    <tr>\n",
       "      <th>703031</th>\n",
       "      <td>0.001172</td>\n",
       "      <td>0.001172</td>\n",
       "      <td>0.001172</td>\n",
       "      <td>0.00049</td>\n",
       "      <td>0.00049</td>\n",
       "      <td>0.00049</td>\n",
       "      <td>0.000418</td>\n",
       "      <td>0.000418</td>\n",
       "      <td>0.000418</td>\n",
       "    </tr>\n",
       "    <tr>\n",
       "      <th>703032</th>\n",
       "      <td>0.001172</td>\n",
       "      <td>0.001172</td>\n",
       "      <td>0.001172</td>\n",
       "      <td>0.00049</td>\n",
       "      <td>0.00049</td>\n",
       "      <td>0.00049</td>\n",
       "      <td>0.000418</td>\n",
       "      <td>0.000418</td>\n",
       "      <td>0.000418</td>\n",
       "    </tr>\n",
       "    <tr>\n",
       "      <th>703033</th>\n",
       "      <td>0.001172</td>\n",
       "      <td>0.001172</td>\n",
       "      <td>0.001172</td>\n",
       "      <td>0.00049</td>\n",
       "      <td>0.00049</td>\n",
       "      <td>0.00049</td>\n",
       "      <td>0.000403</td>\n",
       "      <td>0.000403</td>\n",
       "      <td>0.000402</td>\n",
       "    </tr>\n",
       "  </tbody>\n",
       "</table>\n",
       "</div>"
      ],
      "text/plain": [
       "        normalized_temp_mean  normalized_temp_max  normalized_temp_min  \\\n",
       "703029              0.001172             0.001172             0.001172   \n",
       "703030              0.001172             0.001172             0.001172   \n",
       "703031              0.001172             0.001172             0.001172   \n",
       "703032              0.001172             0.001172             0.001172   \n",
       "703033              0.001172             0.001172             0.001172   \n",
       "\n",
       "        normalized_eda_mean  normalized_eda_max  normalized_eda_min  \\\n",
       "703029              0.00049             0.00049             0.00049   \n",
       "703030              0.00049             0.00049             0.00049   \n",
       "703031              0.00049             0.00049             0.00049   \n",
       "703032              0.00049             0.00049             0.00049   \n",
       "703033              0.00049             0.00049             0.00049   \n",
       "\n",
       "        normalized_bvp_mean  normalized_bvp_max  normalized_bvp_min  \n",
       "703029             0.000423            0.000435            0.000418  \n",
       "703030             0.000418            0.000418            0.000418  \n",
       "703031             0.000418            0.000418            0.000418  \n",
       "703032             0.000418            0.000418            0.000418  \n",
       "703033             0.000403            0.000403            0.000402  "
      ]
     },
     "execution_count": 29,
     "metadata": {},
     "output_type": "execute_result"
    }
   ],
   "source": [
    "df_normalizado.tail()"
   ]
  },
  {
   "cell_type": "markdown",
   "metadata": {},
   "source": [
    "Random Forest"
   ]
  },
  {
   "cell_type": "code",
   "execution_count": 30,
   "metadata": {},
   "outputs": [
    {
     "data": {
      "text/html": [
       "<div>\n",
       "<style scoped>\n",
       "    .dataframe tbody tr th:only-of-type {\n",
       "        vertical-align: middle;\n",
       "    }\n",
       "\n",
       "    .dataframe tbody tr th {\n",
       "        vertical-align: top;\n",
       "    }\n",
       "\n",
       "    .dataframe thead th {\n",
       "        text-align: right;\n",
       "    }\n",
       "</style>\n",
       "<table border=\"1\" class=\"dataframe\">\n",
       "  <thead>\n",
       "    <tr style=\"text-align: right;\">\n",
       "      <th></th>\n",
       "      <th>label_mean</th>\n",
       "    </tr>\n",
       "  </thead>\n",
       "  <tbody>\n",
       "    <tr>\n",
       "      <th>0</th>\n",
       "      <td>1.0</td>\n",
       "    </tr>\n",
       "    <tr>\n",
       "      <th>1</th>\n",
       "      <td>1.0</td>\n",
       "    </tr>\n",
       "    <tr>\n",
       "      <th>2</th>\n",
       "      <td>1.0</td>\n",
       "    </tr>\n",
       "    <tr>\n",
       "      <th>3</th>\n",
       "      <td>1.0</td>\n",
       "    </tr>\n",
       "    <tr>\n",
       "      <th>4</th>\n",
       "      <td>1.0</td>\n",
       "    </tr>\n",
       "  </tbody>\n",
       "</table>\n",
       "</div>"
      ],
      "text/plain": [
       "   label_mean\n",
       "0         1.0\n",
       "1         1.0\n",
       "2         1.0\n",
       "3         1.0\n",
       "4         1.0"
      ]
     },
     "execution_count": 30,
     "metadata": {},
     "output_type": "execute_result"
    }
   ],
   "source": [
    "label_mean = []\n",
    "for i in range(0, len(df), 3):\n",
    "    label = df['label'].iloc[i:i+3] \n",
    "    label_mean.append(label.mean())\n",
    "\n",
    "label_stats = pd.DataFrame({'label_mean': label_mean})\n",
    "label_stats.head()"
   ]
  },
  {
   "cell_type": "code",
   "execution_count": 31,
   "metadata": {},
   "outputs": [
    {
     "data": {
      "text/html": [
       "<div>\n",
       "<style scoped>\n",
       "    .dataframe tbody tr th:only-of-type {\n",
       "        vertical-align: middle;\n",
       "    }\n",
       "\n",
       "    .dataframe tbody tr th {\n",
       "        vertical-align: top;\n",
       "    }\n",
       "\n",
       "    .dataframe thead th {\n",
       "        text-align: right;\n",
       "    }\n",
       "</style>\n",
       "<table border=\"1\" class=\"dataframe\">\n",
       "  <thead>\n",
       "    <tr style=\"text-align: right;\">\n",
       "      <th></th>\n",
       "      <th>label_mean</th>\n",
       "    </tr>\n",
       "  </thead>\n",
       "  <tbody>\n",
       "    <tr>\n",
       "      <th>703029</th>\n",
       "      <td>4.0</td>\n",
       "    </tr>\n",
       "    <tr>\n",
       "      <th>703030</th>\n",
       "      <td>4.0</td>\n",
       "    </tr>\n",
       "    <tr>\n",
       "      <th>703031</th>\n",
       "      <td>4.0</td>\n",
       "    </tr>\n",
       "    <tr>\n",
       "      <th>703032</th>\n",
       "      <td>4.0</td>\n",
       "    </tr>\n",
       "    <tr>\n",
       "      <th>703033</th>\n",
       "      <td>4.0</td>\n",
       "    </tr>\n",
       "  </tbody>\n",
       "</table>\n",
       "</div>"
      ],
      "text/plain": [
       "        label_mean\n",
       "703029         4.0\n",
       "703030         4.0\n",
       "703031         4.0\n",
       "703032         4.0\n",
       "703033         4.0"
      ]
     },
     "execution_count": 31,
     "metadata": {},
     "output_type": "execute_result"
    }
   ],
   "source": [
    "label_stats.tail()"
   ]
  },
  {
   "cell_type": "code",
   "execution_count": 32,
   "metadata": {},
   "outputs": [],
   "source": [
    "train_set = df_normalizado\n",
    "labels = np.array(label_stats, dtype=int)\n",
    "X_train, X_test, y_train, y_test = model_selection.train_test_split(train_set, labels, random_state=0)"
   ]
  },
  {
   "cell_type": "code",
   "execution_count": 33,
   "metadata": {},
   "outputs": [
    {
     "data": {
      "text/plain": [
       "0.9997781052463885"
      ]
     },
     "execution_count": 33,
     "metadata": {},
     "output_type": "execute_result"
    }
   ],
   "source": [
    "# acurácia do rf\n",
    "clf = RandomForestClassifier(random_state=42, n_estimators=50, n_jobs=-1)\n",
    "clf.fit(X_train, y_train.ravel())\n",
    "y_pred = clf.predict(X_test)\n",
    "metrics.accuracy_score(y_test, y_pred)"
   ]
  },
  {
   "cell_type": "code",
   "execution_count": 34,
   "metadata": {},
   "outputs": [
    {
     "data": {
      "image/png": "[encoded data removed]",
      "text/plain": [
       "<Figure size 640x480 with 1 Axes>"
      ]
     },
     "metadata": {},
     "output_type": "display_data"
    }
   ],
   "source": [
    "# -- feature importance graph\n",
    "importances = clf.feature_importances_\n",
    "indices = np.argsort(importances)\n",
    "features = train_set.columns\n",
    "plt.title('Feature Importances')\n",
    "j = 9   # top j importance\n",
    "plt.barh(range(j), importances[indices][len(indices)-j:], color='g', align='center')\n",
    "plt.yticks(range(j), [features[i] for i in indices[len(indices)-j:]])\n",
    "plt.xlabel('Relative Importance')\n",
    "plt.show()"
   ]
  },
  {
   "cell_type": "code",
   "execution_count": 35,
   "metadata": {},
   "outputs": [
    {
     "data": {
      "image/png": "[encoded data removed]",
      "text/plain": [
       "<Figure size 640x480 with 1 Axes>"
      ]
     },
     "metadata": {},
     "output_type": "display_data"
    }
   ],
   "source": [
    "num_execucoes = 100\n",
    "importancias_medias = np.zeros(X_train.shape[1])  # Lista para armazenar as importâncias médias das características\n",
    "\n",
    "for _ in range(num_execucoes):\n",
    "    clf = RandomForestClassifier(n_estimators=50, n_jobs=-1, random_state=None) \n",
    "    clf.fit(X_train, y_train.ravel()) \n",
    "    \n",
    "    importancias = clf.feature_importances_\n",
    "    importancias_medias += importancias\n",
    "\n",
    "importancias_medias /= num_execucoes # Calcular a média das importâncias das características\n",
    "\n",
    "indices = np.argsort(importancias_medias)\n",
    "plt.title('Média das Importâncias das Características')\n",
    "j = 9   # top j importância\n",
    "plt.barh(range(j), importancias_medias[indices][len(indices)-j:], color='g', align='center')\n",
    "plt.yticks(range(j), [features[i] for i in indices[len(indices)-j:]])\n",
    "plt.xlabel('Importância Relativa Média')\n",
    "plt.show()"
   ]
  }
 ],
 "metadata": {
  "kernelspec": {
   "display_name": "Python 3",
   "language": "python",
   "name": "python3"
  },
  "language_info": {
   "codemirror_mode": {
    "name": "ipython",
    "version": 3
   },
   "file_extension": ".py",
   "mimetype": "text/x-python",
   "name": "python",
   "nbconvert_exporter": "python",
   "pygments_lexer": "ipython3",
   "version": "3.10.6"
  }
 },
 "nbformat": 4,
 "nbformat_minor": 2
}

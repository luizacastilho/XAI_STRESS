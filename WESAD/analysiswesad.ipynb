{
 "cells": [
  {
   "cell_type": "code",
   "execution_count": 1,
   "metadata": {},
   "outputs": [],
   "source": [
    "import os\n",
    "import pickle\n",
    "import numpy as np\n",
    "import matplotlib.pyplot as plt\n",
    "import neurokit as nk\n",
    "import seaborn as sns\n",
    "import pandas as pd\n",
    "from scipy.interpolate import interp1d\n",
    "from sklearn import preprocessing, datasets, ensemble, model_selection\n",
    "from sklearn.ensemble import RandomForestClassifier"
   ]
  },
  {
   "cell_type": "code",
   "execution_count": 2,
   "metadata": {},
   "outputs": [],
   "source": [
    "data_set_path = r\"C:\\Users\\luiza\\Documents\\UFSC\\TCC_Datasets\\WESAD\\WESAD\"\n"
   ]
  },
  {
   "cell_type": "raw",
   "metadata": {
    "vscode": {
     "languageId": "raw"
    }
   },
   "source": [
    "#for pasta_numero in range(2, 18):\n",
    "folder_name = f\"S2\"\n",
    "folder_path = os.path.join(data_set_path, folder_name)\n",
    "\n",
    "if os.path.exists(folder_path):\n",
    "    for folder in os.listdir(folder_path):\n",
    "        if folder.endswith(\".pkl\"):\n",
    "            caminho_arquivo_pkl = os.path.join(folder_path, folder)\n",
    "                \n",
    "            # Abrir o arquivo .pkl\n",
    "            with open(caminho_arquivo_pkl, 'rb') as infile:\n",
    "                obj = pickle.load(infile, encoding='latin1')\n",
    "                bvp=obj['signal']['wrist']['BVP'][:,0]#[stress_to_plot]\n",
    "                eda=obj['signal']['wrist']['EDA'][:,0]#[stress_to_plot]\n",
    "                temp=obj['signal']['wrist']['TEMP'][:,0]#[stress_to_plot]\n",
    "                label=obj['label']\n",
    "\n",
    "print(len(bvp), len(eda), len(temp), len(label))\n",
    "\n",
    "# Interpolar os dados bvp para o mesmo comprimento que eda e temp\n",
    "interpolação_bvp = interp1d(np.linspace(0, 1, len(bvp)), bvp)\n",
    "bvp_interp = interpolação_bvp(np.linspace(0, 1, len(eda)))\n",
    "\n",
    "interpolacao_label = interp1d(np.linspace(0,1, len(label)), label)\n",
    "label_interp = interpolacao_label(np.linspace(0,1,len(eda)))\n",
    "# Criar o array numpy combinando os sinais e os rótulos\n",
    "numpy_data = np.column_stack((bvp_interp, eda, temp, label_interp))\n",
    "\n",
    "df = pd.DataFrame(data=numpy_data, columns=[\"bvp\", \"eda\", \"temp\",\"label\"]) "
   ]
  },
  {
   "cell_type": "code",
   "execution_count": 3,
   "metadata": {},
   "outputs": [],
   "source": [
    "# Lista para armazenar os dados combinados de todos os diretórios\n",
    "all_data = []\n",
    "\n",
    "# Lista de diretórios de S2 a S17\n",
    "folders = [f\"S{i}\" for i in range(2, 18)]\n",
    "\n",
    "for folder_name in folders:\n",
    "    folder_path = os.path.join(data_set_path, folder_name)\n",
    "\n",
    "    if os.path.exists(folder_path):\n",
    "        for folder in os.listdir(folder_path):\n",
    "            if folder.endswith(\".pkl\"):\n",
    "                caminho_arquivo_pkl = os.path.join(folder_path, folder)\n",
    "                \n",
    "                # Abrir o arquivo .pkl\n",
    "                with open(caminho_arquivo_pkl, 'rb') as infile:\n",
    "                    obj = pickle.load(infile, encoding='latin1')\n",
    "                    bvp=obj['signal']['wrist']['BVP'][:,0]\n",
    "                    eda=obj['signal']['wrist']['EDA'][:,0]\n",
    "                    temp=obj['signal']['wrist']['TEMP'][:,0]\n",
    "                    label=obj['label']\n",
    "\n"
   ]
  },
  {
   "cell_type": "code",
   "execution_count": 4,
   "metadata": {},
   "outputs": [],
   "source": [
    "fs_label = 700  # Hz\n",
    "fs_temp_eda = 4  # Hz\n",
    "fs_bvp = 64  # Hz\n",
    "\n",
    "len_label = len(label)\n",
    "len_temp_eda = len(temp)\n",
    "len_bvp = len(bvp)\n",
    "\n",
    "total_time = len_label / fs_label\n",
    "\n",
    "time_label = np.linspace(0, total_time, len_label, endpoint=False)\n",
    "time_temp_eda = np.linspace(0, total_time, len_temp_eda, endpoint=False)\n",
    "time_bvp = np.linspace(0, total_time, len_bvp, endpoint=False)\n",
    "\n",
    "\n",
    "interp_temp = interp1d(time_temp_eda, temp, kind='nearest', fill_value='extrapolate')\n",
    "interp_eda = interp1d(time_temp_eda, eda, kind='nearest', fill_value='extrapolate')\n",
    "interp_bvp = interp1d(time_bvp, bvp, kind='nearest', fill_value='extrapolate')\n",
    "\n",
    "aligned_temp = interp_temp(time_label)\n",
    "aligned_eda = interp_eda(time_label)\n",
    "aligned_bvp = interp_bvp(time_label)"
   ]
  },
  {
   "cell_type": "code",
   "execution_count": 5,
   "metadata": {},
   "outputs": [],
   "source": [
    "hr_data = []\n",
    "folders = [f\"S{i}\" for i in range(2, 18)]\n",
    "\n",
    "\n",
    "for folder_name in folders:\n",
    "    subfolder_name = f\"{folder_name}_E4_Data\"\n",
    "    folder_path = os.path.join(data_set_path, folder_name, subfolder_name)\n",
    "\n",
    "    if os.path.exists(folder_path):\n",
    "        csv_path = os.path.join(folder_path, 'HR.csv')\n",
    "        if os.path.exists(csv_path):\n",
    "            hr = pd.read_csv(csv_path, skiprows=2, usecols=[0], header=None)\n",
    "            hr_data.append(hr)\n",
    "\n",
    "if hr_data:\n",
    "    combined_hr_df = pd.concat(hr_data, ignore_index=True)\n",
    "    # Converte para numpy array\n",
    "    hr = combined_hr_df.iloc[:, 0].to_numpy()\n",
    "\n",
    "fs_hr = 1  # Hz\n",
    "len_hr = len(hr)\n",
    "time_hr = np.linspace(0, total_time, len_hr, endpoint=False)\n",
    "interp_hr = interp1d(time_hr, hr, kind='nearest', fill_value='extrapolate')\n",
    "aligned_hr = interp_hr(time_label)"
   ]
  },
  {
   "cell_type": "code",
   "execution_count": 6,
   "metadata": {},
   "outputs": [],
   "source": [
    "numpy_data = np.column_stack((aligned_bvp, aligned_hr, aligned_eda, aligned_temp, label))\n",
    "all_data.append(numpy_data)\n",
    "combined_data = np.concatenate(all_data, axis=0)\n",
    "column_names = [\"bvp\", \"hr\", \"eda\", \"temp\", \"label\"]\n",
    "df = pd.DataFrame(data=combined_data, columns=column_names)"
   ]
  },
  {
   "cell_type": "code",
   "execution_count": 7,
   "metadata": {},
   "outputs": [
    {
     "data": {
      "text/html": [
       "<div>\n",
       "<style scoped>\n",
       "    .dataframe tbody tr th:only-of-type {\n",
       "        vertical-align: middle;\n",
       "    }\n",
       "\n",
       "    .dataframe tbody tr th {\n",
       "        vertical-align: top;\n",
       "    }\n",
       "\n",
       "    .dataframe thead th {\n",
       "        text-align: right;\n",
       "    }\n",
       "</style>\n",
       "<table border=\"1\" class=\"dataframe\">\n",
       "  <thead>\n",
       "    <tr style=\"text-align: right;\">\n",
       "      <th></th>\n",
       "      <th>bvp</th>\n",
       "      <th>hr</th>\n",
       "      <th>eda</th>\n",
       "      <th>temp</th>\n",
       "      <th>label</th>\n",
       "    </tr>\n",
       "  </thead>\n",
       "  <tbody>\n",
       "    <tr>\n",
       "      <th>0</th>\n",
       "      <td>-0.49</td>\n",
       "      <td>101.00</td>\n",
       "      <td>2.015176</td>\n",
       "      <td>33.39</td>\n",
       "      <td>0.0</td>\n",
       "    </tr>\n",
       "    <tr>\n",
       "      <th>1</th>\n",
       "      <td>-0.49</td>\n",
       "      <td>101.00</td>\n",
       "      <td>2.015176</td>\n",
       "      <td>33.39</td>\n",
       "      <td>0.0</td>\n",
       "    </tr>\n",
       "    <tr>\n",
       "      <th>2</th>\n",
       "      <td>-0.49</td>\n",
       "      <td>101.00</td>\n",
       "      <td>2.015176</td>\n",
       "      <td>33.39</td>\n",
       "      <td>0.0</td>\n",
       "    </tr>\n",
       "    <tr>\n",
       "      <th>3</th>\n",
       "      <td>-0.49</td>\n",
       "      <td>101.00</td>\n",
       "      <td>2.015176</td>\n",
       "      <td>33.39</td>\n",
       "      <td>0.0</td>\n",
       "    </tr>\n",
       "    <tr>\n",
       "      <th>4</th>\n",
       "      <td>-0.49</td>\n",
       "      <td>101.00</td>\n",
       "      <td>2.015176</td>\n",
       "      <td>33.39</td>\n",
       "      <td>0.0</td>\n",
       "    </tr>\n",
       "    <tr>\n",
       "      <th>...</th>\n",
       "      <td>...</td>\n",
       "      <td>...</td>\n",
       "      <td>...</td>\n",
       "      <td>...</td>\n",
       "      <td>...</td>\n",
       "    </tr>\n",
       "    <tr>\n",
       "      <th>4143995</th>\n",
       "      <td>-6.21</td>\n",
       "      <td>73.65</td>\n",
       "      <td>0.783331</td>\n",
       "      <td>31.81</td>\n",
       "      <td>0.0</td>\n",
       "    </tr>\n",
       "    <tr>\n",
       "      <th>4143996</th>\n",
       "      <td>-6.21</td>\n",
       "      <td>73.65</td>\n",
       "      <td>0.783331</td>\n",
       "      <td>31.81</td>\n",
       "      <td>0.0</td>\n",
       "    </tr>\n",
       "    <tr>\n",
       "      <th>4143997</th>\n",
       "      <td>-6.21</td>\n",
       "      <td>73.65</td>\n",
       "      <td>0.783331</td>\n",
       "      <td>31.81</td>\n",
       "      <td>0.0</td>\n",
       "    </tr>\n",
       "    <tr>\n",
       "      <th>4143998</th>\n",
       "      <td>-6.21</td>\n",
       "      <td>73.65</td>\n",
       "      <td>0.783331</td>\n",
       "      <td>31.81</td>\n",
       "      <td>0.0</td>\n",
       "    </tr>\n",
       "    <tr>\n",
       "      <th>4143999</th>\n",
       "      <td>-6.21</td>\n",
       "      <td>73.65</td>\n",
       "      <td>0.783331</td>\n",
       "      <td>31.81</td>\n",
       "      <td>0.0</td>\n",
       "    </tr>\n",
       "  </tbody>\n",
       "</table>\n",
       "<p>4144000 rows × 5 columns</p>\n",
       "</div>"
      ],
      "text/plain": [
       "          bvp      hr       eda   temp  label\n",
       "0       -0.49  101.00  2.015176  33.39    0.0\n",
       "1       -0.49  101.00  2.015176  33.39    0.0\n",
       "2       -0.49  101.00  2.015176  33.39    0.0\n",
       "3       -0.49  101.00  2.015176  33.39    0.0\n",
       "4       -0.49  101.00  2.015176  33.39    0.0\n",
       "...       ...     ...       ...    ...    ...\n",
       "4143995 -6.21   73.65  0.783331  31.81    0.0\n",
       "4143996 -6.21   73.65  0.783331  31.81    0.0\n",
       "4143997 -6.21   73.65  0.783331  31.81    0.0\n",
       "4143998 -6.21   73.65  0.783331  31.81    0.0\n",
       "4143999 -6.21   73.65  0.783331  31.81    0.0\n",
       "\n",
       "[4144000 rows x 5 columns]"
      ]
     },
     "execution_count": 7,
     "metadata": {},
     "output_type": "execute_result"
    }
   ],
   "source": [
    "df"
   ]
  },
  {
   "cell_type": "code",
   "execution_count": 8,
   "metadata": {},
   "outputs": [],
   "source": [
    "# 0 = not defined / transient, 1 = baseline, 2 = stress, 3 = amusement, 4 = meditation, 5/6/7 = should be ignored in this dataset \n",
    "df = df[df['label'] != 7.0]\n",
    "df= df[df['label'] != 6.0]\n",
    "df= df[df['label'] != 5.0]\n",
    "df = df.drop_duplicates()"
   ]
  },
  {
   "cell_type": "code",
   "execution_count": 9,
   "metadata": {},
   "outputs": [
    {
     "data": {
      "text/html": [
       "<div>\n",
       "<style scoped>\n",
       "    .dataframe tbody tr th:only-of-type {\n",
       "        vertical-align: middle;\n",
       "    }\n",
       "\n",
       "    .dataframe tbody tr th {\n",
       "        vertical-align: top;\n",
       "    }\n",
       "\n",
       "    .dataframe thead th {\n",
       "        text-align: right;\n",
       "    }\n",
       "</style>\n",
       "<table border=\"1\" class=\"dataframe\">\n",
       "  <thead>\n",
       "    <tr style=\"text-align: right;\">\n",
       "      <th></th>\n",
       "      <th>bvp</th>\n",
       "      <th>hr</th>\n",
       "      <th>eda</th>\n",
       "      <th>temp</th>\n",
       "      <th>label</th>\n",
       "    </tr>\n",
       "  </thead>\n",
       "  <tbody>\n",
       "    <tr>\n",
       "      <th>0</th>\n",
       "      <td>-0.49</td>\n",
       "      <td>101.00</td>\n",
       "      <td>2.015176</td>\n",
       "      <td>33.39</td>\n",
       "      <td>0.0</td>\n",
       "    </tr>\n",
       "    <tr>\n",
       "      <th>6</th>\n",
       "      <td>-0.38</td>\n",
       "      <td>101.00</td>\n",
       "      <td>2.015176</td>\n",
       "      <td>33.39</td>\n",
       "      <td>0.0</td>\n",
       "    </tr>\n",
       "    <tr>\n",
       "      <th>17</th>\n",
       "      <td>-0.36</td>\n",
       "      <td>101.00</td>\n",
       "      <td>2.015176</td>\n",
       "      <td>33.39</td>\n",
       "      <td>0.0</td>\n",
       "    </tr>\n",
       "    <tr>\n",
       "      <th>20</th>\n",
       "      <td>-0.36</td>\n",
       "      <td>106.50</td>\n",
       "      <td>2.015176</td>\n",
       "      <td>33.39</td>\n",
       "      <td>0.0</td>\n",
       "    </tr>\n",
       "    <tr>\n",
       "      <th>28</th>\n",
       "      <td>-0.75</td>\n",
       "      <td>106.50</td>\n",
       "      <td>2.015176</td>\n",
       "      <td>33.39</td>\n",
       "      <td>0.0</td>\n",
       "    </tr>\n",
       "    <tr>\n",
       "      <th>...</th>\n",
       "      <td>...</td>\n",
       "      <td>...</td>\n",
       "      <td>...</td>\n",
       "      <td>...</td>\n",
       "      <td>...</td>\n",
       "    </tr>\n",
       "    <tr>\n",
       "      <th>4143942</th>\n",
       "      <td>-2.09</td>\n",
       "      <td>73.65</td>\n",
       "      <td>0.783331</td>\n",
       "      <td>31.81</td>\n",
       "      <td>0.0</td>\n",
       "    </tr>\n",
       "    <tr>\n",
       "      <th>4143951</th>\n",
       "      <td>-3.28</td>\n",
       "      <td>73.65</td>\n",
       "      <td>0.783331</td>\n",
       "      <td>31.81</td>\n",
       "      <td>0.0</td>\n",
       "    </tr>\n",
       "    <tr>\n",
       "      <th>4143962</th>\n",
       "      <td>-4.43</td>\n",
       "      <td>73.65</td>\n",
       "      <td>0.783331</td>\n",
       "      <td>31.81</td>\n",
       "      <td>0.0</td>\n",
       "    </tr>\n",
       "    <tr>\n",
       "      <th>4143973</th>\n",
       "      <td>-5.44</td>\n",
       "      <td>73.65</td>\n",
       "      <td>0.783331</td>\n",
       "      <td>31.81</td>\n",
       "      <td>0.0</td>\n",
       "    </tr>\n",
       "    <tr>\n",
       "      <th>4143984</th>\n",
       "      <td>-6.21</td>\n",
       "      <td>73.65</td>\n",
       "      <td>0.783331</td>\n",
       "      <td>31.81</td>\n",
       "      <td>0.0</td>\n",
       "    </tr>\n",
       "  </tbody>\n",
       "</table>\n",
       "<p>476726 rows × 5 columns</p>\n",
       "</div>"
      ],
      "text/plain": [
       "          bvp      hr       eda   temp  label\n",
       "0       -0.49  101.00  2.015176  33.39    0.0\n",
       "6       -0.38  101.00  2.015176  33.39    0.0\n",
       "17      -0.36  101.00  2.015176  33.39    0.0\n",
       "20      -0.36  106.50  2.015176  33.39    0.0\n",
       "28      -0.75  106.50  2.015176  33.39    0.0\n",
       "...       ...     ...       ...    ...    ...\n",
       "4143942 -2.09   73.65  0.783331  31.81    0.0\n",
       "4143951 -3.28   73.65  0.783331  31.81    0.0\n",
       "4143962 -4.43   73.65  0.783331  31.81    0.0\n",
       "4143973 -5.44   73.65  0.783331  31.81    0.0\n",
       "4143984 -6.21   73.65  0.783331  31.81    0.0\n",
       "\n",
       "[476726 rows x 5 columns]"
      ]
     },
     "execution_count": 9,
     "metadata": {},
     "output_type": "execute_result"
    }
   ],
   "source": [
    "df"
   ]
  },
  {
   "cell_type": "code",
   "execution_count": 10,
   "metadata": {},
   "outputs": [],
   "source": [
    "X = df.drop(columns=[\"label\"])  # Remove a coluna \"label\" para obter os recursos\n",
    "y = df[\"label\"] # 0 = not defined / transient, 1 = baseline, 2 = stress, 3 = amusement, 4 = meditation, 5/6/7 = should be ignored in this dataset\n",
    "y = y.astype(int)\n",
    "from sklearn.model_selection import train_test_split\n",
    "X_train, X_test, y_train, y_test = train_test_split(X, y, test_size=0.2, random_state=0)"
   ]
  },
  {
   "cell_type": "markdown",
   "metadata": {},
   "source": [
    "## NORMALIZAR E CRIAR MIN, MEAN, MAX"
   ]
  },
  {
   "cell_type": "markdown",
   "metadata": {},
   "source": [
    "\n",
    "Temperatura"
   ]
  },
  {
   "cell_type": "code",
   "execution_count": 11,
   "metadata": {},
   "outputs": [],
   "source": [
    "temp_min = []\n",
    "temp_max = []\n",
    "temp_mean = []\n",
    "\n",
    "for i in range(0, len(df), 3):\n",
    "    temps = df['temp'].iloc[i:i+3]\n",
    "    temp_min.append(temps.min())\n",
    "    temp_max.append(temps.max())\n",
    "    temp_mean.append(temps.mean())\n",
    "\n",
    "temp_stats = pd.DataFrame({'temp_min': temp_min, 'temp_max': temp_max, 'temp_mean': temp_mean})"
   ]
  },
  {
   "cell_type": "code",
   "execution_count": 12,
   "metadata": {},
   "outputs": [],
   "source": [
    "temp_min_array = np.array(temp_stats['temp_min'])\n",
    "normalized_temp_min = preprocessing.normalize([temp_min_array])\n",
    "temp_max_array = np.array(temp_stats['temp_max'])\n",
    "normalized_temp_max = preprocessing.normalize([temp_max_array])\n",
    "temp_mean_array = np.array(temp_stats['temp_mean'])\n",
    "normalized_temp_mean = preprocessing.normalize([temp_mean_array])\n"
   ]
  },
  {
   "cell_type": "code",
   "execution_count": 13,
   "metadata": {},
   "outputs": [
    {
     "data": {
      "text/html": [
       "<div>\n",
       "<style scoped>\n",
       "    .dataframe tbody tr th:only-of-type {\n",
       "        vertical-align: middle;\n",
       "    }\n",
       "\n",
       "    .dataframe tbody tr th {\n",
       "        vertical-align: top;\n",
       "    }\n",
       "\n",
       "    .dataframe thead th {\n",
       "        text-align: right;\n",
       "    }\n",
       "</style>\n",
       "<table border=\"1\" class=\"dataframe\">\n",
       "  <thead>\n",
       "    <tr style=\"text-align: right;\">\n",
       "      <th></th>\n",
       "      <th>normalized_temp_mean</th>\n",
       "      <th>normalized_temp_max</th>\n",
       "      <th>normalized_temp_min</th>\n",
       "    </tr>\n",
       "  </thead>\n",
       "  <tbody>\n",
       "    <tr>\n",
       "      <th>0</th>\n",
       "      <td>0.002561</td>\n",
       "      <td>0.002561</td>\n",
       "      <td>0.002561</td>\n",
       "    </tr>\n",
       "    <tr>\n",
       "      <th>1</th>\n",
       "      <td>0.002561</td>\n",
       "      <td>0.002561</td>\n",
       "      <td>0.002561</td>\n",
       "    </tr>\n",
       "    <tr>\n",
       "      <th>2</th>\n",
       "      <td>0.002561</td>\n",
       "      <td>0.002561</td>\n",
       "      <td>0.002561</td>\n",
       "    </tr>\n",
       "    <tr>\n",
       "      <th>3</th>\n",
       "      <td>0.002561</td>\n",
       "      <td>0.002561</td>\n",
       "      <td>0.002559</td>\n",
       "    </tr>\n",
       "    <tr>\n",
       "      <th>4</th>\n",
       "      <td>0.002559</td>\n",
       "      <td>0.002559</td>\n",
       "      <td>0.002559</td>\n",
       "    </tr>\n",
       "  </tbody>\n",
       "</table>\n",
       "</div>"
      ],
      "text/plain": [
       "   normalized_temp_mean  normalized_temp_max  normalized_temp_min\n",
       "0              0.002561             0.002561             0.002561\n",
       "1              0.002561             0.002561             0.002561\n",
       "2              0.002561             0.002561             0.002561\n",
       "3              0.002561             0.002561             0.002559\n",
       "4              0.002559             0.002559             0.002559"
      ]
     },
     "execution_count": 13,
     "metadata": {},
     "output_type": "execute_result"
    }
   ],
   "source": [
    "data_temp = {\n",
    "    'normalized_temp_mean': normalized_temp_mean.flatten(),\n",
    "    'normalized_temp_max': normalized_temp_max.flatten(),\n",
    "    'normalized_temp_min': normalized_temp_min.flatten()\n",
    "}\n",
    "\n",
    "df_temp = pd.DataFrame(data_temp)\n",
    "df_temp.head()"
   ]
  },
  {
   "cell_type": "markdown",
   "metadata": {},
   "source": [
    "\n",
    "EDA"
   ]
  },
  {
   "cell_type": "code",
   "execution_count": 14,
   "metadata": {},
   "outputs": [],
   "source": [
    "eda_min = []\n",
    "eda_max = []\n",
    "eda_mean = []\n",
    "for i in range(0, len(df), 3):\n",
    "    eda = df['eda'].iloc[i:i+3]\n",
    "    eda_min.append(eda.min())\n",
    "    eda_max.append(eda.max())\n",
    "    eda_mean.append(eda.mean())\n",
    "\n",
    "eda_stats = pd.DataFrame({'eda_min': eda_min, 'eda_max': eda_max, 'eda_mean': eda_mean})"
   ]
  },
  {
   "cell_type": "code",
   "execution_count": 15,
   "metadata": {},
   "outputs": [
    {
     "name": "stdout",
     "output_type": "stream",
     "text": [
      "    eda_min   eda_max  eda_mean\n",
      "0  2.015176  2.015176  2.015176\n",
      "1  2.015176  2.015176  2.015176\n",
      "2  2.015176  2.015176  2.015176\n",
      "3  2.012617  2.015176  2.014323\n",
      "4  2.012617  2.012617  2.012617\n"
     ]
    }
   ],
   "source": [
    "print(eda_stats.head())"
   ]
  },
  {
   "cell_type": "code",
   "execution_count": 16,
   "metadata": {},
   "outputs": [],
   "source": [
    "eda_min_array = np.array(eda_stats['eda_min'])\n",
    "normalized_eda_min = preprocessing.normalize([eda_min_array])\n",
    "eda_max_array = np.array(eda_stats['eda_max'])\n",
    "normalized_eda_max = preprocessing.normalize([eda_max_array])\n",
    "eda_mean_array = np.array(eda_stats['eda_mean'])\n",
    "normalized_eda_mean = preprocessing.normalize([eda_mean_array])\n"
   ]
  },
  {
   "cell_type": "code",
   "execution_count": 17,
   "metadata": {},
   "outputs": [
    {
     "data": {
      "text/html": [
       "<div>\n",
       "<style scoped>\n",
       "    .dataframe tbody tr th:only-of-type {\n",
       "        vertical-align: middle;\n",
       "    }\n",
       "\n",
       "    .dataframe tbody tr th {\n",
       "        vertical-align: top;\n",
       "    }\n",
       "\n",
       "    .dataframe thead th {\n",
       "        text-align: right;\n",
       "    }\n",
       "</style>\n",
       "<table border=\"1\" class=\"dataframe\">\n",
       "  <thead>\n",
       "    <tr style=\"text-align: right;\">\n",
       "      <th></th>\n",
       "      <th>normalized_eda_mean</th>\n",
       "      <th>normalized_eda_max</th>\n",
       "      <th>normalized_eda_min</th>\n",
       "    </tr>\n",
       "  </thead>\n",
       "  <tbody>\n",
       "    <tr>\n",
       "      <th>0</th>\n",
       "      <td>0.004543</td>\n",
       "      <td>0.004542</td>\n",
       "      <td>0.004544</td>\n",
       "    </tr>\n",
       "    <tr>\n",
       "      <th>1</th>\n",
       "      <td>0.004543</td>\n",
       "      <td>0.004542</td>\n",
       "      <td>0.004544</td>\n",
       "    </tr>\n",
       "    <tr>\n",
       "      <th>2</th>\n",
       "      <td>0.004543</td>\n",
       "      <td>0.004542</td>\n",
       "      <td>0.004544</td>\n",
       "    </tr>\n",
       "    <tr>\n",
       "      <th>3</th>\n",
       "      <td>0.004541</td>\n",
       "      <td>0.004542</td>\n",
       "      <td>0.004539</td>\n",
       "    </tr>\n",
       "    <tr>\n",
       "      <th>4</th>\n",
       "      <td>0.004537</td>\n",
       "      <td>0.004536</td>\n",
       "      <td>0.004539</td>\n",
       "    </tr>\n",
       "  </tbody>\n",
       "</table>\n",
       "</div>"
      ],
      "text/plain": [
       "   normalized_eda_mean  normalized_eda_max  normalized_eda_min\n",
       "0             0.004543            0.004542            0.004544\n",
       "1             0.004543            0.004542            0.004544\n",
       "2             0.004543            0.004542            0.004544\n",
       "3             0.004541            0.004542            0.004539\n",
       "4             0.004537            0.004536            0.004539"
      ]
     },
     "execution_count": 17,
     "metadata": {},
     "output_type": "execute_result"
    }
   ],
   "source": [
    "data_eda = {\n",
    "    'normalized_eda_mean': normalized_eda_mean.flatten(),\n",
    "    'normalized_eda_max': normalized_eda_max.flatten(),\n",
    "    'normalized_eda_min': normalized_eda_min.flatten()\n",
    "}\n",
    "\n",
    "df_eda = pd.DataFrame(data_eda)\n",
    "df_eda.head()"
   ]
  },
  {
   "cell_type": "markdown",
   "metadata": {},
   "source": [
    "HR\n"
   ]
  },
  {
   "cell_type": "code",
   "execution_count": 18,
   "metadata": {},
   "outputs": [],
   "source": [
    "hr_min = []\n",
    "hr_max = []\n",
    "hr_mean = []\n",
    "for i in range(0, len(df), 3):\n",
    "    hr = df['hr'].iloc[i:i+3]\n",
    "    hr_min.append(hr.min())\n",
    "    hr_max.append(hr.max())\n",
    "    hr_mean.append(hr.mean())\n",
    "\n",
    "hr_stats = pd.DataFrame({'hr_min': hr_min, 'hr_max': hr_max, 'hr_mean': hr_mean})\n",
    "\n",
    "hr_min_array = np.array(hr_stats['hr_min'])\n",
    "normalized_hr_min = preprocessing.normalize([hr_min_array])\n",
    "hr_max_array = np.array(hr_stats['hr_max'])\n",
    "normalized_hr_max = preprocessing.normalize([hr_max_array])\n",
    "hr_mean_array = np.array(hr_stats['hr_mean'])\n",
    "normalized_hr_mean = preprocessing.normalize([hr_mean_array])"
   ]
  },
  {
   "cell_type": "code",
   "execution_count": 19,
   "metadata": {},
   "outputs": [
    {
     "data": {
      "text/html": [
       "<div>\n",
       "<style scoped>\n",
       "    .dataframe tbody tr th:only-of-type {\n",
       "        vertical-align: middle;\n",
       "    }\n",
       "\n",
       "    .dataframe tbody tr th {\n",
       "        vertical-align: top;\n",
       "    }\n",
       "\n",
       "    .dataframe thead th {\n",
       "        text-align: right;\n",
       "    }\n",
       "</style>\n",
       "<table border=\"1\" class=\"dataframe\">\n",
       "  <thead>\n",
       "    <tr style=\"text-align: right;\">\n",
       "      <th></th>\n",
       "      <th>normalized_hr_mean</th>\n",
       "      <th>normalized_hr_max</th>\n",
       "      <th>normalized_hr_min</th>\n",
       "    </tr>\n",
       "  </thead>\n",
       "  <tbody>\n",
       "    <tr>\n",
       "      <th>0</th>\n",
       "      <td>0.003260</td>\n",
       "      <td>0.003259</td>\n",
       "      <td>0.003262</td>\n",
       "    </tr>\n",
       "    <tr>\n",
       "      <th>1</th>\n",
       "      <td>0.003438</td>\n",
       "      <td>0.003436</td>\n",
       "      <td>0.003440</td>\n",
       "    </tr>\n",
       "    <tr>\n",
       "      <th>2</th>\n",
       "      <td>0.003198</td>\n",
       "      <td>0.003436</td>\n",
       "      <td>0.003079</td>\n",
       "    </tr>\n",
       "    <tr>\n",
       "      <th>3</th>\n",
       "      <td>0.003077</td>\n",
       "      <td>0.003076</td>\n",
       "      <td>0.003079</td>\n",
       "    </tr>\n",
       "    <tr>\n",
       "      <th>4</th>\n",
       "      <td>0.002968</td>\n",
       "      <td>0.003076</td>\n",
       "      <td>0.002915</td>\n",
       "    </tr>\n",
       "  </tbody>\n",
       "</table>\n",
       "</div>"
      ],
      "text/plain": [
       "   normalized_hr_mean  normalized_hr_max  normalized_hr_min\n",
       "0            0.003260           0.003259           0.003262\n",
       "1            0.003438           0.003436           0.003440\n",
       "2            0.003198           0.003436           0.003079\n",
       "3            0.003077           0.003076           0.003079\n",
       "4            0.002968           0.003076           0.002915"
      ]
     },
     "execution_count": 19,
     "metadata": {},
     "output_type": "execute_result"
    }
   ],
   "source": [
    "data_hr = {\n",
    "    'normalized_hr_mean': normalized_hr_mean.flatten(),\n",
    "    'normalized_hr_max': normalized_hr_max.flatten(),\n",
    "    'normalized_hr_min': normalized_hr_min.flatten()\n",
    "}\n",
    "\n",
    "df_hr = pd.DataFrame(data_hr)\n",
    "df_hr.head()"
   ]
  },
  {
   "cell_type": "code",
   "execution_count": 20,
   "metadata": {},
   "outputs": [
    {
     "data": {
      "text/html": [
       "<div>\n",
       "<style scoped>\n",
       "    .dataframe tbody tr th:only-of-type {\n",
       "        vertical-align: middle;\n",
       "    }\n",
       "\n",
       "    .dataframe tbody tr th {\n",
       "        vertical-align: top;\n",
       "    }\n",
       "\n",
       "    .dataframe thead th {\n",
       "        text-align: right;\n",
       "    }\n",
       "</style>\n",
       "<table border=\"1\" class=\"dataframe\">\n",
       "  <thead>\n",
       "    <tr style=\"text-align: right;\">\n",
       "      <th></th>\n",
       "      <th>normalized_temp_mean</th>\n",
       "      <th>normalized_temp_max</th>\n",
       "      <th>normalized_temp_min</th>\n",
       "      <th>normalized_eda_mean</th>\n",
       "      <th>normalized_eda_max</th>\n",
       "      <th>normalized_eda_min</th>\n",
       "      <th>normalized_hr_mean</th>\n",
       "      <th>normalized_hr_max</th>\n",
       "      <th>normalized_hr_min</th>\n",
       "    </tr>\n",
       "  </thead>\n",
       "  <tbody>\n",
       "    <tr>\n",
       "      <th>158904</th>\n",
       "      <td>0.00244</td>\n",
       "      <td>0.00244</td>\n",
       "      <td>0.00244</td>\n",
       "      <td>0.001766</td>\n",
       "      <td>0.001765</td>\n",
       "      <td>0.001766</td>\n",
       "      <td>0.002401</td>\n",
       "      <td>0.002400</td>\n",
       "      <td>0.002402</td>\n",
       "    </tr>\n",
       "    <tr>\n",
       "      <th>158905</th>\n",
       "      <td>0.00244</td>\n",
       "      <td>0.00244</td>\n",
       "      <td>0.00244</td>\n",
       "      <td>0.001766</td>\n",
       "      <td>0.001765</td>\n",
       "      <td>0.001766</td>\n",
       "      <td>0.002394</td>\n",
       "      <td>0.002400</td>\n",
       "      <td>0.002391</td>\n",
       "    </tr>\n",
       "    <tr>\n",
       "      <th>158906</th>\n",
       "      <td>0.00244</td>\n",
       "      <td>0.00244</td>\n",
       "      <td>0.00244</td>\n",
       "      <td>0.001766</td>\n",
       "      <td>0.001765</td>\n",
       "      <td>0.001766</td>\n",
       "      <td>0.002390</td>\n",
       "      <td>0.002389</td>\n",
       "      <td>0.002391</td>\n",
       "    </tr>\n",
       "    <tr>\n",
       "      <th>158907</th>\n",
       "      <td>0.00244</td>\n",
       "      <td>0.00244</td>\n",
       "      <td>0.00244</td>\n",
       "      <td>0.001766</td>\n",
       "      <td>0.001765</td>\n",
       "      <td>0.001766</td>\n",
       "      <td>0.002378</td>\n",
       "      <td>0.002376</td>\n",
       "      <td>0.002379</td>\n",
       "    </tr>\n",
       "    <tr>\n",
       "      <th>158908</th>\n",
       "      <td>0.00244</td>\n",
       "      <td>0.00244</td>\n",
       "      <td>0.00244</td>\n",
       "      <td>0.001766</td>\n",
       "      <td>0.001765</td>\n",
       "      <td>0.001766</td>\n",
       "      <td>0.002378</td>\n",
       "      <td>0.002376</td>\n",
       "      <td>0.002379</td>\n",
       "    </tr>\n",
       "  </tbody>\n",
       "</table>\n",
       "</div>"
      ],
      "text/plain": [
       "        normalized_temp_mean  normalized_temp_max  normalized_temp_min  \\\n",
       "158904               0.00244              0.00244              0.00244   \n",
       "158905               0.00244              0.00244              0.00244   \n",
       "158906               0.00244              0.00244              0.00244   \n",
       "158907               0.00244              0.00244              0.00244   \n",
       "158908               0.00244              0.00244              0.00244   \n",
       "\n",
       "        normalized_eda_mean  normalized_eda_max  normalized_eda_min  \\\n",
       "158904             0.001766            0.001765            0.001766   \n",
       "158905             0.001766            0.001765            0.001766   \n",
       "158906             0.001766            0.001765            0.001766   \n",
       "158907             0.001766            0.001765            0.001766   \n",
       "158908             0.001766            0.001765            0.001766   \n",
       "\n",
       "        normalized_hr_mean  normalized_hr_max  normalized_hr_min  \n",
       "158904            0.002401           0.002400           0.002402  \n",
       "158905            0.002394           0.002400           0.002391  \n",
       "158906            0.002390           0.002389           0.002391  \n",
       "158907            0.002378           0.002376           0.002379  \n",
       "158908            0.002378           0.002376           0.002379  "
      ]
     },
     "execution_count": 20,
     "metadata": {},
     "output_type": "execute_result"
    }
   ],
   "source": [
    "df_normalizado = pd.concat([df_temp, df_eda, df_hr], axis=1)\n",
    "df_normalizado.tail()"
   ]
  },
  {
   "cell_type": "code",
   "execution_count": 21,
   "metadata": {},
   "outputs": [],
   "source": [
    "label_mean = []\n",
    "for i in range(0, len(df), 3):\n",
    "    label = df['label'].iloc[i:i+3] \n",
    "    label_mean.append(label.mean())\n",
    "\n",
    "label_stats = pd.DataFrame({'label_mean': label_mean})"
   ]
  },
  {
   "cell_type": "markdown",
   "metadata": {},
   "source": [
    "Random Forest"
   ]
  },
  {
   "cell_type": "code",
   "execution_count": 22,
   "metadata": {},
   "outputs": [],
   "source": [
    "from scipy.stats import kurtosis, skew\n",
    "from scipy.signal import find_peaks\n",
    "\n",
    "from sklearn.ensemble import RandomForestClassifier\n",
    "from sklearn.neighbors import KNeighborsClassifier\n",
    "from sklearn.linear_model import LogisticRegression\n",
    "from sklearn.neural_network import MLPClassifier\n",
    "from sklearn.svm import SVC\n",
    "\n",
    "from sklearn.preprocessing import MinMaxScaler, OneHotEncoder\n",
    "from sklearn.model_selection import train_test_split, cross_val_score\n",
    "from sklearn.feature_selection import SelectFromModel\n",
    "from sklearn.naive_bayes import GaussianNB\n",
    "from sklearn.metrics import accuracy_score, f1_score, precision_score, recall_score, classification_report, roc_auc_score, roc_curve, auc\n",
    "from sklearn.inspection import (partial_dependence, PartialDependenceDisplay, permutation_importance)\n"
   ]
  },
  {
   "cell_type": "markdown",
   "metadata": {},
   "source": [
    "#### knn"
   ]
  },
  {
   "cell_type": "code",
   "execution_count": 23,
   "metadata": {},
   "outputs": [],
   "source": [
    "train_set = df_normalizado\n",
    "labels = np.array(label_stats, dtype=int)\n",
    "X_train, X_test, y_train, y_test = train_test_split(train_set, labels, test_size=0.3, random_state=30)"
   ]
  },
  {
   "cell_type": "code",
   "execution_count": 24,
   "metadata": {},
   "outputs": [
    {
     "name": "stdout",
     "output_type": "stream",
     "text": [
      "auc = 0.991591047189687\n",
      "acc = 0.9490067753235584\n",
      "f1 = 0.9442958738494482\n",
      "recall = 0.9461815087771754\n"
     ]
    }
   ],
   "source": [
    "k_nearest_neighbors = KNeighborsClassifier(n_neighbors=5, metric=\"minkowski\", weights=\"uniform\")\n",
    "\n",
    "k_nearest_neighbors.fit(X_train, y_train.ravel())\n",
    "\n",
    "y_pred_knn = k_nearest_neighbors.predict(X_test)\n",
    "f1score   = f1_score        (y_test, y_pred_knn, average = 'macro')\n",
    "recall    = recall_score    (y_test, y_pred_knn, average = 'macro')\n",
    "accuracy  = accuracy_score  (y_test, y_pred_knn)\n",
    "AUC       = roc_auc_score   (y_test.ravel(), k_nearest_neighbors.predict_proba(X_test), multi_class='ovr')\n",
    "\n",
    "print('auc =', AUC)\n",
    "print('acc =', accuracy)\n",
    "print('f1 =', f1score)\n",
    "print('recall =', recall)"
   ]
  },
  {
   "cell_type": "markdown",
   "metadata": {},
   "source": [
    "#### Logistic Regression"
   ]
  },
  {
   "cell_type": "code",
   "execution_count": 25,
   "metadata": {},
   "outputs": [
    {
     "name": "stdout",
     "output_type": "stream",
     "text": [
      "auc = 0.7752635523657919\n",
      "acc = 0.47582489039917775\n",
      "f1 = 0.12896513495458875\n",
      "recall = 0.2\n"
     ]
    }
   ],
   "source": [
    "logistic_regression = LogisticRegression(penalty=\"l2\", C=1.0, max_iter=999)\n",
    "\n",
    "logistic_regression.fit(X_train, y_train.ravel())\n",
    "\n",
    "y_pred_lr = logistic_regression.predict(X_test)\n",
    "f1score   = f1_score        (y_test, y_pred_lr, average = 'macro')\n",
    "recall    = recall_score    (y_test, y_pred_lr, average = 'macro')\n",
    "accuracy  = accuracy_score  (y_test, y_pred_lr)\n",
    "AUC       = roc_auc_score   (y_test.ravel(), logistic_regression.predict_proba(X_test), multi_class='ovr')\n",
    "\n",
    "print('auc =', AUC)\n",
    "print('acc =', accuracy)\n",
    "print('f1 =', f1score)\n",
    "print('recall =', recall)"
   ]
  },
  {
   "cell_type": "markdown",
   "metadata": {},
   "source": [
    "#### neural network"
   ]
  },
  {
   "cell_type": "code",
   "execution_count": 26,
   "metadata": {},
   "outputs": [
    {
     "name": "stdout",
     "output_type": "stream",
     "text": [
      "auc = 0.9297538571309463\n",
      "acc = 0.6785601913032534\n",
      "f1 = 0.44025083380629304\n",
      "recall = 0.4465957140507137\n"
     ]
    },
    {
     "name": "stderr",
     "output_type": "stream",
     "text": [
      "c:\\Users\\luiza\\AppData\\Local\\Programs\\Python\\Python310\\lib\\site-packages\\sklearn\\neural_network\\_multilayer_perceptron.py:702: ConvergenceWarning: Stochastic Optimizer: Maximum iterations (999) reached and the optimization hasn't converged yet.\n",
      "  warnings.warn(\n"
     ]
    }
   ],
   "source": [
    "neural_network = MLPClassifier(hidden_layer_sizes=(100,), activation=\"relu\", solver=\"adam\", max_iter=999)\n",
    "\n",
    "neural_network.fit(X_train, y_train.ravel())\n",
    "\n",
    "y_pred_nn = neural_network.predict(X_test)\n",
    "f1score   = f1_score        (y_test, y_pred_nn, average = 'macro')\n",
    "recall    = recall_score    (y_test, y_pred_nn, average = 'macro')\n",
    "accuracy  = accuracy_score  (y_test, y_pred_nn)\n",
    "AUC       = roc_auc_score   (y_test.ravel(), neural_network.predict_proba(X_test), multi_class='ovr')\n",
    "\n",
    "print('auc =', AUC)\n",
    "print('acc =', accuracy)\n",
    "print('f1 =', f1score)\n",
    "print('recall =', recall) "
   ]
  },
  {
   "cell_type": "markdown",
   "metadata": {},
   "source": [
    "#### RF"
   ]
  },
  {
   "cell_type": "code",
   "execution_count": 27,
   "metadata": {},
   "outputs": [
    {
     "name": "stdout",
     "output_type": "stream",
     "text": [
      "auc = 0.999576967157681\n",
      "acc = 0.9834077989637741\n",
      "f1 = 0.9820632537896501\n",
      "recall = 0.9835370571542669\n"
     ]
    }
   ],
   "source": [
    "\n",
    "#clf = RandomForestClassifier(random_state=42, n_estimators=50, n_jobs=-1)\n",
    "clf = RandomForestClassifier(n_estimators=100,max_depth=15)\n",
    "clf.fit(X_train, y_train.ravel())\n",
    "y_pred_rf = clf.predict(X_test)\n",
    "\n",
    "f1score   = f1_score        (y_test, y_pred_rf, average = 'macro')\n",
    "recall    = recall_score    (y_test, y_pred_rf, average = 'macro')\n",
    "accuracy  = accuracy_score  (y_test, y_pred_rf)\n",
    "AUC       = roc_auc_score   (y_test.ravel(), clf.predict_proba(X_test), multi_class='ovr')\n",
    "\n",
    "print('auc =', AUC)\n",
    "print('acc =', accuracy)\n",
    "print('f1 =', f1score)\n",
    "print('recall =', recall)"
   ]
  },
  {
   "cell_type": "markdown",
   "metadata": {},
   "source": [
    "#### SVM"
   ]
  },
  {
   "cell_type": "code",
   "execution_count": 28,
   "metadata": {},
   "outputs": [
    {
     "name": "stderr",
     "output_type": "stream",
     "text": [
      "c:\\Users\\luiza\\AppData\\Local\\Programs\\Python\\Python310\\lib\\site-packages\\sklearn\\svm\\_base.py:301: ConvergenceWarning: Solver terminated early (max_iter=9999).  Consider pre-processing your data with StandardScaler or MinMaxScaler.\n",
      "  warnings.warn(\n"
     ]
    },
    {
     "name": "stdout",
     "output_type": "stream",
     "text": [
      "auc = 0.8163263604204591\n",
      "acc = 0.3615044154972416\n",
      "f1 = 0.2956723635708373\n",
      "recall = 0.3939929898922237\n"
     ]
    }
   ],
   "source": [
    "support_vector_machine = SVC(C=1.0, gamma=0.1, kernel=\"linear\", tol=0.001, max_iter=9999, probability=True)\n",
    "support_vector_machine.fit(X_train, y_train.ravel())\n",
    "y_pred_svm = support_vector_machine.predict(X_test)\n",
    "\n",
    "f1score   = f1_score        (y_test, y_pred_svm, average = 'macro')\n",
    "recall    = recall_score    (y_test, y_pred_svm, average = 'macro')\n",
    "accuracy  = accuracy_score  (y_test, y_pred_svm)\n",
    "AUC       = roc_auc_score   (y_test.ravel(), support_vector_machine.predict_proba(X_test), multi_class='ovr')\n",
    "\n",
    "print('auc =', AUC)\n",
    "print('acc =', accuracy)\n",
    "print('f1 =', f1score)\n",
    "print('recall =', recall) "
   ]
  },
  {
   "cell_type": "code",
   "execution_count": 29,
   "metadata": {},
   "outputs": [
    {
     "data": {
      "image/png": "[encoded data removed]",
      "text/plain": [
       "<Figure size 640x480 with 1 Axes>"
      ]
     },
     "metadata": {},
     "output_type": "display_data"
    }
   ],
   "source": [
    "# -- feature importance graph\n",
    "importances = clf.feature_importances_\n",
    "indices = np.argsort(importances)\n",
    "features = train_set.columns\n",
    "plt.title('Feature Importances')\n",
    "j = 9   # top j importance\n",
    "plt.barh(range(j), importances[indices][len(indices)-j:], color='g', align='center')\n",
    "plt.yticks(range(j), [features[i] for i in indices[len(indices)-j:]])\n",
    "plt.xlabel('Relative Importance')\n",
    "plt.show()"
   ]
  },
  {
   "cell_type": "code",
   "execution_count": 30,
   "metadata": {},
   "outputs": [
    {
     "data": {
      "image/png": "[encoded data removed]",
      "text/plain": [
       "<Figure size 640x480 with 1 Axes>"
      ]
     },
     "metadata": {},
     "output_type": "display_data"
    }
   ],
   "source": [
    "num_execucoes = 100\n",
    "importancias_medias = np.zeros(X_train.shape[1])  # Lista para armazenar as importâncias médias das características\n",
    "\n",
    "for _ in range(num_execucoes):\n",
    "    clf = RandomForestClassifier(n_estimators=50, n_jobs=-1, random_state=None) \n",
    "    clf.fit(X_train, y_train.ravel()) \n",
    "    \n",
    "    importancias = clf.feature_importances_\n",
    "    importancias_medias += importancias\n",
    "\n",
    "importancias_medias /= num_execucoes # Calcular a média das importâncias das características\n",
    "\n",
    "indices = np.argsort(importancias_medias)\n",
    "plt.title('Média das Importâncias das Características')\n",
    "j = 9   # top j importância\n",
    "plt.barh(range(j), importancias_medias[indices][len(indices)-j:], color='g', align='center')\n",
    "plt.yticks(range(j), [features[i] for i in indices[len(indices)-j:]])\n",
    "plt.xlabel('Importância Relativa Média')\n",
    "plt.show()"
   ]
  }
 ],
 "metadata": {
  "kernelspec": {
   "display_name": "Python 3",
   "language": "python",
   "name": "python3"
  },
  "language_info": {
   "codemirror_mode": {
    "name": "ipython",
    "version": 3
   },
   "file_extension": ".py",
   "mimetype": "text/x-python",
   "name": "python",
   "nbconvert_exporter": "python",
   "pygments_lexer": "ipython3",
   "version": "3.10.6"
  }
 },
 "nbformat": 4,
 "nbformat_minor": 2
}
